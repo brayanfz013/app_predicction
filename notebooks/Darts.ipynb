{
 "cells": [
  {
   "cell_type": "code",
   "execution_count": 1,
   "id": "93e4efa4-46c7-406a-9559-3b7c42781239",
   "metadata": {
    "tags": []
   },
   "outputs": [],
   "source": [
    "import os\n",
    "import sys \n",
    "\n",
    "path_folder = '/home/bdebian/Documents/Projects/Stoke_prediccition/app_prediction/'\n",
    "omitir = ''\n",
    "\n",
    "\n",
    "def search_subfolders(path:str):\n",
    "    '''Funcion para agregar rutas al path de ejecucion'''\n",
    "    folder = []\n",
    "    for root, dirs, _ in os.walk(path, topdown=False):\n",
    "        for name in dirs:\n",
    "            if name == omitir:\n",
    "                print(f\"[INFO] carpeta omitida: {name}\")\n",
    "            else:\n",
    "                folder.append(os.path.join(root, name))\n",
    "    return folder\n",
    "\n",
    "\n",
    "for i in search_subfolders(path_folder):\n",
    "    sys.path.insert(0, i)\n"
   ]
  },
  {
   "cell_type": "code",
   "execution_count": 2,
   "id": "0c7f8578-b4c2-415f-bc9c-9bf4807b28c8",
   "metadata": {
    "tags": []
   },
   "outputs": [
    {
     "name": "stdout",
     "output_type": "stream",
     "text": [
      "attempted relative import with no known parent package\n"
     ]
    }
   ],
   "source": [
    "import numpy as np\n",
    "import pandas as pd\n",
    "from scipy import stats\n",
    "import json\n",
    "from factory_data import get_data, SQLDataSourceFactory\n",
    "from factory_models import ModelContext, Modelos\n",
    "from args_data_model import (\n",
    "    ModelRNN,\n",
    "    ModelBlockRNN,\n",
    "    ModelExponentialSmoothing,\n",
    "    ModelTCNModel,\n",
    "    ModelFFT,\n",
    "    ModelTransformerModel,\n",
    "    ModelNBEATSModel,\n",
    "    ModelDLinearModel,\n",
    "    ModelNlinearModel,\n",
    "    ModelTFTModel\n",
    ")"
   ]
  },
  {
   "cell_type": "code",
   "execution_count": 3,
   "id": "8aae067a-de8c-455f-90e7-2129f5b47006",
   "metadata": {
    "tags": []
   },
   "outputs": [
    {
     "name": "stdout",
     "output_type": "stream",
     "text": [
      "Probando el estacion de datos de sql\n"
     ]
    }
   ],
   "source": [
    "CONFIG_FILE = \"/home/bdebian/Documents/Projects/Stoke_prediccition/app_prediction/src/data/parameter/data_params_run.json\"\n",
    "\n",
    "with open(CONFIG_FILE, 'r', encoding='utf-8') as file:\n",
    "    parameters = json.load(file)\n",
    "\n",
    "print(\"Probando el estacion de datos de sql\")\n",
    "data_postgrest = get_data(SQLDataSourceFactory(**parameters))"
   ]
  },
  {
   "cell_type": "code",
   "execution_count": 4,
   "id": "9fd80010-92a6-4344-a39b-f621b9073ec8",
   "metadata": {
    "tags": []
   },
   "outputs": [],
   "source": [
    "with open(parameters['names_table_columns'] , 'r', encoding='utf-8') as file:\n",
    "    names = json.load(file)\n",
    "\n",
    "names['columns'] = list(names['columns'].values())"
   ]
  },
  {
   "cell_type": "code",
   "execution_count": 5,
   "id": "ef1c6b0a-c9ed-4893-995e-97c28db8f811",
   "metadata": {
    "tags": []
   },
   "outputs": [],
   "source": [
    "data_for_process = pd.DataFrame(data_postgrest,columns=names['columns'])"
   ]
  },
  {
   "cell_type": "code",
   "execution_count": 6,
   "id": "0bd4c689-ade8-476b-9cb3-d71a58088584",
   "metadata": {
    "tags": []
   },
   "outputs": [
    {
     "data": {
      "text/html": [
       "<div>\n",
       "<style scoped>\n",
       "    .dataframe tbody tr th:only-of-type {\n",
       "        vertical-align: middle;\n",
       "    }\n",
       "\n",
       "    .dataframe tbody tr th {\n",
       "        vertical-align: top;\n",
       "    }\n",
       "\n",
       "    .dataframe thead th {\n",
       "        text-align: right;\n",
       "    }\n",
       "</style>\n",
       "<table border=\"1\" class=\"dataframe\">\n",
       "  <thead>\n",
       "    <tr style=\"text-align: right;\">\n",
       "      <th></th>\n",
       "      <th>Fecha Creación</th>\n",
       "      <th>Material (Cod)</th>\n",
       "      <th>Peso neto (TON)</th>\n",
       "      <th>Solicitate (Cod)</th>\n",
       "      <th>Cant Pedido UMV</th>\n",
       "      <th>Valor Neto</th>\n",
       "    </tr>\n",
       "  </thead>\n",
       "  <tbody>\n",
       "    <tr>\n",
       "      <th>0</th>\n",
       "      <td>2022-01-01</td>\n",
       "      <td>10011308.000</td>\n",
       "      <td>10.000</td>\n",
       "      <td>0004155696</td>\n",
       "      <td>200.0</td>\n",
       "      <td>3,844.5</td>\n",
       "    </tr>\n",
       "    <tr>\n",
       "      <th>1</th>\n",
       "      <td>2022-01-02</td>\n",
       "      <td>10011308.000</td>\n",
       "      <td>10.000</td>\n",
       "      <td>0004158888</td>\n",
       "      <td>200.0</td>\n",
       "      <td>3,939.1</td>\n",
       "    </tr>\n",
       "    <tr>\n",
       "      <th>2</th>\n",
       "      <td>2022-01-03</td>\n",
       "      <td>10059053.000</td>\n",
       "      <td>34.190</td>\n",
       "      <td>0004151082</td>\n",
       "      <td>34.2</td>\n",
       "      <td>11,863.9</td>\n",
       "    </tr>\n",
       "    <tr>\n",
       "      <th>3</th>\n",
       "      <td>2022-01-03</td>\n",
       "      <td>10059053.000</td>\n",
       "      <td>33.330</td>\n",
       "      <td>0004139983</td>\n",
       "      <td>33.3</td>\n",
       "      <td>11,346.9</td>\n",
       "    </tr>\n",
       "    <tr>\n",
       "      <th>4</th>\n",
       "      <td>2022-01-03</td>\n",
       "      <td>10059053.000</td>\n",
       "      <td>33.610</td>\n",
       "      <td>0004150188</td>\n",
       "      <td>33.6</td>\n",
       "      <td>11,662.7</td>\n",
       "    </tr>\n",
       "  </tbody>\n",
       "</table>\n",
       "</div>"
      ],
      "text/plain": [
       "  Fecha Creación Material (Cod) Peso neto (TON) Solicitate (Cod)  \\\n",
       "0     2022-01-01   10011308.000          10.000       0004155696   \n",
       "1     2022-01-02   10011308.000          10.000       0004158888   \n",
       "2     2022-01-03   10059053.000          34.190       0004151082   \n",
       "3     2022-01-03   10059053.000          33.330       0004139983   \n",
       "4     2022-01-03   10059053.000          33.610       0004150188   \n",
       "\n",
       "  Cant Pedido UMV Valor Neto  \n",
       "0           200.0    3,844.5  \n",
       "1           200.0    3,939.1  \n",
       "2            34.2   11,863.9  \n",
       "3            33.3   11,346.9  \n",
       "4            33.6   11,662.7  "
      ]
     },
     "execution_count": 6,
     "metadata": {},
     "output_type": "execute_result"
    }
   ],
   "source": [
    "data_for_process.head()"
   ]
  },
  {
   "cell_type": "code",
   "execution_count": 7,
   "id": "e74ffb25-0866-4cc0-abca-1087e0afe294",
   "metadata": {
    "tags": []
   },
   "outputs": [],
   "source": [
    "#Reempplazo de los tipo de datos por lo cuales \n",
    "#se va a cambiar el dataframe\n",
    "new_types =[np.datetime64,int,int,'object',int,int]\n",
    "\n",
    "#Estrategias para imputar los datos faltantes de NA \n",
    "strategy = {\n",
    "    int:np.mean,\n",
    "    float:np.mean,\n",
    "    object:stats.mode\n",
    "}\n",
    "\n",
    "#metodo para transformar los tipo de datos\n",
    "replace = {\n",
    "    int:lambda x: int(float(x.replace(',',''))),\n",
    "    float:lambda x: float(x.replace(',',''))\n",
    "}"
   ]
  },
  {
   "cell_type": "code",
   "execution_count": 8,
   "id": "346c2195-bf9e-47e6-887b-7c29ab395d68",
   "metadata": {
    "tags": []
   },
   "outputs": [],
   "source": [
    "# from features_fix_data import ColumnsNameHandler,PrepareData\n",
    "\n",
    "# HandleData = PrepareData(data_for_process)\n",
    "\n",
    "# dict_update,trans_col = HandleData.get_dtypes_columns_update(new_types)\n",
    "\n",
    "# HandleData.apply_transformations(trans_col,replace)\n",
    "\n",
    "# HandleData.fill_na_columns(strategy)\n",
    "\n",
    "# HandleData.update_dtypes(trans_col)"
   ]
  },
  {
   "cell_type": "code",
   "execution_count": 9,
   "id": "0bc210aa-2fd2-4d1d-b76d-5e9455107139",
   "metadata": {
    "tags": []
   },
   "outputs": [],
   "source": [
    "from factory_prepare_data import DataCleaner,MeanImputation"
   ]
  },
  {
   "cell_type": "code",
   "execution_count": 20,
   "id": "59d51ce6-e5e1-45e8-8bf9-693e384196bd",
   "metadata": {
    "tags": []
   },
   "outputs": [],
   "source": [
    "imputation = MeanImputation(\n",
    "    replace_dtypes=new_types,\n",
    "    strategy_imputation=strategy,\n",
    "    preprocess_function=replace\n",
    ")\n",
    "\n",
    "cleaner = DataCleaner(imputation)\n",
    "data_for_process = cleaner.clean(data_for_process)"
   ]
  },
  {
   "cell_type": "code",
   "execution_count": 26,
   "id": "fedc4340-db31-4a70-8f42-7a162f2fff4a",
   "metadata": {
    "tags": []
   },
   "outputs": [],
   "source": [
    "CLIENTE = 4151082"
   ]
  },
  {
   "cell_type": "code",
   "execution_count": 27,
   "id": "e7c2ff3d-22dc-4dc6-b11d-154470683c54",
   "metadata": {
    "tags": []
   },
   "outputs": [],
   "source": [
    "COL_FEATURE ='Solicitate (Cod)'"
   ]
  },
  {
   "cell_type": "code",
   "execution_count": 29,
   "id": "cb57746b-82ca-4854-be25-03ac9c43adba",
   "metadata": {
    "tags": []
   },
   "outputs": [
    {
     "ename": "TypeError",
     "evalue": "'in <string>' requires string as left operand, not Series",
     "output_type": "error",
     "traceback": [
      "\u001b[0;31m---------------------------------------------------------------------------\u001b[0m",
      "\u001b[0;31mTypeError\u001b[0m                                 Traceback (most recent call last)",
      "Cell \u001b[0;32mIn[29], line 1\u001b[0m\n\u001b[0;32m----> 1\u001b[0m data_for_process\u001b[38;5;241m.\u001b[39mdataframe[\u001b[43mdata_for_process\u001b[49m\u001b[38;5;241;43m.\u001b[39;49m\u001b[43mdataframe\u001b[49m\u001b[43m[\u001b[49m\u001b[43mCOL_FEATURE\u001b[49m\u001b[43m]\u001b[49m\u001b[43m \u001b[49m\u001b[38;5;129;43;01min\u001b[39;49;00m\u001b[43m \u001b[49m\u001b[38;5;28;43mstr\u001b[39;49m\u001b[43m(\u001b[49m\u001b[43mCLIENTE\u001b[49m\u001b[43m)\u001b[49m]\n",
      "\u001b[0;31mTypeError\u001b[0m: 'in <string>' requires string as left operand, not Series"
     ]
    }
   ],
   "source": [
    "data_for_process.dataframe[data_for_process.dataframe[COL_FEATURE] in str(CLIENTE)]"
   ]
  },
  {
   "cell_type": "code",
   "execution_count": 39,
   "id": "a93fe7d4-bf1d-4e04-be98-363e26ff5dba",
   "metadata": {
    "tags": []
   },
   "outputs": [
    {
     "data": {
      "text/plain": [
       "True"
      ]
     },
     "execution_count": 39,
     "metadata": {},
     "output_type": "execute_result"
    }
   ],
   "source": [
    "str(CLIENTE)  in data_for_process.dataframe['Solicitate (Cod)'][2]"
   ]
  },
  {
   "cell_type": "code",
   "execution_count": null,
   "id": "93902411-ae9c-464e-8c81-368bea1d7638",
   "metadata": {},
   "outputs": [],
   "source": []
  }
 ],
 "metadata": {
  "kernelspec": {
   "display_name": "Python 3 (ipykernel)",
   "language": "python",
   "name": "python3"
  },
  "language_info": {
   "codemirror_mode": {
    "name": "ipython",
    "version": 3
   },
   "file_extension": ".py",
   "mimetype": "text/x-python",
   "name": "python",
   "nbconvert_exporter": "python",
   "pygments_lexer": "ipython3",
   "version": "3.10.0"
  }
 },
 "nbformat": 4,
 "nbformat_minor": 5
}
