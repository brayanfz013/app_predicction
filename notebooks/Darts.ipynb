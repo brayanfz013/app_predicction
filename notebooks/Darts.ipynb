{
 "cells": [
  {
   "cell_type": "code",
   "execution_count": 1,
   "id": "28f3ddf2-a324-49b6-8039-cd0746df2064",
   "metadata": {
    "tags": []
   },
   "outputs": [],
   "source": [
    "%matplotlib inline\n",
    "\n",
    "import warnings\n",
    "\n",
    "warnings.filterwarnings(\"ignore\")\n",
    "\n",
    "import os\n",
    "import time\n",
    "import random\n",
    "import pandas as pd\n",
    "import pickle\n",
    "import numpy as np\n",
    "from tqdm.auto import tqdm\n",
    "from datetime import datetime\n",
    "from itertools import product\n",
    "import torch\n",
    "from torch import nn\n",
    "from typing import List, Tuple, Dict\n",
    "from sklearn.preprocessing import MaxAbsScaler\n",
    "from sklearn.linear_model import Ridge\n",
    "import matplotlib.pyplot as plt\n",
    "\n",
    "from darts import TimeSeries\n",
    "from darts.utils.losses import SmapeLoss\n",
    "from darts.dataprocessing.transformers import Scaler\n",
    "from darts.metrics import smape\n",
    "from darts.utils.utils import SeasonalityMode, TrendMode, ModelMode\n",
    "from darts.models import *"
   ]
  },
  {
   "cell_type": "code",
   "execution_count": 2,
   "id": "1f9a1037-fbe2-4852-aaf7-02ca4a3500fd",
   "metadata": {
    "tags": []
   },
   "outputs": [],
   "source": [
    "HORIZON = 18"
   ]
  },
  {
   "cell_type": "code",
   "execution_count": 3,
   "id": "f301dc1e-aedb-4a82-b07a-60608728cfff",
   "metadata": {
    "tags": []
   },
   "outputs": [],
   "source": [
    "def eval_local_model(\n",
    "    train_series: List[TimeSeries], test_series: List[TimeSeries], model_cls, **kwargs\n",
    ") -> Tuple[List[float], float]:\n",
    "    preds = []\n",
    "    start_time = time.time()\n",
    "    for series in tqdm(train_series):\n",
    "        model = model_cls(**kwargs)\n",
    "        model.fit(series)\n",
    "        pred = model.predict(n=HORIZON)\n",
    "        preds.append(pred)\n",
    "    elapsed_time = time.time() - start_time\n",
    "\n",
    "    smapes = eval_forecasts(preds, test_series)\n",
    "    return smapes, elapsed_time"
   ]
  },
  {
   "cell_type": "code",
   "execution_count": null,
   "id": "6a2c5f87-3b9d-476c-8e76-dd411e489966",
   "metadata": {},
   "outputs": [],
   "source": []
  }
 ],
 "metadata": {
  "kernelspec": {
   "display_name": "Python 3 (ipykernel)",
   "language": "python",
   "name": "python3"
  },
  "language_info": {
   "codemirror_mode": {
    "name": "ipython",
    "version": 3
   },
   "file_extension": ".py",
   "mimetype": "text/x-python",
   "name": "python",
   "nbconvert_exporter": "python",
   "pygments_lexer": "ipython3",
   "version": "3.10.0"
  }
 },
 "nbformat": 4,
 "nbformat_minor": 5
}
