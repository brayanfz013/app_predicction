{
 "cells": [
  {
   "cell_type": "code",
   "execution_count": 1,
   "id": "240a0d55-de51-4f1a-b76b-eb5c74908210",
   "metadata": {},
   "outputs": [
    {
     "name": "stdout",
     "output_type": "stream",
     "text": [
      "attempted relative import with no known parent package\n"
     ]
    }
   ],
   "source": [
    "import os\n",
    "import sys\n",
    "import yaml\n",
    "import numpy as np\n",
    "from pathlib import Path\n",
    "from scipy import stats\n",
    "path_folder = '/home/bdebian/Documents/Projects/Stoke_prediccition/app_prediction/'\n",
    "omitir = ''\n",
    "\n",
    "def search_subfolders(path:str):\n",
    "    '''Funcion para agregar rutas al path de ejecucion'''\n",
    "    folder = []\n",
    "    for root, dirs, _ in os.walk(path, topdown=False):\n",
    "        for name in dirs:\n",
    "            if name == omitir:\n",
    "                print(f\"[INFO] carpeta omitida: {name}\")\n",
    "            else:\n",
    "                folder.append(os.path.join(root, name))\n",
    "    return folder\n",
    "\n",
    "\n",
    "for i in search_subfolders(path_folder):\n",
    "    sys.path.insert(0, i)\n",
    "\n",
    "from class_load import LoadFiles\n",
    "from factory_data import SQLDataSourceFactory, get_data, HandleRedis\n",
    "from factory_models import ModelContext  # , Modelos, Parameters_model\n",
    "from factory_prepare_data import (DataCleaner, DataModel,\n",
    "                                          MeanImputation, OutliersToIQRMean)\n",
    "from features_fix_data import PrepareData\n",
    "\n",
    "import pandas as pd\n",
    "from DP_model import Modelos,Parameters_model\n",
    "from args_data_model import Parameters\n"
   ]
  },
  {
   "cell_type": "code",
   "execution_count": 2,
   "id": "7adb82db-47f8-4af3-939f-a4375b2cec2f",
   "metadata": {},
   "outputs": [],
   "source": [
    "from matplotlib import pyplot as plt\n",
    "from matplotlib import cm\n",
    "from darts.metrics import mape, r2_score, mse,mase,rmse,rho_risk, smape\n",
    "def display_forecast(pred_series, ts_transformed, forecast_type, start_date=None):\n",
    "    plt.figure(figsize=(8, 5))\n",
    "    if start_date:\n",
    "        ts_transformed = ts_transformed.drop_before(start_date)\n",
    "    ts_transformed.univariate_component(0).plot(label=\"actual\")\n",
    "    pred_series.plot(label=(\"historic \" + forecast_type + \" forecasts\"))\n",
    "    plt.title(\n",
    "        \"R2: {}\".format(r2_score(ts_transformed.univariate_component(0), pred_series))\n",
    "    )\n",
    "    plt.legend()"
   ]
  },
  {
   "cell_type": "code",
   "execution_count": 3,
   "id": "e310868d",
   "metadata": {},
   "outputs": [
    {
     "name": "stdout",
     "output_type": "stream",
     "text": [
      "(910051, 4)\n"
     ]
    }
   ],
   "source": [
    "\n",
    "handler_load = LoadFiles()\n",
    "handler_redis = HandleRedis()\n",
    "# ruta_actual = os.path.dirname(__file__)\n",
    "ruta_actual = \"/home/bdebian/Documents/Projects/Stoke_prediccition/app_prediction\"\n",
    "# =================================================================\n",
    "#             Cargar datos de la fuente de datos\n",
    "# =================================================================\n",
    "\n",
    "CONFIG_FILE = ruta_actual+'/src/data/config/config.yaml'\n",
    "with open(CONFIG_FILE, 'r', encoding='utf-8') as file:\n",
    "    parameters = yaml.safe_load(file)\n",
    "\n",
    "parametros = Parameters(**parameters)\n",
    "\n",
    "# Interacion para hacer un cache de los datos en redis\n",
    "try:\n",
    "    data = handler_redis.set_cache_data(\n",
    "        hash_name=parametros.query_template['table'],\n",
    "        old_dataframe=None,\n",
    "        new_dataframe=None,\n",
    "        exp_time=parametros.exp_time_cache,\n",
    "        config=parametros.connection_data_source\n",
    "    )\n",
    "    # Verificar que existieran datos en cache\n",
    "    if data is None:\n",
    "        # #Peticion de la API\n",
    "        # url  = 'http://192.168.115.99:3333/getinvoices'\n",
    "        # response = requests.get(url)\n",
    "\n",
    "        # if response.status_code == 200:\n",
    "        #     invoices  = response.json()\n",
    "        # else:\n",
    "        #     print(response.status_code)\n",
    "\n",
    "        # data = pd.DataFrame(invoices)\n",
    "        # filter_cols = list(parameters['query_template']['columns'].values())\n",
    "        # data = data[filter_cols]\n",
    "\n",
    "        data = get_data(SQLDataSourceFactory(**parameters))\n",
    "\n",
    "        data = handler_redis.set_cache_data(\n",
    "            hash_name=parametros.query_template['table'],\n",
    "            old_dataframe=data,\n",
    "            new_dataframe=None,\n",
    "            exp_time=parametros.exp_time_cache,\n",
    "            config=parametros.connection_data_source\n",
    "        )\n",
    "except ValueError as error:\n",
    "    print(\"[ERROR] No se puede hacer un cache de la fuente de datos\")\n",
    "# 910051 rows x 4 columns\n",
    "\n",
    "print(data.shape)"
   ]
  },
  {
   "cell_type": "code",
   "execution_count": 4,
   "id": "dc34337f-6cb2-462c-9c4e-ffcc7e39417e",
   "metadata": {},
   "outputs": [],
   "source": [
    "#=================================================================\n",
    "#             Limpieza de datos\n",
    "#=================================================================\n",
    "# Nuevos datos para reemplazar en las columnas\n",
    "new_types = []\n",
    "base = {\n",
    "    'date': np.datetime64,\n",
    "    'integer': int,\n",
    "    'float': float,\n",
    "    'string': object,\n",
    "}\n",
    "\n",
    "for dtypo in parameters['type_data'].values():\n",
    "    # print(dtypo)\n",
    "    new_types.append(base[dtypo])\n",
    "\n",
    "# metodo para transformar los tipo de datos\n",
    "strategy = {\n",
    "    int: np.mean,\n",
    "    float: np.mean,\n",
    "    object: stats.mode\n",
    "}\n",
    "\n",
    "# Estrategias para imputar los datos faltantes de NA\n",
    "replace = {\n",
    "    int: lambda x: int(float(x.replace(',', ''))),\n",
    "    float: lambda x: float(x.replace(',', '')),\n",
    "    object: lambda x: x.strip()\n",
    "}\n",
    "\n",
    "#Imputacion de los datos\n",
    "imputation = MeanImputation(\n",
    "                            replace_dtypes=new_types,\n",
    "                            strategy_imputation=strategy,\n",
    "                            preprocess_function=replace,\n",
    "                            **parameters\n",
    "                            )\n",
    "#Remocion de outliners y seleccion de columnas\n",
    "outliners = OutliersToIQRMean(**parameters)\n",
    "\n",
    "#Preparacion de los dato para el modelos escalizado y filtrado\n",
    "data_for_model = DataModel(**parameters)\n",
    "\n",
    "#Patron de diseno de seleecion de estrategia\n",
    "cleaner = DataCleaner(imputation)\n",
    "data_imputation = cleaner.clean(data)\n",
    "\n",
    "#Cambio de estrategia para remover outliners\n",
    "cleaner.strategy = outliners\n",
    "data_filled = cleaner.clean(data_imputation.dataframe)\n",
    "\n",
    "#Cambio de estrategia para preparar los datos para modelo\n",
    "cleaner.strategy = data_for_model\n",
    "data_ready,scaler_data = cleaner.clean(data_filled)"
   ]
  },
  {
   "cell_type": "code",
   "execution_count": 5,
   "id": "4c31c53d-fb30-4d22-a3ab-933078b22ab4",
   "metadata": {
    "scrolled": true
   },
   "outputs": [
    {
     "name": "stdout",
     "output_type": "stream",
     "text": [
      "Modelo importado NBeatsModel\n"
     ]
    },
    {
     "name": "stderr",
     "output_type": "stream",
     "text": [
      "/home/bdebian/.virtualenvs/app_prediction/lib/python3.10/site-packages/pytorch_lightning/trainer/connectors/data_connector.py:432: PossibleUserWarning: The dataloader, predict_dataloader, does not have many workers which may be a bottleneck. Consider increasing the value of the `num_workers` argument` (try 16 which is the number of cpus on this machine) in the `DataLoader` init to improve performance.\n",
      "  rank_zero_warn(\n"
     ]
    },
    {
     "data": {
      "application/vnd.jupyter.widget-view+json": {
       "model_id": "17bf0b375f2d4a23a227995a7c4bfd2b",
       "version_major": 2,
       "version_minor": 0
      },
      "text/plain": [
       "Predicting: 0it [00:00, ?it/s]"
      ]
     },
     "metadata": {},
     "output_type": "display_data"
    }
   ],
   "source": [
    "#=================================================================\n",
    "#            Cargar modelo\n",
    "#=================================================================\n",
    "MODE_USED = 'NBeatsModel'\n",
    "modelo = ModelContext(model_name = MODE_USED,\n",
    "                      data=data_ready,\n",
    "                      split=83,\n",
    "                      **parameters)\n",
    "\n",
    "#Rutas de los parametros para predicciones\n",
    "model_train = modelo.save_path.joinpath('model').with_suffix('.pt').as_posix()\n",
    "scaler = modelo.save_path.joinpath('scaler').with_suffix('.pkl').as_posix()\n",
    "last_pred =  modelo.save_path.joinpath('previus').with_suffix('.json').as_posix()\n",
    "parameters_modelo = modelo.save_path.joinpath('parametros').with_suffix('.json').as_posix()\n",
    "\n",
    "\n",
    "#Cargar escaler\n",
    "scaler = handler_load.load_scaler(scaler)\n",
    "\n",
    "# #Cargar el ultimo punto de predicciones\n",
    "# last_prediction = handler_load.json_to_dict(last_pred)[0]\n",
    "# past, future = modelo.tunne_parameter.data.split_after(\n",
    "#     pd.Timestamp(last_prediction['last_date_pred']))\n",
    "# model_used_parameters = handler_load.json_to_dict(parameters_modelo)[0]\n",
    "\n",
    "#Cargar modelo para hacer las predicciones\n",
    "MODE_USED = 'NBeatsModel'\n",
    "IntModel = Modelos[MODE_USED]\n",
    "model_trained = IntModel.load(model_train)\n",
    "\n",
    "\n",
    "# pred_series = model_trained.predict(\n",
    "#     series=past,\n",
    "#     n = parameters['forecast_val']\n",
    "# )\n",
    "\n",
    "\n",
    "pred_series = modelo.predict(\n",
    "        model=model_trained,\n",
    "        data=modelo.tunne_parameter.data,\n",
    "        horizont=parameters['forecast_val']\n",
    "        )\n",
    "#Invertir predicciones\n",
    "pred_scale = scaler.inverse_transform(pred_series)"
   ]
  },
  {
   "cell_type": "code",
   "execution_count": 58,
   "id": "289c3122",
   "metadata": {},
   "outputs": [
    {
     "name": "stderr",
     "output_type": "stream",
     "text": [
      "/tmp/ipykernel_27803/2056121307.py:31: FutureWarning: The 'mad' method is deprecated and will be removed in a future version. To compute the same result, you may do `(df - df.mean()).abs().mean()`.\n",
      "  ['predict_column']].mad()\n"
     ]
    }
   ],
   "source": [
    "data_frame_predicciones = pred_scale.pd_dataframe()\n",
    "column_field = list(data_frame_predicciones.columns)\n",
    "# data_frame_predicciones['Varianza'] = data_frame_predicciones[column_field].pct_change()*100\n",
    "data_frame_predicciones.reset_index(inplace=True)\n",
    "data_frame_predicciones[parameters['filter_data']\n",
    "                        ['predict_column']].clip(lower=0, inplace=True)\n",
    "\n",
    "#Rango de valores Unidades\n",
    "range_ = data_frame_predicciones[parameters['filter_data']['predict_column']].max(\n",
    ") - data_frame_predicciones[parameters['filter_data']['predict_column']].min()\n",
    "\n",
    "#Varianza de los datos Unidades\n",
    "variance = data_frame_predicciones[parameters['filter_data']\n",
    "                                   ['predict_column']].var()\n",
    "#Desvicion estandasr Unidades\n",
    "std_dev = data_frame_predicciones[parameters['filter_data']\n",
    "                                  ['predict_column']].std()\n",
    "#Coeficiente de variacion %\n",
    "cv = std_dev / \\\n",
    "    data_frame_predicciones[parameters['filter_data']['predict_column']].mean()\n",
    "\n",
    "#Cuantiles Unidades\n",
    "q1 = data_frame_predicciones[parameters['filter_data']\n",
    "                             ['predict_column']].quantile(0.25)\n",
    "q3 = data_frame_predicciones[parameters['filter_data']\n",
    "                             ['predict_column']].quantile(0.75)\n",
    "iqr = q3 - q1\n",
    "\n",
    "#Desviacion media absoluta Unidades\n",
    "mad = data_frame_predicciones[parameters['filter_data']\n",
    "                              ['predict_column']].mad()\n",
    "\n",
    "# (df - df.mean()).abs().mean()"
   ]
  },
  {
   "cell_type": "code",
   "execution_count": 9,
   "id": "bae1e109-014c-4dc4-88ec-a7ce59a27e6c",
   "metadata": {
    "scrolled": true
   },
   "outputs": [
    {
     "data": {
      "image/png": "[encoded data removed]",
      "text/plain": [
       "<Figure size 800x500 with 1 Axes>"
      ]
     },
     "metadata": {},
     "output_type": "display_data"
    }
   ],
   "source": [
    "display_forecast(pred_series, modelo.tunne_parameter.data, \"7 day\", start_date=modelo.tunne_parameter.split_value)"
   ]
  },
  {
   "cell_type": "code",
   "execution_count": 70,
   "id": "28060af9-7b36-4a34-9d45-76ed06080e2a",
   "metadata": {},
   "outputs": [],
   "source": [
    "data_frame_predicciones = pred_scale.pd_dataframe()\n",
    "\n",
    "# data_frame_predicciones['varianza']abs\n",
    "data_frame_predicciones['Varianza'] = data_frame_predicciones['Cant Pedido UMV'].pct_change() * 100\n",
    "\n",
    "data_frame_predicciones.reset_index(inplace=True)"
   ]
  },
  {
   "cell_type": "code",
   "execution_count": 74,
   "id": "08b48e29-d496-4f93-9321-f306547dda9a",
   "metadata": {},
   "outputs": [],
   "source": [
    "filter = []\n",
    "for filter_list in parameters['filter_data']:\n",
    "    if 'feature' in filter_list:\n",
    "        filter.append(parameters['filter_data'][filter_list])\n",
    "\n",
    "for adding_data  in filter:\n",
    "    data_frame_predicciones[str(adding_data)] = adding_data\n",
    "\n",
    "new_names = list(parameters['query_template_write']['columns'].values())\n",
    "rename= {x:y for x,y in zip(list(data_frame_predicciones.columns),new_names)}\n",
    "\n",
    "data_frame_predicciones.rename(columns=rename,inplace=True)"
   ]
  },
  {
   "cell_type": "code",
   "execution_count": 75,
   "id": "262a1e1e-94d1-400c-8fc4-6c811c736a72",
   "metadata": {},
   "outputs": [
    {
     "data": {
      "text/html": [
       "<div>\n",
       "<style scoped>\n",
       "    .dataframe tbody tr th:only-of-type {\n",
       "        vertical-align: middle;\n",
       "    }\n",
       "\n",
       "    .dataframe tbody tr th {\n",
       "        vertical-align: top;\n",
       "    }\n",
       "\n",
       "    .dataframe thead th {\n",
       "        text-align: right;\n",
       "    }\n",
       "</style>\n",
       "<table border=\"1\" class=\"dataframe\">\n",
       "  <thead>\n",
       "    <tr style=\"text-align: right;\">\n",
       "      <th>component</th>\n",
       "      <th>Fecha</th>\n",
       "      <th>predicion</th>\n",
       "      <th>varianza</th>\n",
       "      <th>Material (Cod)</th>\n",
       "      <th>Solicitate (Cod)</th>\n",
       "    </tr>\n",
       "  </thead>\n",
       "  <tbody>\n",
       "    <tr>\n",
       "      <th>0</th>\n",
       "      <td>2023-03-11</td>\n",
       "      <td>327.784822</td>\n",
       "      <td>NaN</td>\n",
       "      <td>10011308</td>\n",
       "      <td>4177452</td>\n",
       "    </tr>\n",
       "    <tr>\n",
       "      <th>1</th>\n",
       "      <td>2023-03-12</td>\n",
       "      <td>9.715497</td>\n",
       "      <td>-97.036014</td>\n",
       "      <td>10011308</td>\n",
       "      <td>4177452</td>\n",
       "    </tr>\n",
       "    <tr>\n",
       "      <th>2</th>\n",
       "      <td>2023-03-13</td>\n",
       "      <td>418.827413</td>\n",
       "      <td>4210.921304</td>\n",
       "      <td>10011308</td>\n",
       "      <td>4177452</td>\n",
       "    </tr>\n",
       "    <tr>\n",
       "      <th>3</th>\n",
       "      <td>2023-03-14</td>\n",
       "      <td>126.734135</td>\n",
       "      <td>-69.740726</td>\n",
       "      <td>10011308</td>\n",
       "      <td>4177452</td>\n",
       "    </tr>\n",
       "    <tr>\n",
       "      <th>4</th>\n",
       "      <td>2023-03-15</td>\n",
       "      <td>221.939540</td>\n",
       "      <td>75.122148</td>\n",
       "      <td>10011308</td>\n",
       "      <td>4177452</td>\n",
       "    </tr>\n",
       "    <tr>\n",
       "      <th>5</th>\n",
       "      <td>2023-03-16</td>\n",
       "      <td>213.895659</td>\n",
       "      <td>-3.624357</td>\n",
       "      <td>10011308</td>\n",
       "      <td>4177452</td>\n",
       "    </tr>\n",
       "    <tr>\n",
       "      <th>6</th>\n",
       "      <td>2023-03-17</td>\n",
       "      <td>345.756961</td>\n",
       "      <td>61.647488</td>\n",
       "      <td>10011308</td>\n",
       "      <td>4177452</td>\n",
       "    </tr>\n",
       "    <tr>\n",
       "      <th>7</th>\n",
       "      <td>2023-03-18</td>\n",
       "      <td>658.486616</td>\n",
       "      <td>90.447826</td>\n",
       "      <td>10011308</td>\n",
       "      <td>4177452</td>\n",
       "    </tr>\n",
       "    <tr>\n",
       "      <th>8</th>\n",
       "      <td>2023-03-19</td>\n",
       "      <td>220.941006</td>\n",
       "      <td>-66.447153</td>\n",
       "      <td>10011308</td>\n",
       "      <td>4177452</td>\n",
       "    </tr>\n",
       "    <tr>\n",
       "      <th>9</th>\n",
       "      <td>2023-03-20</td>\n",
       "      <td>357.808434</td>\n",
       "      <td>61.947499</td>\n",
       "      <td>10011308</td>\n",
       "      <td>4177452</td>\n",
       "    </tr>\n",
       "    <tr>\n",
       "      <th>10</th>\n",
       "      <td>2023-03-21</td>\n",
       "      <td>101.849007</td>\n",
       "      <td>-71.535325</td>\n",
       "      <td>10011308</td>\n",
       "      <td>4177452</td>\n",
       "    </tr>\n",
       "    <tr>\n",
       "      <th>11</th>\n",
       "      <td>2023-03-22</td>\n",
       "      <td>76.743598</td>\n",
       "      <td>-24.649635</td>\n",
       "      <td>10011308</td>\n",
       "      <td>4177452</td>\n",
       "    </tr>\n",
       "    <tr>\n",
       "      <th>12</th>\n",
       "      <td>2023-03-23</td>\n",
       "      <td>642.215061</td>\n",
       "      <td>736.832098</td>\n",
       "      <td>10011308</td>\n",
       "      <td>4177452</td>\n",
       "    </tr>\n",
       "    <tr>\n",
       "      <th>13</th>\n",
       "      <td>2023-03-24</td>\n",
       "      <td>571.282234</td>\n",
       "      <td>-11.045027</td>\n",
       "      <td>10011308</td>\n",
       "      <td>4177452</td>\n",
       "    </tr>\n",
       "    <tr>\n",
       "      <th>14</th>\n",
       "      <td>2023-03-25</td>\n",
       "      <td>381.974987</td>\n",
       "      <td>-33.137254</td>\n",
       "      <td>10011308</td>\n",
       "      <td>4177452</td>\n",
       "    </tr>\n",
       "  </tbody>\n",
       "</table>\n",
       "</div>"
      ],
      "text/plain": [
       "component      Fecha   predicion     varianza  Material (Cod)  \\\n",
       "0         2023-03-11  327.784822          NaN        10011308   \n",
       "1         2023-03-12    9.715497   -97.036014        10011308   \n",
       "2         2023-03-13  418.827413  4210.921304        10011308   \n",
       "3         2023-03-14  126.734135   -69.740726        10011308   \n",
       "4         2023-03-15  221.939540    75.122148        10011308   \n",
       "5         2023-03-16  213.895659    -3.624357        10011308   \n",
       "6         2023-03-17  345.756961    61.647488        10011308   \n",
       "7         2023-03-18  658.486616    90.447826        10011308   \n",
       "8         2023-03-19  220.941006   -66.447153        10011308   \n",
       "9         2023-03-20  357.808434    61.947499        10011308   \n",
       "10        2023-03-21  101.849007   -71.535325        10011308   \n",
       "11        2023-03-22   76.743598   -24.649635        10011308   \n",
       "12        2023-03-23  642.215061   736.832098        10011308   \n",
       "13        2023-03-24  571.282234   -11.045027        10011308   \n",
       "14        2023-03-25  381.974987   -33.137254        10011308   \n",
       "\n",
       "component  Solicitate (Cod)  \n",
       "0                   4177452  \n",
       "1                   4177452  \n",
       "2                   4177452  \n",
       "3                   4177452  \n",
       "4                   4177452  \n",
       "5                   4177452  \n",
       "6                   4177452  \n",
       "7                   4177452  \n",
       "8                   4177452  \n",
       "9                   4177452  \n",
       "10                  4177452  \n",
       "11                  4177452  \n",
       "12                  4177452  \n",
       "13                  4177452  \n",
       "14                  4177452  "
      ]
     },
     "execution_count": 75,
     "metadata": {},
     "output_type": "execute_result"
    }
   ],
   "source": [
    "data_frame_predicciones"
   ]
  },
  {
   "cell_type": "code",
   "execution_count": 8,
   "id": "05f08289-117f-41ca-a9f7-89f7c1c9683a",
   "metadata": {},
   "outputs": [],
   "source": [
    "connection = parameters['connection_data_source']"
   ]
  },
  {
   "cell_type": "code",
   "execution_count": 9,
   "id": "a6e374e6-3a1b-4901-a6a0-005d0c2f0789",
   "metadata": {},
   "outputs": [],
   "source": [
    "# create_table(SQLDataSourceFactory(**parameters))"
   ]
  },
  {
   "cell_type": "code",
   "execution_count": 10,
   "id": "f9b75104-c6df-4208-b445-4142e5322ce9",
   "metadata": {},
   "outputs": [],
   "source": [
    "from features_postgres import HandleDBpsql"
   ]
  },
  {
   "cell_type": "code",
   "execution_count": 11,
   "id": "13e0840a-5823-4184-927e-aca947b57df0",
   "metadata": {},
   "outputs": [],
   "source": [
    "data_source = HandleDBpsql()"
   ]
  },
  {
   "cell_type": "code",
   "execution_count": 13,
   "id": "9eb1a9a2-c82f-46aa-a590-b13f03e98990",
   "metadata": {},
   "outputs": [],
   "source": [
    "conver_postgrest = {\n",
    "    'date': 'DATE',\n",
    "    'integer': 'NUMERIC(15,3)',\n",
    "    'float': 'DECIMAL(12,3)',\n",
    "    'string': 'VARCHAR(50)',\n",
    "}\n",
    "\n",
    "convert_value = {}\n",
    "for key_,val_ in parameters['type_data_out'].items():\n",
    "    convert_value[key_] = conver_postgrest[val_]\n",
    "\n",
    "# Aquí es donde construirás las declaraciones para las columnas.\n",
    "column_declarations = []\n",
    "\n",
    "# Obtén los nombres de las columnas y los tipos de datos del yaml.\n",
    "column_names = parameters['query_template_write']['columns']\n",
    "data_types = parameters['type_data_out']\n",
    "\n",
    "# Ahora, crea las declaraciones para las columnas usando los nombres y los tipos de datos.\n",
    "for i in range(len(column_names)):\n",
    "    column_name = column_names[str(i)]\n",
    "    data_type = data_types['column' + str(i)]\n",
    "    postgrest_type = conver_postgrest[data_type]\n",
    "    column_declarations.append(f'\"{column_name}\" {postgrest_type}')\n",
    "\n",
    "column_declarations_str = \",\\n\".join(column_declarations)\n",
    "\n",
    "fix_data_dict = parameters['query_template_write'].copy()\n",
    "fix_data_dict['columns'] = column_declarations_str\n",
    "# parametro.query_template_write['table'] = self.parametro.filter_data['filter_1_feature']"
   ]
  },
  {
   "cell_type": "code",
   "execution_count": 14,
   "id": "a7c9f1fd-39f8-4f0d-8869-9c1182347ad9",
   "metadata": {},
   "outputs": [],
   "source": [
    "query = data_source.prepare_query_replace_value(\n",
    "    sql_file=parameters['query']['query_create'],\n",
    "    data_replace=fix_data_dict)"
   ]
  },
  {
   "cell_type": "code",
   "execution_count": 15,
   "id": "0fab46fa-5297-4735-a874-ea9d98c0ff19",
   "metadata": {},
   "outputs": [
    {
     "data": {
      "text/plain": [
       "'CREATE TABLE prediction (     index serial PRIMARY KEY,     \"Fecha\" DATE,\\n\"predicion\" DECIMAL(12,3),\\n\"varianza\" DECIMAL(12,3),\\n\"Material (Cod)\" VARCHAR(50),\\n\"Solicitate (Cod)\" VARCHAR(50) ) '"
      ]
     },
     "execution_count": 15,
     "metadata": {},
     "output_type": "execute_result"
    }
   ],
   "source": [
    "query"
   ]
  },
  {
   "cell_type": "code",
   "execution_count": null,
   "id": "8a6cca5c-7f61-4847-8bf7-308281d48319",
   "metadata": {},
   "outputs": [],
   "source": [
    "fix_dict_query = data_source.fix_dict_query(\n",
    "    parameters['query_template_write']['table'],\n",
    "    list(parameters['query_template_write']['columns'].values()),\n",
    "    parameters['query_template_write']['order'],\n",
    "    parameters['query_template_write']['where']\n",
    ")\n",
    "\n",
    "query = data_source.prepare_query_replace_value(\n",
    "    sql_file=parameters['query']['query_write'],\n",
    "    data_replace=fix_dict_query)\n",
    "\n",
    "data_source.insert_data_from_dataframe(\n",
    "    connection_parameters=parameters['connection_data_source'],\n",
    "    dataframe=data_frame_predicciones,\n",
    "    query=query\n",
    ")"
   ]
  },
  {
   "cell_type": "code",
   "execution_count": 27,
   "id": "3f7d24bd-5e5e-4943-8ff8-31aaca4b3e85",
   "metadata": {},
   "outputs": [],
   "source": [
    "params = data_source.get_config_file(parameters['connection_data_source'])\n"
   ]
  },
  {
   "cell_type": "code",
   "execution_count": 30,
   "id": "ecb51496-4e7e-456b-8c89-232aa8eb882c",
   "metadata": {},
   "outputs": [],
   "source": [
    "import psycopg2"
   ]
  },
  {
   "cell_type": "code",
   "execution_count": 31,
   "id": "8a3e7caa-5cb8-42d8-99bb-7238b83b4cdb",
   "metadata": {},
   "outputs": [],
   "source": [
    "conn = psycopg2.connect(**params)"
   ]
  },
  {
   "cell_type": "code",
   "execution_count": 32,
   "id": "4afbd353-41aa-431d-b3cf-e57af0007bd9",
   "metadata": {},
   "outputs": [],
   "source": [
    "\n",
    "# create a new cursor\n",
    "cur = conn.cursor()"
   ]
  },
  {
   "cell_type": "code",
   "execution_count": 33,
   "id": "0f346c9e-acf2-4ff3-8484-fccbee3e8673",
   "metadata": {},
   "outputs": [
    {
     "name": "stdout",
     "output_type": "stream",
     "text": [
      "[Timestamp('2023-03-11 00:00:00') 327.7848216374308 nan]\n",
      "[Timestamp('2023-03-12 00:00:00') 9.715496613654604 -97.03601388095966]\n",
      "[Timestamp('2023-03-13 00:00:00') 418.8274132698008 4210.921303612638]\n",
      "[Timestamp('2023-03-14 00:00:00') 126.73413520017559 -69.74072584916121]\n",
      "[Timestamp('2023-03-15 00:00:00') 221.93953965018522 75.12214787249974]\n",
      "[Timestamp('2023-03-16 00:00:00') 213.8956590914339 -3.624356692561337]\n",
      "[Timestamp('2023-03-17 00:00:00') 345.75696082297554 61.64748844911103]\n",
      "[Timestamp('2023-03-18 00:00:00') 658.4866162591761 90.44782632628339]\n",
      "[Timestamp('2023-03-19 00:00:00') 220.94100553244758 -66.44715320296099]\n",
      "[Timestamp('2023-03-20 00:00:00') 357.80843366471566 61.94749942521087]\n",
      "[Timestamp('2023-03-21 00:00:00') 101.84900650751213 -71.53532535151206]\n",
      "[Timestamp('2023-03-22 00:00:00') 76.74359799907693 -24.64963515042583]\n",
      "[Timestamp('2023-03-23 00:00:00') 642.2150611669889 736.8320979356655]\n",
      "[Timestamp('2023-03-24 00:00:00') 571.2822339383885 -11.045027050550049]\n",
      "[Timestamp('2023-03-25 00:00:00') 381.97498728344294 -33.13725430421173]\n"
     ]
    }
   ],
   "source": [
    "for data_row in data_frame_predicciones.values:\n",
    "    print(data_row)"
   ]
  },
  {
   "cell_type": "code",
   "execution_count": null,
   "id": "08b46684-cd01-45a2-bf92-c1ef25b571da",
   "metadata": {},
   "outputs": [],
   "source": [
    "\n",
    "\n",
    "for data_row in dataframe.values:\n",
    "    # execute the INSERT statement\n",
    "    cur.execute(query, (data_row))\n",
    "    print('insertando')\n",
    "# commit the changes to the database\n",
    "conn.commit()\n",
    "# close communication with the database\n",
    "cur.close()"
   ]
  }
 ],
 "metadata": {
  "kernelspec": {
   "display_name": "Python 3 (ipykernel)",
   "language": "python",
   "name": "python3"
  },
  "language_info": {
   "codemirror_mode": {
    "name": "ipython",
    "version": 3
   },
   "file_extension": ".py",
   "mimetype": "text/x-python",
   "name": "python",
   "nbconvert_exporter": "python",
   "pygments_lexer": "ipython3",
   "version": "3.10.0"
  }
 },
 "nbformat": 4,
 "nbformat_minor": 5
}
