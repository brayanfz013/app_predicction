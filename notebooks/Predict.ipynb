{
 "cells": [
  {
   "cell_type": "code",
   "execution_count": 1,
   "id": "240a0d55-de51-4f1a-b76b-eb5c74908210",
   "metadata": {},
   "outputs": [
    {
     "name": "stdout",
     "output_type": "stream",
     "text": [
      "attempted relative import with no known parent package\n"
     ]
    }
   ],
   "source": [
    "import os\n",
    "import sys\n",
    "import yaml\n",
    "import numpy as np\n",
    "import re\n",
    "from pathlib import Path\n",
    "from scipy import stats\n",
    "path_folder = '/home/bdebian/Documents/Projects/Stoke_prediccition/app_prediction/'\n",
    "omitir = ''\n",
    "\n",
    "def search_subfolders(path:str):\n",
    "    '''Funcion para agregar rutas al path de ejecucion'''\n",
    "    folder = []\n",
    "    for root, dirs, _ in os.walk(path, topdown=False):\n",
    "        for name in dirs:\n",
    "            if name == omitir:\n",
    "                print(f\"[INFO] carpeta omitida: {name}\")\n",
    "            else:\n",
    "                folder.append(os.path.join(root, name))\n",
    "    return folder\n",
    "\n",
    "\n",
    "for i in search_subfolders(path_folder):\n",
    "    sys.path.insert(0, i)\n",
    "\n",
    "from class_load import LoadFiles\n",
    "from factory_data import SQLDataSourceFactory, get_data, HandleRedis\n",
    "from factory_models import ModelContext  # , Modelos, Parameters_model\n",
    "from factory_prepare_data import (DataCleaner, DataModel,\n",
    "                                          MeanImputation, OutliersToIQRMean)\n",
    "from factory_data import SQLDataSourceFactory, get_data, create_table, set_data\n",
    "from features_fix_data import PrepareData\n",
    "\n",
    "import pandas as pd\n",
    "from DP_model import Modelos,Parameters_model\n",
    "from args_data_model import Parameters\n"
   ]
  },
  {
   "cell_type": "code",
   "execution_count": 2,
   "id": "7adb82db-47f8-4af3-939f-a4375b2cec2f",
   "metadata": {},
   "outputs": [],
   "source": [
    "from matplotlib import pyplot as plt\n",
    "from matplotlib import cm\n",
    "from darts.metrics import mape, r2_score, mse,mase,rmse,rho_risk, smape\n",
    "def display_forecast(pred_series, ts_transformed, forecast_type, start_date=None):\n",
    "    plt.figure(figsize=(8, 5))\n",
    "    if start_date:\n",
    "        ts_transformed = ts_transformed.drop_before(start_date)\n",
    "    ts_transformed.univariate_component(0).plot(label=\"actual\")\n",
    "    pred_series.plot(label=(\"historic \" + forecast_type + \" forecasts\"))\n",
    "    plt.title(\n",
    "        \"R2: {}\".format(r2_score(ts_transformed.univariate_component(0), pred_series))\n",
    "    )\n",
    "    plt.legend()"
   ]
  },
  {
   "cell_type": "code",
   "execution_count": 3,
   "id": "e310868d",
   "metadata": {},
   "outputs": [
    {
     "name": "stdout",
     "output_type": "stream",
     "text": [
      "(910051, 4)\n"
     ]
    }
   ],
   "source": [
    "\n",
    "handler_load = LoadFiles()\n",
    "handler_redis = HandleRedis()\n",
    "# ruta_actual = os.path.dirname(__file__)\n",
    "ruta_actual = \"/home/bdebian/Documents/Projects/Stoke_prediccition/app_prediction\"\n",
    "# =================================================================\n",
    "#             Cargar datos de la fuente de datos\n",
    "# =================================================================\n",
    "\n",
    "CONFIG_FILE = ruta_actual+'/src/data/config/config.yaml'\n",
    "with open(CONFIG_FILE, 'r', encoding='utf-8') as file:\n",
    "    parameters = yaml.safe_load(file)\n",
    "\n",
    "parametros = Parameters(**parameters)\n",
    "\n",
    "# Interacion para hacer un cache de los datos en redis\n",
    "try:\n",
    "    data = handler_redis.set_cache_data(\n",
    "        hash_name=parametros.query_template['table'],\n",
    "        old_dataframe=None,\n",
    "        new_dataframe=None,\n",
    "        exp_time=parametros.exp_time_cache,\n",
    "        config=parametros.connection_data_source\n",
    "    )\n",
    "    # Verificar que existieran datos en cache\n",
    "    if data is None:\n",
    "        # #Peticion de la API\n",
    "        # url  = 'http://192.168.115.99:3333/getinvoices'\n",
    "        # response = requests.get(url)\n",
    "\n",
    "        # if response.status_code == 200:\n",
    "        #     invoices  = response.json()\n",
    "        # else:\n",
    "        #     print(response.status_code)\n",
    "\n",
    "        # data = pd.DataFrame(invoices)\n",
    "        # filter_cols = list(parameters['query_template']['columns'].values())\n",
    "        # data = data[filter_cols]\n",
    "\n",
    "        data = get_data(SQLDataSourceFactory(**parameters))\n",
    "\n",
    "        data = handler_redis.set_cache_data(\n",
    "            hash_name=parametros.query_template['table'],\n",
    "            old_dataframe=data,\n",
    "            new_dataframe=None,\n",
    "            exp_time=parametros.exp_time_cache,\n",
    "            config=parametros.connection_data_source\n",
    "        )\n",
    "except ValueError as error:\n",
    "    print(\"[ERROR] No se puede hacer un cache de la fuente de datos\")\n",
    "# 910051 rows x 4 columns\n",
    "\n",
    "print(data.shape)"
   ]
  },
  {
   "cell_type": "code",
   "execution_count": 4,
   "id": "dc34337f-6cb2-462c-9c4e-ffcc7e39417e",
   "metadata": {},
   "outputs": [],
   "source": [
    "#=================================================================\n",
    "#             Limpieza de datos\n",
    "#=================================================================\n",
    "# Nuevos datos para reemplazar en las columnas\n",
    "new_types = []\n",
    "base = {\n",
    "    'date': np.datetime64,\n",
    "    'integer': int,\n",
    "    'float': float,\n",
    "    'string': object,\n",
    "}\n",
    "\n",
    "for dtypo in parameters['type_data'].values():\n",
    "    # print(dtypo)\n",
    "    new_types.append(base[dtypo])\n",
    "\n",
    "# metodo para transformar los tipo de datos\n",
    "strategy = {\n",
    "    int: np.mean,\n",
    "    float: np.mean,\n",
    "    object: stats.mode\n",
    "}\n",
    "\n",
    "# Estrategias para imputar los datos faltantes de NA\n",
    "replace = {\n",
    "    int: lambda x: int(float(x.replace(',', ''))),\n",
    "    float: lambda x: float(x.replace(',', '')),\n",
    "    object: lambda x: x.strip()\n",
    "}\n",
    "\n",
    "#Imputacion de los datos\n",
    "imputation = MeanImputation(\n",
    "                            replace_dtypes=new_types,\n",
    "                            strategy_imputation=strategy,\n",
    "                            preprocess_function=replace,\n",
    "                            **parameters\n",
    "                            )\n",
    "#Remocion de outliners y seleccion de columnas\n",
    "outliners = OutliersToIQRMean(**parameters)\n",
    "\n",
    "#Preparacion de los dato para el modelos escalizado y filtrado\n",
    "data_for_model = DataModel(**parameters)\n",
    "\n",
    "#Patron de diseno de seleecion de estrategia\n",
    "cleaner = DataCleaner(imputation)\n",
    "data_imputation = cleaner.clean(data)\n",
    "\n",
    "#Cambio de estrategia para remover outliners\n",
    "cleaner.strategy = outliners\n",
    "data_filled = cleaner.clean(data_imputation.dataframe)\n",
    "\n",
    "#Cambio de estrategia para preparar los datos para modelo\n",
    "cleaner.strategy = data_for_model\n",
    "data_ready,scaler_data = cleaner.clean(data_filled)"
   ]
  },
  {
   "cell_type": "code",
   "execution_count": 5,
   "id": "4c31c53d-fb30-4d22-a3ab-933078b22ab4",
   "metadata": {
    "scrolled": true
   },
   "outputs": [
    {
     "name": "stdout",
     "output_type": "stream",
     "text": [
      "Modelo importado NBeatsModel\n"
     ]
    },
    {
     "name": "stderr",
     "output_type": "stream",
     "text": [
      "/home/bdebian/.virtualenvs/app_prediction/lib/python3.10/site-packages/pytorch_lightning/trainer/connectors/data_connector.py:432: PossibleUserWarning: The dataloader, predict_dataloader, does not have many workers which may be a bottleneck. Consider increasing the value of the `num_workers` argument` (try 16 which is the number of cpus on this machine) in the `DataLoader` init to improve performance.\n",
      "  rank_zero_warn(\n"
     ]
    },
    {
     "data": {
      "application/vnd.jupyter.widget-view+json": {
       "model_id": "9c9d5aab3c1f4f98bfde90ec1da41180",
       "version_major": 2,
       "version_minor": 0
      },
      "text/plain": [
       "Predicting: 0it [00:00, ?it/s]"
      ]
     },
     "metadata": {},
     "output_type": "display_data"
    }
   ],
   "source": [
    "#=================================================================\n",
    "#            Cargar modelo\n",
    "#=================================================================\n",
    "MODE_USED = 'NBeatsModel'\n",
    "modelo = ModelContext(model_name = MODE_USED,\n",
    "                      data=data_ready,\n",
    "                      split=83,\n",
    "                      **parameters)\n",
    "\n",
    "#Rutas de los parametros para predicciones\n",
    "model_train = modelo.save_path.joinpath('model').with_suffix('.pt').as_posix()\n",
    "scaler = modelo.save_path.joinpath('scaler').with_suffix('.pkl').as_posix()\n",
    "last_pred =  modelo.save_path.joinpath('previus').with_suffix('.json').as_posix()\n",
    "parameters_modelo = modelo.save_path.joinpath('parametros').with_suffix('.json').as_posix()\n",
    "\n",
    "\n",
    "#Cargar escaler\n",
    "scaler = handler_load.load_scaler(scaler)\n",
    "\n",
    "# #Cargar el ultimo punto de predicciones\n",
    "# last_prediction = handler_load.json_to_dict(last_pred)[0]\n",
    "# past, future = modelo.tunne_parameter.data.split_after(\n",
    "#     pd.Timestamp(last_prediction['last_date_pred']))\n",
    "# model_used_parameters = handler_load.json_to_dict(parameters_modelo)[0]\n",
    "\n",
    "#Cargar modelo para hacer las predicciones\n",
    "MODE_USED = 'NBeatsModel'\n",
    "IntModel = Modelos[MODE_USED]\n",
    "model_trained = IntModel.load(model_train)\n",
    "\n",
    "\n",
    "# pred_series = model_trained.predict(\n",
    "#     series=past,\n",
    "#     n = parameters['forecast_val']\n",
    "# )\n",
    "\n",
    "\n",
    "pred_series = modelo.predict(\n",
    "        model=model_trained,\n",
    "        data=modelo.tunne_parameter.data,\n",
    "        horizont=parameters['forecast_val']\n",
    "        )\n",
    "#Invertir predicciones\n",
    "pred_scale = scaler.inverse_transform(pred_series)"
   ]
  },
  {
   "cell_type": "code",
   "execution_count": 6,
   "id": "289c3122",
   "metadata": {},
   "outputs": [],
   "source": [
    "data_frame_predicciones = pred_scale.pd_dataframe()\n",
    "column_field = list(data_frame_predicciones.columns)\n",
    "# data_frame_predicciones['Varianza'] = data_frame_predicciones[column_field].pct_change()*100\n",
    "data_frame_predicciones.reset_index(inplace=True)\n",
    "data_frame_predicciones[parameters['filter_data']\n",
    "                        ['predict_column']].clip(lower=0, inplace=True)\n",
    "metric_columns_pred = data_imputation.metrics_column(\n",
    "                    data_frame_predicciones[parameters['filter_data']['predict_column']]\n",
    "                    )\n",
    "\n",
    "filter = []\n",
    "for filter_list in parameters['filter_data']:\n",
    "    if 'feature' in filter_list:\n",
    "        filter.append(parameters['filter_data'][filter_list])\n",
    "\n",
    "for adding_data  in filter:\n",
    "    data_frame_predicciones[str(adding_data)] = adding_data\n",
    "\n",
    "new_names = list(parameters['query_template_write']['columns'].values())\n",
    "rename= {x:y for x,y in zip(list(data_frame_predicciones.columns),new_names)}\n",
    "\n",
    "data_frame_predicciones.rename(columns=rename,inplace=True)"
   ]
  },
  {
   "cell_type": "code",
   "execution_count": 24,
   "id": "bae1e109-014c-4dc4-88ec-a7ce59a27e6c",
   "metadata": {
    "scrolled": true
   },
   "outputs": [
    {
     "name": "stderr",
     "output_type": "stream",
     "text": [
      "/home/bdebian/.virtualenvs/app_prediction/lib/python3.10/site-packages/darts/metrics/metrics.py:1052: RuntimeWarning: Mean of empty slice.\n",
      "  y_hat = y1.mean()\n",
      "/home/bdebian/.virtualenvs/app_prediction/lib/python3.10/site-packages/numpy/core/_methods.py:192: RuntimeWarning: invalid value encountered in scalar divide\n",
      "  ret = ret.dtype.type(ret / rcount)\n",
      "/home/bdebian/.virtualenvs/app_prediction/lib/python3.10/site-packages/darts/metrics/metrics.py:1054: RuntimeWarning: invalid value encountered in scalar divide\n",
      "  return 1 - ss_errors / ss_tot\n"
     ]
    },
    {
     "data": {
      "image/png": "[encoded data removed]",
      "text/plain": [
       "<Figure size 800x500 with 1 Axes>"
      ]
     },
     "metadata": {},
     "output_type": "display_data"
    }
   ],
   "source": [
    "display_forecast(pred_series, modelo.tunne_parameter.data, \"7 day\", start_date=modelo.tunne_parameter.split_value)"
   ]
  },
  {
   "cell_type": "code",
   "execution_count": 8,
   "id": "f0b7a781",
   "metadata": {},
   "outputs": [
    {
     "data": {
      "text/html": [
       "<div>\n",
       "<style scoped>\n",
       "    .dataframe tbody tr th:only-of-type {\n",
       "        vertical-align: middle;\n",
       "    }\n",
       "\n",
       "    .dataframe tbody tr th {\n",
       "        vertical-align: top;\n",
       "    }\n",
       "\n",
       "    .dataframe thead th {\n",
       "        text-align: right;\n",
       "    }\n",
       "</style>\n",
       "<table border=\"1\" class=\"dataframe\">\n",
       "  <thead>\n",
       "    <tr style=\"text-align: right;\">\n",
       "      <th>component</th>\n",
       "      <th>Fecha</th>\n",
       "      <th>predicion</th>\n",
       "      <th>ITEMNMBR</th>\n",
       "    </tr>\n",
       "  </thead>\n",
       "  <tbody>\n",
       "    <tr>\n",
       "      <th>0</th>\n",
       "      <td>2021-08-22</td>\n",
       "      <td>465.980748</td>\n",
       "      <td>SME4-90</td>\n",
       "    </tr>\n",
       "    <tr>\n",
       "      <th>1</th>\n",
       "      <td>2021-08-29</td>\n",
       "      <td>174.768597</td>\n",
       "      <td>SME4-90</td>\n",
       "    </tr>\n",
       "    <tr>\n",
       "      <th>2</th>\n",
       "      <td>2021-09-05</td>\n",
       "      <td>164.813361</td>\n",
       "      <td>SME4-90</td>\n",
       "    </tr>\n",
       "    <tr>\n",
       "      <th>3</th>\n",
       "      <td>2021-09-12</td>\n",
       "      <td>279.783121</td>\n",
       "      <td>SME4-90</td>\n",
       "    </tr>\n",
       "    <tr>\n",
       "      <th>4</th>\n",
       "      <td>2021-09-19</td>\n",
       "      <td>369.509733</td>\n",
       "      <td>SME4-90</td>\n",
       "    </tr>\n",
       "    <tr>\n",
       "      <th>5</th>\n",
       "      <td>2021-09-26</td>\n",
       "      <td>357.970108</td>\n",
       "      <td>SME4-90</td>\n",
       "    </tr>\n",
       "    <tr>\n",
       "      <th>6</th>\n",
       "      <td>2021-10-03</td>\n",
       "      <td>190.454105</td>\n",
       "      <td>SME4-90</td>\n",
       "    </tr>\n",
       "    <tr>\n",
       "      <th>7</th>\n",
       "      <td>2021-10-10</td>\n",
       "      <td>225.539085</td>\n",
       "      <td>SME4-90</td>\n",
       "    </tr>\n",
       "    <tr>\n",
       "      <th>8</th>\n",
       "      <td>2021-10-17</td>\n",
       "      <td>455.770733</td>\n",
       "      <td>SME4-90</td>\n",
       "    </tr>\n",
       "    <tr>\n",
       "      <th>9</th>\n",
       "      <td>2021-10-24</td>\n",
       "      <td>233.802344</td>\n",
       "      <td>SME4-90</td>\n",
       "    </tr>\n",
       "    <tr>\n",
       "      <th>10</th>\n",
       "      <td>2021-10-31</td>\n",
       "      <td>151.939074</td>\n",
       "      <td>SME4-90</td>\n",
       "    </tr>\n",
       "    <tr>\n",
       "      <th>11</th>\n",
       "      <td>2021-11-07</td>\n",
       "      <td>130.404954</td>\n",
       "      <td>SME4-90</td>\n",
       "    </tr>\n",
       "    <tr>\n",
       "      <th>12</th>\n",
       "      <td>2021-11-14</td>\n",
       "      <td>319.949423</td>\n",
       "      <td>SME4-90</td>\n",
       "    </tr>\n",
       "    <tr>\n",
       "      <th>13</th>\n",
       "      <td>2021-11-21</td>\n",
       "      <td>193.089553</td>\n",
       "      <td>SME4-90</td>\n",
       "    </tr>\n",
       "    <tr>\n",
       "      <th>14</th>\n",
       "      <td>2021-11-28</td>\n",
       "      <td>101.585735</td>\n",
       "      <td>SME4-90</td>\n",
       "    </tr>\n",
       "  </tbody>\n",
       "</table>\n",
       "</div>"
      ],
      "text/plain": [
       "component      Fecha   predicion ITEMNMBR\n",
       "0         2021-08-22  465.980748  SME4-90\n",
       "1         2021-08-29  174.768597  SME4-90\n",
       "2         2021-09-05  164.813361  SME4-90\n",
       "3         2021-09-12  279.783121  SME4-90\n",
       "4         2021-09-19  369.509733  SME4-90\n",
       "5         2021-09-26  357.970108  SME4-90\n",
       "6         2021-10-03  190.454105  SME4-90\n",
       "7         2021-10-10  225.539085  SME4-90\n",
       "8         2021-10-17  455.770733  SME4-90\n",
       "9         2021-10-24  233.802344  SME4-90\n",
       "10        2021-10-31  151.939074  SME4-90\n",
       "11        2021-11-07  130.404954  SME4-90\n",
       "12        2021-11-14  319.949423  SME4-90\n",
       "13        2021-11-21  193.089553  SME4-90\n",
       "14        2021-11-28  101.585735  SME4-90"
      ]
     },
     "execution_count": 8,
     "metadata": {},
     "output_type": "execute_result"
    }
   ],
   "source": [
    "data_frame_predicciones"
   ]
  },
  {
   "cell_type": "code",
   "execution_count": 9,
   "id": "a6e374e6-3a1b-4901-a6a0-005d0c2f0789",
   "metadata": {},
   "outputs": [
    {
     "name": "stdout",
     "output_type": "stream",
     "text": [
      "2023-07-19 13:57:39,747 - POSTGRES - ERROR - relation \"modelopredicciones\" already exists\n",
      "\n"
     ]
    }
   ],
   "source": [
    "create_table(SQLDataSourceFactory(**parameters))"
   ]
  },
  {
   "cell_type": "code",
   "execution_count": 10,
   "id": "c8ef97f5",
   "metadata": {},
   "outputs": [
    {
     "name": "stdout",
     "output_type": "stream",
     "text": [
      "{'host': 'localhost', 'database': 'predicciones', 'user': 'bdebian', 'password': '0913..', 'port': 5432}\n",
      "<connection object at 0x7fe261c71580; dsn: 'user=bdebian password=xxx dbname=predicciones host=localhost port=5432', closed: 0>\n",
      "insertando\n",
      "insertando\n",
      "insertando\n",
      "insertando\n",
      "insertando\n",
      "insertando\n",
      "insertando\n",
      "insertando\n",
      "insertando\n",
      "insertando\n",
      "insertando\n",
      "insertando\n",
      "insertando\n",
      "insertando\n",
      "insertando\n"
     ]
    }
   ],
   "source": [
    "set_data(SQLDataSourceFactory(**parameters), data_frame_predicciones)"
   ]
  },
  {
   "cell_type": "code",
   "execution_count": 11,
   "id": "c8637690",
   "metadata": {},
   "outputs": [
    {
     "name": "stdout",
     "output_type": "stream",
     "text": [
      "{'host': 'localhost', 'database': 'predicciones', 'user': 'bdebian', 'password': '0913..', 'port': 5432}\n",
      "<connection object at 0x7fe261c716c0; dsn: 'user=bdebian password=xxx dbname=predicciones host=localhost port=5432', closed: 0>\n",
      "insertando\n"
     ]
    }
   ],
   "source": [
    "filter_feature = [column for column in parameters['filter_data'] if re.match(r'filter_\\d+_feature', column)]\n",
    "value_product = []\n",
    "for i in filter_feature:\n",
    "    value_product.append(parameters['filter_data'][i])\n",
    "fecha = parameters['query_template_write']['columns']['0']\n",
    "min_date = data_frame_predicciones[fecha].min()\n",
    "max_data = data_frame_predicciones[fecha].max()\n",
    "metric_columns_pred['init_date'] = data_frame_predicciones[fecha].min()\n",
    "metric_columns_pred['end_date'] = data_frame_predicciones[fecha].max()\n",
    "metric_columns_pred['product'] = '/'.join(value_product)\n",
    "\n",
    "type_data_out = {'Rango':'float',\n",
    " 'Varianza':'float',\n",
    " 'Desviacion_estandar':'float',\n",
    " 'Coeficiente_varianza':'float',\n",
    " 'Quantile Q1':'float',\n",
    " 'Quantile Q3':'float',\n",
    " 'InterQuantile':'float',\n",
    " 'Desviacion_media_absoluta':'float',\n",
    " 'init_date':'date',\n",
    " 'end_date':'date',\n",
    " 'product':'string'\n",
    " }\n",
    "fix_data_dict = {\n",
    "'table': 'metric_predict',\n",
    "'columns': {str(index): key for index ,key in enumerate(type_data_out.keys())},\n",
    "'order': 'index',\n",
    "'where': 'posicion > 1'\n",
    "}\n",
    "\n",
    "parameters['query_template_write']  = fix_data_dict\n",
    "parameters['type_data_out'] = type_data_out\n",
    "\n",
    "create_table(SQLDataSourceFactory(**parameters))\n",
    "send_metrics  = pd.DataFrame([metric_columns_pred])\n",
    "set_data(SQLDataSourceFactory(**parameters), send_metrics)"
   ]
  },
  {
   "cell_type": "code",
   "execution_count": 20,
   "id": "94f19f87",
   "metadata": {},
   "outputs": [
    {
     "data": {
      "text/plain": [
       "Timestamp('2021-08-22 00:00:00')"
      ]
     },
     "execution_count": 20,
     "metadata": {},
     "output_type": "execute_result"
    }
   ],
   "source": [
    "metric_columns_pred['init_date']"
   ]
  },
  {
   "cell_type": "code",
   "execution_count": 21,
   "id": "3d440e01",
   "metadata": {},
   "outputs": [
    {
     "data": {
      "text/plain": [
       "Timestamp('2021-11-28 00:00:00')"
      ]
     },
     "execution_count": 21,
     "metadata": {},
     "output_type": "execute_result"
    }
   ],
   "source": [
    "metric_columns_pred['end_date']"
   ]
  },
  {
   "cell_type": "code",
   "execution_count": null,
   "id": "3d6256aa",
   "metadata": {},
   "outputs": [],
   "source": [
    "temp_dataframe = data_filled.copy()\n",
    "temp_dataframe.reset_index(inplace=True)\n",
    "date_col = parameters['filter_data']['date_column']\n",
    "data_col = parameters['filter_data']['predict_column']\n",
    "filter_date = temp_dataframe[(temp_dataframe[date_col] >= metric_columns_pred['init_date']) & (\n",
    "    temp_dataframe[date_col] <= metric_columns_pred['end_date'])]\n",
    "original = data_imputation.metrics_column(\n",
    "    filter_date[data_col])\n",
    "original['init_date'] = metric_columns_pred['init_date']\n",
    "original['end_date'] = metric_columns_pred['end_date']\n",
    "original['product'] = '/'.join(value_product)\n"
   ]
  }
 ],
 "metadata": {
  "kernelspec": {
   "display_name": "Python 3 (ipykernel)",
   "language": "python",
   "name": "python3"
  },
  "language_info": {
   "codemirror_mode": {
    "name": "ipython",
    "version": 3
   },
   "file_extension": ".py",
   "mimetype": "text/x-python",
   "name": "python",
   "nbconvert_exporter": "python",
   "pygments_lexer": "ipython3",
   "version": "3.10.0"
  }
 },
 "nbformat": 4,
 "nbformat_minor": 5
}
