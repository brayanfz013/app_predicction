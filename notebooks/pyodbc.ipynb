{
 "cells": [
  {
   "cell_type": "code",
   "execution_count": 2,
   "id": "57b7ed02-aeb1-4972-87ae-9c269e05c7d1",
   "metadata": {},
   "outputs": [],
   "source": [
    "import os\n",
    "import sys\n",
    "import yaml\n",
    "import numpy as np\n",
    "import pandas as pd\n",
    "from pathlib import Path\n",
    "from scipy import stats\n",
    "path_folder = '/home/bdebian/Documents/Projects/Stoke_prediccition/app_prediction/'\n",
    "omitir = ''\n",
    "\n",
    "def search_subfolders(path:str):\n",
    "    '''Funcion para agregar rutas al path de ejecucion'''\n",
    "    folder = []\n",
    "    for root, dirs, _ in os.walk(path, topdown=False):\n",
    "        for name in dirs:\n",
    "            if name == omitir:\n",
    "                print(f\"[INFO] carpeta omitida: {name}\")\n",
    "            else:\n",
    "                folder.append(os.path.join(root, name))\n",
    "    return folder\n",
    "\n",
    "\n",
    "for i in search_subfolders(path_folder):\n",
    "    sys.path.insert(0, i)\n",
    "\n",
    "from class_load import LoadFiles\n",
    "from features_sqlserver import HandleDBsqlserver"
   ]
  },
  {
   "cell_type": "code",
   "execution_count": 3,
   "id": "6338fee0-b038-44b1-b47e-7980ebe7f16c",
   "metadata": {},
   "outputs": [],
   "source": [
    "CONFIG_FILE ='/home/bdebian/Documents/Projects/Stoke_prediccition/app_prediction/src/data/config/config.yaml' \n",
    "with open(CONFIG_FILE, 'r', encoding='utf-8') as file:\n",
    "    parameters = yaml.safe_load(file)"
   ]
  },
  {
   "cell_type": "code",
   "execution_count": 4,
   "id": "0cee53b7-c0f7-4181-875f-760df0b95aad",
   "metadata": {},
   "outputs": [],
   "source": [
    "connection_parameter = parameters['connection_data_source']"
   ]
  },
  {
   "cell_type": "code",
   "execution_count": 5,
   "id": "d105f5ca-88d2-465d-b66c-825f2c4fb2bb",
   "metadata": {},
   "outputs": [
    {
     "data": {
      "text/plain": [
       "{'postgresql': {'host': 'localhost',\n",
       "  'database': 'predicciones',\n",
       "  'user': 'bdebian',\n",
       "  'password': '0913..',\n",
       "  'port': 5432},\n",
       " 'redis': {'host': '127.0.0.1', 'db': 1, 'port': 6379},\n",
       " 'sqlserver': {'server': '127.0.0.1',\n",
       "  'database': 'master',\n",
       "  'username': 'sa',\n",
       "  'password': '0913PASSword!'}}"
      ]
     },
     "execution_count": 5,
     "metadata": {},
     "output_type": "execute_result"
    }
   ],
   "source": [
    "connection_parameter"
   ]
  },
  {
   "cell_type": "code",
   "execution_count": 13,
   "id": "cbd7f001-b23c-4744-a041-ed9a31c916fe",
   "metadata": {},
   "outputs": [],
   "source": [
    "data_source = HandleDBsqlserver()"
   ]
  },
  {
   "cell_type": "code",
   "execution_count": 14,
   "id": "347ab67b-7a0d-4175-8e3b-1bbd076f6239",
   "metadata": {},
   "outputs": [],
   "source": [
    "connection_source = data_source.get_config_file(connection_parameter)"
   ]
  },
  {
   "cell_type": "code",
   "execution_count": 15,
   "id": "0a7d69fd-545a-49c6-8b52-c9f1ec7448df",
   "metadata": {},
   "outputs": [],
   "source": [
    "fix_query = data_source.fix_dict_query(\n",
    "    tabla=parameters['query_template']['table'],\n",
    "    columnas=list(parameters['query_template']['columns'].values()),\n",
    "    order=parameters['query_template']['order'],\n",
    "    where=parameters['query_template']['where']\n",
    ")"
   ]
  },
  {
   "cell_type": "code",
   "execution_count": 16,
   "id": "7374e212-2ab4-46e8-b2e5-71afced5d7aa",
   "metadata": {},
   "outputs": [],
   "source": [
    "query = data_source.prepare_query_replace_value(\n",
    "    sql_file=parameters['query']['query_read'],\n",
    "    data_replace=fix_query\n",
    ")"
   ]
  },
  {
   "cell_type": "code",
   "execution_count": 17,
   "id": "b6485565-bdc7-4caf-91ec-793d69a85865",
   "metadata": {},
   "outputs": [
    {
     "data": {
      "text/plain": [
       "'SELECT \"Fecha Creación\", \"Material (Cod)\", \"Peso neto (TON)\", \"Solicitate (Cod)\", \"Cant Pedido UMV\", \"Valor Neto\" FROM position '"
      ]
     },
     "execution_count": 17,
     "metadata": {},
     "output_type": "execute_result"
    }
   ],
   "source": [
    "query"
   ]
  },
  {
   "cell_type": "code",
   "execution_count": 18,
   "id": "cd3a031b-0fe7-4bcf-a76a-97b3c63d219e",
   "metadata": {},
   "outputs": [],
   "source": [
    "data = data_source.get_table(connection_parameter,query)"
   ]
  },
  {
   "cell_type": "code",
   "execution_count": 19,
   "id": "730cefe9-96fe-452d-b5c9-9dd3690e3ada",
   "metadata": {},
   "outputs": [],
   "source": [
    "data"
   ]
  },
  {
   "cell_type": "code",
   "execution_count": 27,
   "id": "171a1686-6c66-46e9-a11a-7ee99e2f2448",
   "metadata": {},
   "outputs": [
    {
     "name": "stdout",
     "output_type": "stream",
     "text": [
      "{0: 'Fecha', 1: 'predicion', 2: 'varianza', 3: 'Material (Cod)', 4: 'Solicitate (Cod)'}\n"
     ]
    },
    {
     "data": {
      "text/html": [
       "<div>\n",
       "<style scoped>\n",
       "    .dataframe tbody tr th:only-of-type {\n",
       "        vertical-align: middle;\n",
       "    }\n",
       "\n",
       "    .dataframe tbody tr th {\n",
       "        vertical-align: top;\n",
       "    }\n",
       "\n",
       "    .dataframe thead th {\n",
       "        text-align: right;\n",
       "    }\n",
       "</style>\n",
       "<table border=\"1\" class=\"dataframe\">\n",
       "  <thead>\n",
       "    <tr style=\"text-align: right;\">\n",
       "      <th></th>\n",
       "      <th>Fecha</th>\n",
       "      <th>predicion</th>\n",
       "      <th>varianza</th>\n",
       "      <th>Material (Cod)</th>\n",
       "      <th>Solicitate (Cod)</th>\n",
       "    </tr>\n",
       "  </thead>\n",
       "  <tbody>\n",
       "    <tr>\n",
       "      <th>0</th>\n",
       "      <td>2020-01-01</td>\n",
       "      <td>23</td>\n",
       "      <td>John Doe</td>\n",
       "      <td>Salsa</td>\n",
       "      <td>Software Engineer</td>\n",
       "    </tr>\n",
       "    <tr>\n",
       "      <th>1</th>\n",
       "      <td>2020-01-01</td>\n",
       "      <td>21233</td>\n",
       "      <td>carl Doe</td>\n",
       "      <td>Salsa</td>\n",
       "      <td>Software Engineer</td>\n",
       "    </tr>\n",
       "  </tbody>\n",
       "</table>\n",
       "</div>"
      ],
      "text/plain": [
       "        Fecha  predicion  varianza Material (Cod)   Solicitate (Cod)\n",
       "0  2020-01-01         23  John Doe          Salsa  Software Engineer\n",
       "1  2020-01-01      21233  carl Doe          Salsa  Software Engineer"
      ]
     },
     "execution_count": 27,
     "metadata": {},
     "output_type": "execute_result"
    }
   ],
   "source": [
    "old = list(data.columns)\n",
    "new = parameters['query_template_write']['columns'].values()\n",
    "rename_cols = {x:y for x,y in zip(old,new)}\n",
    "print(rename_cols)\n",
    "data.rename(columns=rename_cols)"
   ]
  },
  {
   "cell_type": "code",
   "execution_count": 1,
   "id": "0f0d4d9d-a0ea-428a-b93a-ec28e236b281",
   "metadata": {},
   "outputs": [],
   "source": [
    "import pyodbc\n",
    "\n",
    "server = '127.0.0.1' \n",
    "database = 'master' \n",
    "username = 'sa' \n",
    "password = '0913PASSword!' \n",
    "\n",
    "cnxn = pyodbc.connect('DRIVER={ODBC Driver 17 for SQL Server};SERVER='+server+';DATABASE='+database+';UID='+username+';PWD='+ password)\n",
    "# cursor = cnxn.cursor()\n"
   ]
  },
  {
   "cell_type": "code",
   "execution_count": 6,
   "id": "1c8b0ec2-d86e-4b4a-a503-cba0f3ec6314",
   "metadata": {},
   "outputs": [
    {
     "ename": "NameError",
     "evalue": "name 'SQLServerDB' is not defined",
     "output_type": "error",
     "traceback": [
      "\u001b[0;31m---------------------------------------------------------------------------\u001b[0m",
      "\u001b[0;31mNameError\u001b[0m                                 Traceback (most recent call last)",
      "Cell \u001b[0;32mIn[6], line 7\u001b[0m\n\u001b[1;32m      4\u001b[0m password \u001b[38;5;241m=\u001b[39m \u001b[38;5;124m'\u001b[39m\u001b[38;5;124m0913PASSword!\u001b[39m\u001b[38;5;124m'\u001b[39m\n\u001b[1;32m      6\u001b[0m \u001b[38;5;66;03m# Crear una instancia de la clase SQLServerDB\u001b[39;00m\n\u001b[0;32m----> 7\u001b[0m db \u001b[38;5;241m=\u001b[39m \u001b[43mSQLServerDB\u001b[49m(server,database,username,password)\n\u001b[1;32m      9\u001b[0m \u001b[38;5;66;03m# # Datos para insertar en la tabla\u001b[39;00m\n\u001b[1;32m     10\u001b[0m \u001b[38;5;66;03m# data = {\u001b[39;00m\n\u001b[1;32m     11\u001b[0m \u001b[38;5;66;03m#     'name': 'John Doe',\u001b[39;00m\n\u001b[0;32m   (...)\u001b[0m\n\u001b[1;32m     15\u001b[0m \u001b[38;5;66;03m# # Insertar datos en la tabla\u001b[39;00m\n\u001b[1;32m     16\u001b[0m \u001b[38;5;66;03m# db.create('employees', data)\u001b[39;00m\n",
      "\u001b[0;31mNameError\u001b[0m: name 'SQLServerDB' is not defined"
     ]
    }
   ],
   "source": [
    "server = '127.0.0.1' \n",
    "database = 'master' \n",
    "username = 'sa' \n",
    "password = '0913PASSword!'\n",
    "\n",
    "# Crear una instancia de la clase SQLServerDB\n",
    "db = SQLServerDB(server,database,username,password)\n",
    "\n",
    "# # Datos para insertar en la tabla\n",
    "# data = {\n",
    "#     'name': 'John Doe',\n",
    "#     'position': 'Software Engineer'\n",
    "# }\n",
    "\n",
    "# # Insertar datos en la tabla\n",
    "# db.create('employees', data)\n"
   ]
  },
  {
   "cell_type": "code",
   "execution_count": 81,
   "id": "35ccd871-7701-4608-9e48-0ac6aae4ab5f",
   "metadata": {},
   "outputs": [],
   "source": [
    "data = db.read('Employees')"
   ]
  },
  {
   "cell_type": "code",
   "execution_count": 82,
   "id": "86de1549-f639-4bac-a1d6-9d6ebc222629",
   "metadata": {},
   "outputs": [
    {
     "data": {
      "text/plain": [
       "[(1, datetime.date(2020, 1, 1), 23, 'John Doe', 'Salsa', 'Software Engineer'),\n",
       " (2, datetime.date(2020, 1, 1), 21233, 'carl Doe', 'Salsa', 'Software Engineer')]"
      ]
     },
     "execution_count": 82,
     "metadata": {},
     "output_type": "execute_result"
    }
   ],
   "source": [
    "data"
   ]
  },
  {
   "cell_type": "code",
   "execution_count": 47,
   "id": "4449886e-d8a6-4d6e-848f-b159105c7b82",
   "metadata": {},
   "outputs": [
    {
     "data": {
      "text/html": [
       "<div>\n",
       "<style scoped>\n",
       "    .dataframe tbody tr th:only-of-type {\n",
       "        vertical-align: middle;\n",
       "    }\n",
       "\n",
       "    .dataframe tbody tr th {\n",
       "        vertical-align: top;\n",
       "    }\n",
       "\n",
       "    .dataframe thead th {\n",
       "        text-align: right;\n",
       "    }\n",
       "</style>\n",
       "<table border=\"1\" class=\"dataframe\">\n",
       "  <thead>\n",
       "    <tr style=\"text-align: right;\">\n",
       "      <th></th>\n",
       "      <th>EmployeeID</th>\n",
       "      <th>FirstName</th>\n",
       "      <th>LastName</th>\n",
       "      <th>position</th>\n",
       "    </tr>\n",
       "  </thead>\n",
       "  <tbody>\n",
       "    <tr>\n",
       "      <th>0</th>\n",
       "      <td>1</td>\n",
       "      <td>John Doe</td>\n",
       "      <td>Salsa</td>\n",
       "      <td>Software Engineer</td>\n",
       "    </tr>\n",
       "    <tr>\n",
       "      <th>1</th>\n",
       "      <td>2</td>\n",
       "      <td>John Doe</td>\n",
       "      <td>Salsa</td>\n",
       "      <td>Software Engineer</td>\n",
       "    </tr>\n",
       "  </tbody>\n",
       "</table>\n",
       "</div>"
      ],
      "text/plain": [
       "   EmployeeID FirstName LastName           position\n",
       "0           1  John Doe    Salsa  Software Engineer\n",
       "1           2  John Doe    Salsa  Software Engineer"
      ]
     },
     "execution_count": 47,
     "metadata": {},
     "output_type": "execute_result"
    }
   ],
   "source": [
    "pd.DataFrame((tuple(t) for t in data), columns=['EmployeeID','FirstName','LastName','position'])"
   ]
  },
  {
   "cell_type": "code",
   "execution_count": 80,
   "id": "6f7842a7-dcfd-4f08-99a9-e248a6230235",
   "metadata": {},
   "outputs": [],
   "source": [
    "# Datos para insertar en la tabla\n",
    "data = {\n",
    "    # 'EmployeeID' : 2,abs\n",
    "    'DateUsed': '2020-01-01',\n",
    "    'Serial': 21233,\n",
    "    'FirstName': 'carl Doe',\n",
    "    'LastName': 'Salsa',\n",
    "    'position': 'Software Engineer\n",
    "}\n",
    "\n",
    "# Insertar datos en la tabla\n",
    "db.create('Employees', data)"
   ]
  },
  {
   "cell_type": "code",
   "execution_count": 29,
   "id": "897df927-6019-4d6b-ae10-b9387f1358ff",
   "metadata": {},
   "outputs": [
    {
     "data": {
      "text/plain": [
       "False"
      ]
     },
     "execution_count": 29,
     "metadata": {},
     "output_type": "execute_result"
    }
   ],
   "source": [
    "['list','uno'] == ['list','udno']"
   ]
  },
  {
   "cell_type": "code",
   "execution_count": null,
   "id": "c2181ceb-add2-4293-8787-b0aad1206d71",
   "metadata": {},
   "outputs": [],
   "source": []
  }
 ],
 "metadata": {
  "kernelspec": {
   "display_name": "Python 3 (ipykernel)",
   "language": "python",
   "name": "python3"
  },
  "language_info": {
   "codemirror_mode": {
    "name": "ipython",
    "version": 3
   },
   "file_extension": ".py",
   "mimetype": "text/x-python",
   "name": "python",
   "nbconvert_exporter": "python",
   "pygments_lexer": "ipython3",
   "version": "3.10.0"
  }
 },
 "nbformat": 4,
 "nbformat_minor": 5
}
