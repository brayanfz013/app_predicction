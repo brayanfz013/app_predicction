{
 "cells": [
  {
   "cell_type": "code",
   "execution_count": 1,
   "id": "93e4efa4-46c7-406a-9559-3b7c42781239",
   "metadata": {
    "tags": []
   },
   "outputs": [],
   "source": [
    "import os\n",
    "import sys \n",
    "\n",
    "path_folder = '/home/bdebian/Documents/Projects/Stoke_prediccition/app_prediction/'\n",
    "omitir = ''\n",
    "\n",
    "\n",
    "def search_subfolders(path:str):\n",
    "    '''Funcion para agregar rutas al path de ejecucion'''\n",
    "    folder = []\n",
    "    for root, dirs, _ in os.walk(path, topdown=False):\n",
    "        for name in dirs:\n",
    "            if name == omitir:\n",
    "                print(f\"[INFO] carpeta omitida: {name}\")\n",
    "            else:\n",
    "                folder.append(os.path.join(root, name))\n",
    "    return folder\n",
    "\n",
    "\n",
    "for i in search_subfolders(path_folder):\n",
    "    sys.path.insert(0, i)\n"
   ]
  },
  {
   "cell_type": "code",
   "execution_count": 2,
   "id": "0c7f8578-b4c2-415f-bc9c-9bf4807b28c8",
   "metadata": {
    "tags": []
   },
   "outputs": [
    {
     "name": "stdout",
     "output_type": "stream",
     "text": [
      "attempted relative import with no known parent package\n"
     ]
    }
   ],
   "source": [
    "import numpy as np\n",
    "import pandas as pd\n",
    "from scipy import stats\n",
    "import json\n",
    "from factory_data import get_data, SQLDataSourceFactory\n",
    "from factory_models import ModelContext, Modelos\n",
    "from args_data_model import (\n",
    "    ModelRNN,\n",
    "    ModelBlockRNN,\n",
    "    ModelExponentialSmoothing,\n",
    "    ModelTCNModel,\n",
    "    ModelFFT,\n",
    "    ModelTransformerModel,\n",
    "    ModelNBEATSModel,\n",
    "    ModelDLinearModel,\n",
    "    ModelNlinearModel,\n",
    "    ModelTFTModel\n",
    ")"
   ]
  },
  {
   "cell_type": "code",
   "execution_count": 3,
   "id": "8aae067a-de8c-455f-90e7-2129f5b47006",
   "metadata": {
    "tags": []
   },
   "outputs": [
    {
     "name": "stdout",
     "output_type": "stream",
     "text": [
      "Probando el estacion de datos de sql\n"
     ]
    }
   ],
   "source": [
    "CONFIG_FILE = \"/home/bdebian/Documents/Projects/Stoke_prediccition/app_prediction/src/data/parameter/data_params_run.json\"\n",
    "\n",
    "with open(CONFIG_FILE, 'r', encoding='utf-8') as file:\n",
    "    parameters = json.load(file)\n",
    "\n",
    "print(\"Probando el estacion de datos de sql\")\n",
    "data_postgrest = get_data(SQLDataSourceFactory(**parameters))"
   ]
  },
  {
   "cell_type": "code",
   "execution_count": 4,
   "id": "9fd80010-92a6-4344-a39b-f621b9073ec8",
   "metadata": {
    "tags": []
   },
   "outputs": [],
   "source": [
    "with open(parameters['names_table_columns'] , 'r', encoding='utf-8') as file:\n",
    "    names = json.load(file)\n",
    "\n",
    "names['columns'] = list(names['columns'].values())"
   ]
  },
  {
   "cell_type": "code",
   "execution_count": 5,
   "id": "ef1c6b0a-c9ed-4893-995e-97c28db8f811",
   "metadata": {
    "tags": []
   },
   "outputs": [],
   "source": [
    "data_for_process = pd.DataFrame(data_postgrest,columns=names['columns'])"
   ]
  },
  {
   "cell_type": "code",
   "execution_count": 6,
   "id": "0bd4c689-ade8-476b-9cb3-d71a58088584",
   "metadata": {
    "tags": []
   },
   "outputs": [
    {
     "data": {
      "text/html": [
       "<div>\n",
       "<style scoped>\n",
       "    .dataframe tbody tr th:only-of-type {\n",
       "        vertical-align: middle;\n",
       "    }\n",
       "\n",
       "    .dataframe tbody tr th {\n",
       "        vertical-align: top;\n",
       "    }\n",
       "\n",
       "    .dataframe thead th {\n",
       "        text-align: right;\n",
       "    }\n",
       "</style>\n",
       "<table border=\"1\" class=\"dataframe\">\n",
       "  <thead>\n",
       "    <tr style=\"text-align: right;\">\n",
       "      <th></th>\n",
       "      <th>Fecha Creación</th>\n",
       "      <th>Material (Cod)</th>\n",
       "      <th>Peso neto (TON)</th>\n",
       "      <th>Solicitate (Cod)</th>\n",
       "      <th>Cant Pedido UMV</th>\n",
       "      <th>Valor Neto</th>\n",
       "    </tr>\n",
       "  </thead>\n",
       "  <tbody>\n",
       "    <tr>\n",
       "      <th>0</th>\n",
       "      <td>2022-01-01</td>\n",
       "      <td>10011308.000</td>\n",
       "      <td>10.000</td>\n",
       "      <td>0004155696</td>\n",
       "      <td>200.0</td>\n",
       "      <td>3,844.5</td>\n",
       "    </tr>\n",
       "    <tr>\n",
       "      <th>1</th>\n",
       "      <td>2022-01-02</td>\n",
       "      <td>10011308.000</td>\n",
       "      <td>10.000</td>\n",
       "      <td>0004158888</td>\n",
       "      <td>200.0</td>\n",
       "      <td>3,939.1</td>\n",
       "    </tr>\n",
       "    <tr>\n",
       "      <th>2</th>\n",
       "      <td>2022-01-03</td>\n",
       "      <td>10059053.000</td>\n",
       "      <td>34.190</td>\n",
       "      <td>0004151082</td>\n",
       "      <td>34.2</td>\n",
       "      <td>11,863.9</td>\n",
       "    </tr>\n",
       "    <tr>\n",
       "      <th>3</th>\n",
       "      <td>2022-01-03</td>\n",
       "      <td>10059053.000</td>\n",
       "      <td>33.330</td>\n",
       "      <td>0004139983</td>\n",
       "      <td>33.3</td>\n",
       "      <td>11,346.9</td>\n",
       "    </tr>\n",
       "    <tr>\n",
       "      <th>4</th>\n",
       "      <td>2022-01-03</td>\n",
       "      <td>10059053.000</td>\n",
       "      <td>33.610</td>\n",
       "      <td>0004150188</td>\n",
       "      <td>33.6</td>\n",
       "      <td>11,662.7</td>\n",
       "    </tr>\n",
       "  </tbody>\n",
       "</table>\n",
       "</div>"
      ],
      "text/plain": [
       "  Fecha Creación Material (Cod) Peso neto (TON) Solicitate (Cod)  \\\n",
       "0     2022-01-01   10011308.000          10.000       0004155696   \n",
       "1     2022-01-02   10011308.000          10.000       0004158888   \n",
       "2     2022-01-03   10059053.000          34.190       0004151082   \n",
       "3     2022-01-03   10059053.000          33.330       0004139983   \n",
       "4     2022-01-03   10059053.000          33.610       0004150188   \n",
       "\n",
       "  Cant Pedido UMV Valor Neto  \n",
       "0           200.0    3,844.5  \n",
       "1           200.0    3,939.1  \n",
       "2            34.2   11,863.9  \n",
       "3            33.3   11,346.9  \n",
       "4            33.6   11,662.7  "
      ]
     },
     "execution_count": 6,
     "metadata": {},
     "output_type": "execute_result"
    }
   ],
   "source": [
    "data_for_process.head()"
   ]
  },
  {
   "cell_type": "code",
   "execution_count": 7,
   "id": "e74ffb25-0866-4cc0-abca-1087e0afe294",
   "metadata": {
    "tags": []
   },
   "outputs": [],
   "source": [
    "#Reempplazo de los tipo de datos por lo cuales \n",
    "#se va a cambiar el dataframe\n",
    "new_types =[np.datetime64,int,int,'object',int,int]\n",
    "\n",
    "#Estrategias para imputar los datos faltantes de NA \n",
    "strategy = {\n",
    "    int:np.mean,\n",
    "    float:np.mean,\n",
    "    object:stats.mode\n",
    "}\n",
    "\n",
    "#metodo para transformar los tipo de datos\n",
    "replace = {\n",
    "    int:lambda x: int(float(x.replace(',',''))),\n",
    "    float:lambda x: float(x.replace(',',''))\n",
    "}"
   ]
  },
  {
   "cell_type": "code",
   "execution_count": 8,
   "id": "346c2195-bf9e-47e6-887b-7c29ab395d68",
   "metadata": {
    "tags": []
   },
   "outputs": [],
   "source": [
    "# from features_fix_data import ColumnsNameHandler,PrepareData\n",
    "\n",
    "# HandleData = PrepareData(data_for_process)\n",
    "# dict_update,trans_col = HandleData.get_dtypes_columns_update(new_types)\n",
    "# HandleData.apply_transformations(trans_col,replace)\n",
    "# HandleData.fill_na_columns(strategy)\n",
    "# HandleData.update_dtypes(trans_col)"
   ]
  },
  {
   "cell_type": "code",
   "execution_count": 9,
   "id": "0bc210aa-2fd2-4d1d-b76d-5e9455107139",
   "metadata": {
    "tags": []
   },
   "outputs": [],
   "source": [
    "from factory_prepare_data import DataCleaner,MeanImputation"
   ]
  },
  {
   "cell_type": "code",
   "execution_count": 10,
   "id": "59d51ce6-e5e1-45e8-8bf9-693e384196bd",
   "metadata": {
    "tags": []
   },
   "outputs": [],
   "source": [
    "imputation = MeanImputation(\n",
    "    replace_dtypes=new_types,\n",
    "    strategy_imputation=strategy,\n",
    "    preprocess_function=replace\n",
    ")\n",
    "\n",
    "cleaner = DataCleaner(imputation)\n",
    "data_for_process = cleaner.clean(data_for_process)"
   ]
  },
  {
   "cell_type": "code",
   "execution_count": 11,
   "id": "2233d7fd-dbbf-498c-b21d-68c7894ba748",
   "metadata": {
    "tags": []
   },
   "outputs": [
    {
     "data": {
      "text/html": [
       "<div>\n",
       "<style scoped>\n",
       "    .dataframe tbody tr th:only-of-type {\n",
       "        vertical-align: middle;\n",
       "    }\n",
       "\n",
       "    .dataframe tbody tr th {\n",
       "        vertical-align: top;\n",
       "    }\n",
       "\n",
       "    .dataframe thead th {\n",
       "        text-align: right;\n",
       "    }\n",
       "</style>\n",
       "<table border=\"1\" class=\"dataframe\">\n",
       "  <thead>\n",
       "    <tr style=\"text-align: right;\">\n",
       "      <th></th>\n",
       "      <th>Fecha Creación</th>\n",
       "      <th>Material (Cod)</th>\n",
       "      <th>Peso neto (TON)</th>\n",
       "      <th>Solicitate (Cod)</th>\n",
       "      <th>Cant Pedido UMV</th>\n",
       "      <th>Valor Neto</th>\n",
       "    </tr>\n",
       "  </thead>\n",
       "  <tbody>\n",
       "    <tr>\n",
       "      <th>0</th>\n",
       "      <td>2022-01-01</td>\n",
       "      <td>10011308</td>\n",
       "      <td>10</td>\n",
       "      <td>0004155696</td>\n",
       "      <td>200</td>\n",
       "      <td>3844</td>\n",
       "    </tr>\n",
       "    <tr>\n",
       "      <th>1</th>\n",
       "      <td>2022-01-02</td>\n",
       "      <td>10011308</td>\n",
       "      <td>10</td>\n",
       "      <td>0004158888</td>\n",
       "      <td>200</td>\n",
       "      <td>3939</td>\n",
       "    </tr>\n",
       "    <tr>\n",
       "      <th>2</th>\n",
       "      <td>2022-01-03</td>\n",
       "      <td>10059053</td>\n",
       "      <td>34</td>\n",
       "      <td>0004151082</td>\n",
       "      <td>34</td>\n",
       "      <td>11863</td>\n",
       "    </tr>\n",
       "    <tr>\n",
       "      <th>3</th>\n",
       "      <td>2022-01-03</td>\n",
       "      <td>10059053</td>\n",
       "      <td>33</td>\n",
       "      <td>0004139983</td>\n",
       "      <td>33</td>\n",
       "      <td>11346</td>\n",
       "    </tr>\n",
       "    <tr>\n",
       "      <th>4</th>\n",
       "      <td>2022-01-03</td>\n",
       "      <td>10059053</td>\n",
       "      <td>33</td>\n",
       "      <td>0004150188</td>\n",
       "      <td>33</td>\n",
       "      <td>11662</td>\n",
       "    </tr>\n",
       "    <tr>\n",
       "      <th>...</th>\n",
       "      <td>...</td>\n",
       "      <td>...</td>\n",
       "      <td>...</td>\n",
       "      <td>...</td>\n",
       "      <td>...</td>\n",
       "      <td>...</td>\n",
       "    </tr>\n",
       "    <tr>\n",
       "      <th>105666</th>\n",
       "      <td>2023-03-27</td>\n",
       "      <td>10011308</td>\n",
       "      <td>34</td>\n",
       "      <td>4125819.0</td>\n",
       "      <td>690</td>\n",
       "      <td>14974</td>\n",
       "    </tr>\n",
       "    <tr>\n",
       "      <th>105667</th>\n",
       "      <td>2023-03-27</td>\n",
       "      <td>10011308</td>\n",
       "      <td>35</td>\n",
       "      <td>4125819.0</td>\n",
       "      <td>710</td>\n",
       "      <td>15408</td>\n",
       "    </tr>\n",
       "    <tr>\n",
       "      <th>105668</th>\n",
       "      <td>2023-03-27</td>\n",
       "      <td>10011309</td>\n",
       "      <td>34</td>\n",
       "      <td>4171362.0</td>\n",
       "      <td>3200</td>\n",
       "      <td>45146</td>\n",
       "    </tr>\n",
       "    <tr>\n",
       "      <th>105669</th>\n",
       "      <td>2023-03-27</td>\n",
       "      <td>10011309</td>\n",
       "      <td>35</td>\n",
       "      <td>4171362.0</td>\n",
       "      <td>2472</td>\n",
       "      <td>34876</td>\n",
       "    </tr>\n",
       "    <tr>\n",
       "      <th>105670</th>\n",
       "      <td>2023-03-27</td>\n",
       "      <td>10011309</td>\n",
       "      <td>35</td>\n",
       "      <td>4171362.0</td>\n",
       "      <td>2490</td>\n",
       "      <td>35130</td>\n",
       "    </tr>\n",
       "  </tbody>\n",
       "</table>\n",
       "<p>105671 rows × 6 columns</p>\n",
       "</div>"
      ],
      "text/plain": [
       "       Fecha Creación  Material (Cod)  Peso neto (TON) Solicitate (Cod)  \\\n",
       "0          2022-01-01        10011308               10       0004155696   \n",
       "1          2022-01-02        10011308               10       0004158888   \n",
       "2          2022-01-03        10059053               34       0004151082   \n",
       "3          2022-01-03        10059053               33       0004139983   \n",
       "4          2022-01-03        10059053               33       0004150188   \n",
       "...               ...             ...              ...              ...   \n",
       "105666     2023-03-27        10011308               34        4125819.0   \n",
       "105667     2023-03-27        10011308               35        4125819.0   \n",
       "105668     2023-03-27        10011309               34        4171362.0   \n",
       "105669     2023-03-27        10011309               35        4171362.0   \n",
       "105670     2023-03-27        10011309               35        4171362.0   \n",
       "\n",
       "        Cant Pedido UMV  Valor Neto  \n",
       "0                   200        3844  \n",
       "1                   200        3939  \n",
       "2                    34       11863  \n",
       "3                    33       11346  \n",
       "4                    33       11662  \n",
       "...                 ...         ...  \n",
       "105666              690       14974  \n",
       "105667              710       15408  \n",
       "105668             3200       45146  \n",
       "105669             2472       34876  \n",
       "105670             2490       35130  \n",
       "\n",
       "[105671 rows x 6 columns]"
      ]
     },
     "execution_count": 11,
     "metadata": {},
     "output_type": "execute_result"
    }
   ],
   "source": [
    "data_for_process.dataframe"
   ]
  },
  {
   "cell_type": "code",
   "execution_count": 12,
   "id": "39eac7c3-7425-4698-9b0c-1c7f5d653431",
   "metadata": {
    "tags": []
   },
   "outputs": [],
   "source": [
    "CLIENTE = 10011308\n",
    "COL_FEATURE ='Material (Cod)'\n",
    "\n",
    "#Marcara para valores numericos\n",
    "MASK = data_for_process.dataframe[COL_FEATURE] == CLIENTE\n",
    "data_for_process.dataframe = data_for_process.dataframe[MASK].copy()"
   ]
  },
  {
   "cell_type": "code",
   "execution_count": 13,
   "id": "5b074307-ffc8-4f95-952c-16a363a9a12d",
   "metadata": {
    "tags": []
   },
   "outputs": [],
   "source": [
    "CLIENTE = 4177452\n",
    "COL_FEATURE ='Solicitate (Cod)'\n",
    "\n",
    "#Mascara para datos string\n",
    "MASK = data_for_process.dataframe[COL_FEATURE].str.contains(str(CLIENTE))\n",
    "data_for_process.dataframe = data_for_process.dataframe[MASK]"
   ]
  },
  {
   "cell_type": "code",
   "execution_count": 14,
   "id": "af43be08-4f7e-48b7-8f37-04ba60b31f83",
   "metadata": {
    "tags": []
   },
   "outputs": [
    {
     "data": {
      "text/html": [
       "<div>\n",
       "<style scoped>\n",
       "    .dataframe tbody tr th:only-of-type {\n",
       "        vertical-align: middle;\n",
       "    }\n",
       "\n",
       "    .dataframe tbody tr th {\n",
       "        vertical-align: top;\n",
       "    }\n",
       "\n",
       "    .dataframe thead th {\n",
       "        text-align: right;\n",
       "    }\n",
       "</style>\n",
       "<table border=\"1\" class=\"dataframe\">\n",
       "  <thead>\n",
       "    <tr style=\"text-align: right;\">\n",
       "      <th></th>\n",
       "      <th>Fecha Creación</th>\n",
       "      <th>Material (Cod)</th>\n",
       "      <th>Peso neto (TON)</th>\n",
       "      <th>Solicitate (Cod)</th>\n",
       "      <th>Cant Pedido UMV</th>\n",
       "      <th>Valor Neto</th>\n",
       "    </tr>\n",
       "  </thead>\n",
       "  <tbody>\n",
       "    <tr>\n",
       "      <th>38</th>\n",
       "      <td>2022-01-03</td>\n",
       "      <td>10011308</td>\n",
       "      <td>10</td>\n",
       "      <td>0004177452</td>\n",
       "      <td>200</td>\n",
       "      <td>3766</td>\n",
       "    </tr>\n",
       "    <tr>\n",
       "      <th>57</th>\n",
       "      <td>2022-01-03</td>\n",
       "      <td>10011308</td>\n",
       "      <td>7</td>\n",
       "      <td>0004177452</td>\n",
       "      <td>150</td>\n",
       "      <td>2824</td>\n",
       "    </tr>\n",
       "    <tr>\n",
       "      <th>301</th>\n",
       "      <td>2022-01-04</td>\n",
       "      <td>10011308</td>\n",
       "      <td>3</td>\n",
       "      <td>0004177452</td>\n",
       "      <td>60</td>\n",
       "      <td>1129</td>\n",
       "    </tr>\n",
       "    <tr>\n",
       "      <th>437</th>\n",
       "      <td>2022-01-05</td>\n",
       "      <td>10011308</td>\n",
       "      <td>3</td>\n",
       "      <td>0004177452</td>\n",
       "      <td>60</td>\n",
       "      <td>1126</td>\n",
       "    </tr>\n",
       "    <tr>\n",
       "      <th>456</th>\n",
       "      <td>2022-01-05</td>\n",
       "      <td>10011308</td>\n",
       "      <td>2</td>\n",
       "      <td>0004177452</td>\n",
       "      <td>50</td>\n",
       "      <td>939</td>\n",
       "    </tr>\n",
       "    <tr>\n",
       "      <th>...</th>\n",
       "      <td>...</td>\n",
       "      <td>...</td>\n",
       "      <td>...</td>\n",
       "      <td>...</td>\n",
       "      <td>...</td>\n",
       "      <td>...</td>\n",
       "    </tr>\n",
       "    <tr>\n",
       "      <th>105239</th>\n",
       "      <td>2023-03-24</td>\n",
       "      <td>10011308</td>\n",
       "      <td>5</td>\n",
       "      <td>4177452.0</td>\n",
       "      <td>200</td>\n",
       "      <td>4402</td>\n",
       "    </tr>\n",
       "    <tr>\n",
       "      <th>105331</th>\n",
       "      <td>2023-03-24</td>\n",
       "      <td>10011308</td>\n",
       "      <td>7</td>\n",
       "      <td>4177452.0</td>\n",
       "      <td>300</td>\n",
       "      <td>6535</td>\n",
       "    </tr>\n",
       "    <tr>\n",
       "      <th>105598</th>\n",
       "      <td>2023-03-25</td>\n",
       "      <td>10011308</td>\n",
       "      <td>10</td>\n",
       "      <td>4177452.0</td>\n",
       "      <td>400</td>\n",
       "      <td>8821</td>\n",
       "    </tr>\n",
       "    <tr>\n",
       "      <th>105621</th>\n",
       "      <td>2023-03-25</td>\n",
       "      <td>10011308</td>\n",
       "      <td>2</td>\n",
       "      <td>4177452.0</td>\n",
       "      <td>40</td>\n",
       "      <td>862</td>\n",
       "    </tr>\n",
       "    <tr>\n",
       "      <th>105630</th>\n",
       "      <td>2023-03-25</td>\n",
       "      <td>10011308</td>\n",
       "      <td>7</td>\n",
       "      <td>4177452.0</td>\n",
       "      <td>150</td>\n",
       "      <td>3233</td>\n",
       "    </tr>\n",
       "  </tbody>\n",
       "</table>\n",
       "<p>882 rows × 6 columns</p>\n",
       "</div>"
      ],
      "text/plain": [
       "       Fecha Creación  Material (Cod)  Peso neto (TON) Solicitate (Cod)  \\\n",
       "38         2022-01-03        10011308               10       0004177452   \n",
       "57         2022-01-03        10011308                7       0004177452   \n",
       "301        2022-01-04        10011308                3       0004177452   \n",
       "437        2022-01-05        10011308                3       0004177452   \n",
       "456        2022-01-05        10011308                2       0004177452   \n",
       "...               ...             ...              ...              ...   \n",
       "105239     2023-03-24        10011308                5        4177452.0   \n",
       "105331     2023-03-24        10011308                7        4177452.0   \n",
       "105598     2023-03-25        10011308               10        4177452.0   \n",
       "105621     2023-03-25        10011308                2        4177452.0   \n",
       "105630     2023-03-25        10011308                7        4177452.0   \n",
       "\n",
       "        Cant Pedido UMV  Valor Neto  \n",
       "38                  200        3766  \n",
       "57                  150        2824  \n",
       "301                  60        1129  \n",
       "437                  60        1126  \n",
       "456                  50         939  \n",
       "...                 ...         ...  \n",
       "105239              200        4402  \n",
       "105331              300        6535  \n",
       "105598              400        8821  \n",
       "105621               40         862  \n",
       "105630              150        3233  \n",
       "\n",
       "[882 rows x 6 columns]"
      ]
     },
     "execution_count": 14,
     "metadata": {},
     "output_type": "execute_result"
    }
   ],
   "source": [
    "data_for_process.dataframe"
   ]
  },
  {
   "cell_type": "code",
   "execution_count": 15,
   "id": "7e321388-d915-4aea-a8f7-1b1fcc3db01f",
   "metadata": {
    "tags": []
   },
   "outputs": [
    {
     "data": {
      "text/html": [
       "<div>\n",
       "<style scoped>\n",
       "    .dataframe tbody tr th:only-of-type {\n",
       "        vertical-align: middle;\n",
       "    }\n",
       "\n",
       "    .dataframe tbody tr th {\n",
       "        vertical-align: top;\n",
       "    }\n",
       "\n",
       "    .dataframe thead th {\n",
       "        text-align: right;\n",
       "    }\n",
       "</style>\n",
       "<table border=\"1\" class=\"dataframe\">\n",
       "  <thead>\n",
       "    <tr style=\"text-align: right;\">\n",
       "      <th></th>\n",
       "      <th>Fecha Creación</th>\n",
       "      <th>Material (Cod)</th>\n",
       "      <th>Peso neto (TON)</th>\n",
       "      <th>Solicitate (Cod)</th>\n",
       "      <th>Cant Pedido UMV</th>\n",
       "      <th>Valor Neto</th>\n",
       "      <th>Dia</th>\n",
       "      <th>Mes</th>\n",
       "      <th>Año</th>\n",
       "      <th>Semana</th>\n",
       "      <th>DiaSemana</th>\n",
       "    </tr>\n",
       "  </thead>\n",
       "  <tbody>\n",
       "    <tr>\n",
       "      <th>38</th>\n",
       "      <td>2022-01-03</td>\n",
       "      <td>10011308</td>\n",
       "      <td>10</td>\n",
       "      <td>0004177452</td>\n",
       "      <td>200</td>\n",
       "      <td>3766</td>\n",
       "      <td>3</td>\n",
       "      <td>1</td>\n",
       "      <td>2022</td>\n",
       "      <td>1</td>\n",
       "      <td>0</td>\n",
       "    </tr>\n",
       "    <tr>\n",
       "      <th>57</th>\n",
       "      <td>2022-01-03</td>\n",
       "      <td>10011308</td>\n",
       "      <td>7</td>\n",
       "      <td>0004177452</td>\n",
       "      <td>150</td>\n",
       "      <td>2824</td>\n",
       "      <td>3</td>\n",
       "      <td>1</td>\n",
       "      <td>2022</td>\n",
       "      <td>1</td>\n",
       "      <td>0</td>\n",
       "    </tr>\n",
       "    <tr>\n",
       "      <th>301</th>\n",
       "      <td>2022-01-04</td>\n",
       "      <td>10011308</td>\n",
       "      <td>3</td>\n",
       "      <td>0004177452</td>\n",
       "      <td>60</td>\n",
       "      <td>1129</td>\n",
       "      <td>4</td>\n",
       "      <td>1</td>\n",
       "      <td>2022</td>\n",
       "      <td>1</td>\n",
       "      <td>1</td>\n",
       "    </tr>\n",
       "    <tr>\n",
       "      <th>437</th>\n",
       "      <td>2022-01-05</td>\n",
       "      <td>10011308</td>\n",
       "      <td>3</td>\n",
       "      <td>0004177452</td>\n",
       "      <td>60</td>\n",
       "      <td>1126</td>\n",
       "      <td>5</td>\n",
       "      <td>1</td>\n",
       "      <td>2022</td>\n",
       "      <td>1</td>\n",
       "      <td>2</td>\n",
       "    </tr>\n",
       "    <tr>\n",
       "      <th>456</th>\n",
       "      <td>2022-01-05</td>\n",
       "      <td>10011308</td>\n",
       "      <td>2</td>\n",
       "      <td>0004177452</td>\n",
       "      <td>50</td>\n",
       "      <td>939</td>\n",
       "      <td>5</td>\n",
       "      <td>1</td>\n",
       "      <td>2022</td>\n",
       "      <td>1</td>\n",
       "      <td>2</td>\n",
       "    </tr>\n",
       "    <tr>\n",
       "      <th>...</th>\n",
       "      <td>...</td>\n",
       "      <td>...</td>\n",
       "      <td>...</td>\n",
       "      <td>...</td>\n",
       "      <td>...</td>\n",
       "      <td>...</td>\n",
       "      <td>...</td>\n",
       "      <td>...</td>\n",
       "      <td>...</td>\n",
       "      <td>...</td>\n",
       "      <td>...</td>\n",
       "    </tr>\n",
       "    <tr>\n",
       "      <th>105239</th>\n",
       "      <td>2023-03-24</td>\n",
       "      <td>10011308</td>\n",
       "      <td>5</td>\n",
       "      <td>4177452.0</td>\n",
       "      <td>200</td>\n",
       "      <td>4402</td>\n",
       "      <td>24</td>\n",
       "      <td>3</td>\n",
       "      <td>2023</td>\n",
       "      <td>12</td>\n",
       "      <td>4</td>\n",
       "    </tr>\n",
       "    <tr>\n",
       "      <th>105331</th>\n",
       "      <td>2023-03-24</td>\n",
       "      <td>10011308</td>\n",
       "      <td>7</td>\n",
       "      <td>4177452.0</td>\n",
       "      <td>300</td>\n",
       "      <td>6535</td>\n",
       "      <td>24</td>\n",
       "      <td>3</td>\n",
       "      <td>2023</td>\n",
       "      <td>12</td>\n",
       "      <td>4</td>\n",
       "    </tr>\n",
       "    <tr>\n",
       "      <th>105598</th>\n",
       "      <td>2023-03-25</td>\n",
       "      <td>10011308</td>\n",
       "      <td>10</td>\n",
       "      <td>4177452.0</td>\n",
       "      <td>400</td>\n",
       "      <td>8821</td>\n",
       "      <td>25</td>\n",
       "      <td>3</td>\n",
       "      <td>2023</td>\n",
       "      <td>12</td>\n",
       "      <td>5</td>\n",
       "    </tr>\n",
       "    <tr>\n",
       "      <th>105621</th>\n",
       "      <td>2023-03-25</td>\n",
       "      <td>10011308</td>\n",
       "      <td>2</td>\n",
       "      <td>4177452.0</td>\n",
       "      <td>40</td>\n",
       "      <td>862</td>\n",
       "      <td>25</td>\n",
       "      <td>3</td>\n",
       "      <td>2023</td>\n",
       "      <td>12</td>\n",
       "      <td>5</td>\n",
       "    </tr>\n",
       "    <tr>\n",
       "      <th>105630</th>\n",
       "      <td>2023-03-25</td>\n",
       "      <td>10011308</td>\n",
       "      <td>7</td>\n",
       "      <td>4177452.0</td>\n",
       "      <td>150</td>\n",
       "      <td>3233</td>\n",
       "      <td>25</td>\n",
       "      <td>3</td>\n",
       "      <td>2023</td>\n",
       "      <td>12</td>\n",
       "      <td>5</td>\n",
       "    </tr>\n",
       "  </tbody>\n",
       "</table>\n",
       "<p>882 rows × 11 columns</p>\n",
       "</div>"
      ],
      "text/plain": [
       "       Fecha Creación  Material (Cod)  Peso neto (TON) Solicitate (Cod)  \\\n",
       "38         2022-01-03        10011308               10       0004177452   \n",
       "57         2022-01-03        10011308                7       0004177452   \n",
       "301        2022-01-04        10011308                3       0004177452   \n",
       "437        2022-01-05        10011308                3       0004177452   \n",
       "456        2022-01-05        10011308                2       0004177452   \n",
       "...               ...             ...              ...              ...   \n",
       "105239     2023-03-24        10011308                5        4177452.0   \n",
       "105331     2023-03-24        10011308                7        4177452.0   \n",
       "105598     2023-03-25        10011308               10        4177452.0   \n",
       "105621     2023-03-25        10011308                2        4177452.0   \n",
       "105630     2023-03-25        10011308                7        4177452.0   \n",
       "\n",
       "        Cant Pedido UMV  Valor Neto  Dia  Mes   Año  Semana  DiaSemana  \n",
       "38                  200        3766    3    1  2022       1          0  \n",
       "57                  150        2824    3    1  2022       1          0  \n",
       "301                  60        1129    4    1  2022       1          1  \n",
       "437                  60        1126    5    1  2022       1          2  \n",
       "456                  50         939    5    1  2022       1          2  \n",
       "...                 ...         ...  ...  ...   ...     ...        ...  \n",
       "105239              200        4402   24    3  2023      12          4  \n",
       "105331              300        6535   24    3  2023      12          4  \n",
       "105598              400        8821   25    3  2023      12          5  \n",
       "105621               40         862   25    3  2023      12          5  \n",
       "105630              150        3233   25    3  2023      12          5  \n",
       "\n",
       "[882 rows x 11 columns]"
      ]
     },
     "execution_count": 15,
     "metadata": {},
     "output_type": "execute_result"
    }
   ],
   "source": [
    "data_for_process.get_expand_date('Fecha Creación')"
   ]
  },
  {
   "cell_type": "code",
   "execution_count": 16,
   "id": "fa67e39a-624e-4111-8c64-b6403450e1d5",
   "metadata": {
    "tags": []
   },
   "outputs": [],
   "source": [
    "data_for_process.set_index_col('Fecha Creación')"
   ]
  },
  {
   "cell_type": "code",
   "execution_count": 17,
   "id": "3ddca6ea-26de-4837-b96e-7ff9693c2a01",
   "metadata": {
    "tags": []
   },
   "outputs": [
    {
     "data": {
      "text/html": [
       "<div>\n",
       "<style scoped>\n",
       "    .dataframe tbody tr th:only-of-type {\n",
       "        vertical-align: middle;\n",
       "    }\n",
       "\n",
       "    .dataframe tbody tr th {\n",
       "        vertical-align: top;\n",
       "    }\n",
       "\n",
       "    .dataframe thead th {\n",
       "        text-align: right;\n",
       "    }\n",
       "</style>\n",
       "<table border=\"1\" class=\"dataframe\">\n",
       "  <thead>\n",
       "    <tr style=\"text-align: right;\">\n",
       "      <th></th>\n",
       "      <th>Material (Cod)</th>\n",
       "      <th>Peso neto (TON)</th>\n",
       "      <th>Solicitate (Cod)</th>\n",
       "      <th>Cant Pedido UMV</th>\n",
       "      <th>Valor Neto</th>\n",
       "      <th>Dia</th>\n",
       "      <th>Mes</th>\n",
       "      <th>Año</th>\n",
       "      <th>Semana</th>\n",
       "      <th>DiaSemana</th>\n",
       "    </tr>\n",
       "    <tr>\n",
       "      <th>Fecha Creación</th>\n",
       "      <th></th>\n",
       "      <th></th>\n",
       "      <th></th>\n",
       "      <th></th>\n",
       "      <th></th>\n",
       "      <th></th>\n",
       "      <th></th>\n",
       "      <th></th>\n",
       "      <th></th>\n",
       "      <th></th>\n",
       "    </tr>\n",
       "  </thead>\n",
       "  <tbody>\n",
       "    <tr>\n",
       "      <th>2022-01-03</th>\n",
       "      <td>10011308</td>\n",
       "      <td>10</td>\n",
       "      <td>0004177452</td>\n",
       "      <td>200</td>\n",
       "      <td>3766</td>\n",
       "      <td>3</td>\n",
       "      <td>1</td>\n",
       "      <td>2022</td>\n",
       "      <td>1</td>\n",
       "      <td>0</td>\n",
       "    </tr>\n",
       "    <tr>\n",
       "      <th>2022-01-03</th>\n",
       "      <td>10011308</td>\n",
       "      <td>7</td>\n",
       "      <td>0004177452</td>\n",
       "      <td>150</td>\n",
       "      <td>2824</td>\n",
       "      <td>3</td>\n",
       "      <td>1</td>\n",
       "      <td>2022</td>\n",
       "      <td>1</td>\n",
       "      <td>0</td>\n",
       "    </tr>\n",
       "    <tr>\n",
       "      <th>2022-01-04</th>\n",
       "      <td>10011308</td>\n",
       "      <td>3</td>\n",
       "      <td>0004177452</td>\n",
       "      <td>60</td>\n",
       "      <td>1129</td>\n",
       "      <td>4</td>\n",
       "      <td>1</td>\n",
       "      <td>2022</td>\n",
       "      <td>1</td>\n",
       "      <td>1</td>\n",
       "    </tr>\n",
       "    <tr>\n",
       "      <th>2022-01-05</th>\n",
       "      <td>10011308</td>\n",
       "      <td>3</td>\n",
       "      <td>0004177452</td>\n",
       "      <td>60</td>\n",
       "      <td>1126</td>\n",
       "      <td>5</td>\n",
       "      <td>1</td>\n",
       "      <td>2022</td>\n",
       "      <td>1</td>\n",
       "      <td>2</td>\n",
       "    </tr>\n",
       "    <tr>\n",
       "      <th>2022-01-05</th>\n",
       "      <td>10011308</td>\n",
       "      <td>2</td>\n",
       "      <td>0004177452</td>\n",
       "      <td>50</td>\n",
       "      <td>939</td>\n",
       "      <td>5</td>\n",
       "      <td>1</td>\n",
       "      <td>2022</td>\n",
       "      <td>1</td>\n",
       "      <td>2</td>\n",
       "    </tr>\n",
       "    <tr>\n",
       "      <th>...</th>\n",
       "      <td>...</td>\n",
       "      <td>...</td>\n",
       "      <td>...</td>\n",
       "      <td>...</td>\n",
       "      <td>...</td>\n",
       "      <td>...</td>\n",
       "      <td>...</td>\n",
       "      <td>...</td>\n",
       "      <td>...</td>\n",
       "      <td>...</td>\n",
       "    </tr>\n",
       "    <tr>\n",
       "      <th>2023-03-24</th>\n",
       "      <td>10011308</td>\n",
       "      <td>5</td>\n",
       "      <td>4177452.0</td>\n",
       "      <td>200</td>\n",
       "      <td>4402</td>\n",
       "      <td>24</td>\n",
       "      <td>3</td>\n",
       "      <td>2023</td>\n",
       "      <td>12</td>\n",
       "      <td>4</td>\n",
       "    </tr>\n",
       "    <tr>\n",
       "      <th>2023-03-24</th>\n",
       "      <td>10011308</td>\n",
       "      <td>7</td>\n",
       "      <td>4177452.0</td>\n",
       "      <td>300</td>\n",
       "      <td>6535</td>\n",
       "      <td>24</td>\n",
       "      <td>3</td>\n",
       "      <td>2023</td>\n",
       "      <td>12</td>\n",
       "      <td>4</td>\n",
       "    </tr>\n",
       "    <tr>\n",
       "      <th>2023-03-25</th>\n",
       "      <td>10011308</td>\n",
       "      <td>10</td>\n",
       "      <td>4177452.0</td>\n",
       "      <td>400</td>\n",
       "      <td>8821</td>\n",
       "      <td>25</td>\n",
       "      <td>3</td>\n",
       "      <td>2023</td>\n",
       "      <td>12</td>\n",
       "      <td>5</td>\n",
       "    </tr>\n",
       "    <tr>\n",
       "      <th>2023-03-25</th>\n",
       "      <td>10011308</td>\n",
       "      <td>2</td>\n",
       "      <td>4177452.0</td>\n",
       "      <td>40</td>\n",
       "      <td>862</td>\n",
       "      <td>25</td>\n",
       "      <td>3</td>\n",
       "      <td>2023</td>\n",
       "      <td>12</td>\n",
       "      <td>5</td>\n",
       "    </tr>\n",
       "    <tr>\n",
       "      <th>2023-03-25</th>\n",
       "      <td>10011308</td>\n",
       "      <td>7</td>\n",
       "      <td>4177452.0</td>\n",
       "      <td>150</td>\n",
       "      <td>3233</td>\n",
       "      <td>25</td>\n",
       "      <td>3</td>\n",
       "      <td>2023</td>\n",
       "      <td>12</td>\n",
       "      <td>5</td>\n",
       "    </tr>\n",
       "  </tbody>\n",
       "</table>\n",
       "<p>882 rows × 10 columns</p>\n",
       "</div>"
      ],
      "text/plain": [
       "                Material (Cod)  Peso neto (TON) Solicitate (Cod)  \\\n",
       "Fecha Creación                                                     \n",
       "2022-01-03            10011308               10       0004177452   \n",
       "2022-01-03            10011308                7       0004177452   \n",
       "2022-01-04            10011308                3       0004177452   \n",
       "2022-01-05            10011308                3       0004177452   \n",
       "2022-01-05            10011308                2       0004177452   \n",
       "...                        ...              ...              ...   \n",
       "2023-03-24            10011308                5        4177452.0   \n",
       "2023-03-24            10011308                7        4177452.0   \n",
       "2023-03-25            10011308               10        4177452.0   \n",
       "2023-03-25            10011308                2        4177452.0   \n",
       "2023-03-25            10011308                7        4177452.0   \n",
       "\n",
       "                Cant Pedido UMV  Valor Neto  Dia  Mes   Año  Semana  DiaSemana  \n",
       "Fecha Creación                                                                  \n",
       "2022-01-03                  200        3766    3    1  2022       1          0  \n",
       "2022-01-03                  150        2824    3    1  2022       1          0  \n",
       "2022-01-04                   60        1129    4    1  2022       1          1  \n",
       "2022-01-05                   60        1126    5    1  2022       1          2  \n",
       "2022-01-05                   50         939    5    1  2022       1          2  \n",
       "...                         ...         ...  ...  ...   ...     ...        ...  \n",
       "2023-03-24                  200        4402   24    3  2023      12          4  \n",
       "2023-03-24                  300        6535   24    3  2023      12          4  \n",
       "2023-03-25                  400        8821   25    3  2023      12          5  \n",
       "2023-03-25                   40         862   25    3  2023      12          5  \n",
       "2023-03-25                  150        3233   25    3  2023      12          5  \n",
       "\n",
       "[882 rows x 10 columns]"
      ]
     },
     "execution_count": 17,
     "metadata": {},
     "output_type": "execute_result"
    }
   ],
   "source": [
    "data_for_process.dataframe"
   ]
  },
  {
   "cell_type": "code",
   "execution_count": 18,
   "id": "1180a86c-4852-4a2d-8353-c3a6c01a418c",
   "metadata": {
    "tags": []
   },
   "outputs": [],
   "source": [
    "from matplotlib import pyplot as plt\n",
    "from matplotlib import cm\n",
    "import matplotlib.dates as mdates\n",
    "import seaborn as sbn"
   ]
  },
  {
   "cell_type": "code",
   "execution_count": 19,
   "id": "710b4350-42df-4079-a626-c0a60a58bd2c",
   "metadata": {
    "tags": []
   },
   "outputs": [
    {
     "data": {
      "image/png": "[encoded data removed]",
      "text/plain": [
       "<Figure size 4000x1000 with 1 Axes>"
      ]
     },
     "metadata": {},
     "output_type": "display_data"
    }
   ],
   "source": [
    "fig, ax = plt.subplots(figsize=(40,10))\n",
    "ax.stem(\n",
    "    data_for_process.dataframe.index,\n",
    "    data_for_process.dataframe['Cant Pedido UMV'].values)\n",
    "\n",
    "fmt_half_year = mdates.MonthLocator(interval=2)\n",
    "ax.xaxis.set_major_locator(fmt_half_year)\n",
    "fmt_month = mdates.MonthLocator()\n",
    "ax.xaxis.set_minor_locator(fmt_month)\n",
    "ax.xaxis.set_major_formatter(mdates.DateFormatter('%Y-%m'))\n",
    "\n",
    "datemin =np.datetime64(data_for_process.dataframe.index.min(), 'Y')\n",
    "datemax =np.datetime64(data_for_process.dataframe.index.max(), 'Y')\n",
    "\n",
    "# ax.set_xlim(datemin, datemax)\n",
    "ax.format_xdata = mdates.DateFormatter('%Y-%m')\n",
    "ax.grid(True)\n",
    "fig.autofmt_xdate()\n",
    "plt.show()"
   ]
  },
  {
   "cell_type": "code",
   "execution_count": 20,
   "id": "1d4f6a54-b5cc-439a-b63b-423501ca4e47",
   "metadata": {
    "tags": []
   },
   "outputs": [
    {
     "data": {
      "text/html": [
       "<div>\n",
       "<style scoped>\n",
       "    .dataframe tbody tr th:only-of-type {\n",
       "        vertical-align: middle;\n",
       "    }\n",
       "\n",
       "    .dataframe tbody tr th {\n",
       "        vertical-align: top;\n",
       "    }\n",
       "\n",
       "    .dataframe thead th {\n",
       "        text-align: right;\n",
       "    }\n",
       "</style>\n",
       "<table border=\"1\" class=\"dataframe\">\n",
       "  <thead>\n",
       "    <tr style=\"text-align: right;\">\n",
       "      <th></th>\n",
       "      <th>Material (Cod)</th>\n",
       "      <th>Peso neto (TON)</th>\n",
       "      <th>Solicitate (Cod)</th>\n",
       "      <th>Cant Pedido UMV</th>\n",
       "      <th>Valor Neto</th>\n",
       "      <th>Dia</th>\n",
       "      <th>Mes</th>\n",
       "      <th>Año</th>\n",
       "      <th>Semana</th>\n",
       "      <th>DiaSemana</th>\n",
       "    </tr>\n",
       "    <tr>\n",
       "      <th>Fecha Creación</th>\n",
       "      <th></th>\n",
       "      <th></th>\n",
       "      <th></th>\n",
       "      <th></th>\n",
       "      <th></th>\n",
       "      <th></th>\n",
       "      <th></th>\n",
       "      <th></th>\n",
       "      <th></th>\n",
       "      <th></th>\n",
       "    </tr>\n",
       "  </thead>\n",
       "  <tbody>\n",
       "    <tr>\n",
       "      <th>2022-01-03</th>\n",
       "      <td>10011308</td>\n",
       "      <td>10</td>\n",
       "      <td>0004177452</td>\n",
       "      <td>200</td>\n",
       "      <td>3766</td>\n",
       "      <td>3</td>\n",
       "      <td>1</td>\n",
       "      <td>2022</td>\n",
       "      <td>1</td>\n",
       "      <td>0</td>\n",
       "    </tr>\n",
       "    <tr>\n",
       "      <th>2022-01-03</th>\n",
       "      <td>10011308</td>\n",
       "      <td>7</td>\n",
       "      <td>0004177452</td>\n",
       "      <td>150</td>\n",
       "      <td>2824</td>\n",
       "      <td>3</td>\n",
       "      <td>1</td>\n",
       "      <td>2022</td>\n",
       "      <td>1</td>\n",
       "      <td>0</td>\n",
       "    </tr>\n",
       "    <tr>\n",
       "      <th>2022-01-04</th>\n",
       "      <td>10011308</td>\n",
       "      <td>3</td>\n",
       "      <td>0004177452</td>\n",
       "      <td>60</td>\n",
       "      <td>1129</td>\n",
       "      <td>4</td>\n",
       "      <td>1</td>\n",
       "      <td>2022</td>\n",
       "      <td>1</td>\n",
       "      <td>1</td>\n",
       "    </tr>\n",
       "    <tr>\n",
       "      <th>2022-01-05</th>\n",
       "      <td>10011308</td>\n",
       "      <td>3</td>\n",
       "      <td>0004177452</td>\n",
       "      <td>60</td>\n",
       "      <td>1126</td>\n",
       "      <td>5</td>\n",
       "      <td>1</td>\n",
       "      <td>2022</td>\n",
       "      <td>1</td>\n",
       "      <td>2</td>\n",
       "    </tr>\n",
       "    <tr>\n",
       "      <th>2022-01-05</th>\n",
       "      <td>10011308</td>\n",
       "      <td>2</td>\n",
       "      <td>0004177452</td>\n",
       "      <td>50</td>\n",
       "      <td>939</td>\n",
       "      <td>5</td>\n",
       "      <td>1</td>\n",
       "      <td>2022</td>\n",
       "      <td>1</td>\n",
       "      <td>2</td>\n",
       "    </tr>\n",
       "    <tr>\n",
       "      <th>...</th>\n",
       "      <td>...</td>\n",
       "      <td>...</td>\n",
       "      <td>...</td>\n",
       "      <td>...</td>\n",
       "      <td>...</td>\n",
       "      <td>...</td>\n",
       "      <td>...</td>\n",
       "      <td>...</td>\n",
       "      <td>...</td>\n",
       "      <td>...</td>\n",
       "    </tr>\n",
       "    <tr>\n",
       "      <th>2023-03-24</th>\n",
       "      <td>10011308</td>\n",
       "      <td>5</td>\n",
       "      <td>4177452.0</td>\n",
       "      <td>200</td>\n",
       "      <td>4402</td>\n",
       "      <td>24</td>\n",
       "      <td>3</td>\n",
       "      <td>2023</td>\n",
       "      <td>12</td>\n",
       "      <td>4</td>\n",
       "    </tr>\n",
       "    <tr>\n",
       "      <th>2023-03-24</th>\n",
       "      <td>10011308</td>\n",
       "      <td>7</td>\n",
       "      <td>4177452.0</td>\n",
       "      <td>300</td>\n",
       "      <td>6535</td>\n",
       "      <td>24</td>\n",
       "      <td>3</td>\n",
       "      <td>2023</td>\n",
       "      <td>12</td>\n",
       "      <td>4</td>\n",
       "    </tr>\n",
       "    <tr>\n",
       "      <th>2023-03-25</th>\n",
       "      <td>10011308</td>\n",
       "      <td>10</td>\n",
       "      <td>4177452.0</td>\n",
       "      <td>400</td>\n",
       "      <td>8821</td>\n",
       "      <td>25</td>\n",
       "      <td>3</td>\n",
       "      <td>2023</td>\n",
       "      <td>12</td>\n",
       "      <td>5</td>\n",
       "    </tr>\n",
       "    <tr>\n",
       "      <th>2023-03-25</th>\n",
       "      <td>10011308</td>\n",
       "      <td>2</td>\n",
       "      <td>4177452.0</td>\n",
       "      <td>40</td>\n",
       "      <td>862</td>\n",
       "      <td>25</td>\n",
       "      <td>3</td>\n",
       "      <td>2023</td>\n",
       "      <td>12</td>\n",
       "      <td>5</td>\n",
       "    </tr>\n",
       "    <tr>\n",
       "      <th>2023-03-25</th>\n",
       "      <td>10011308</td>\n",
       "      <td>7</td>\n",
       "      <td>4177452.0</td>\n",
       "      <td>150</td>\n",
       "      <td>3233</td>\n",
       "      <td>25</td>\n",
       "      <td>3</td>\n",
       "      <td>2023</td>\n",
       "      <td>12</td>\n",
       "      <td>5</td>\n",
       "    </tr>\n",
       "  </tbody>\n",
       "</table>\n",
       "<p>882 rows × 10 columns</p>\n",
       "</div>"
      ],
      "text/plain": [
       "                Material (Cod)  Peso neto (TON) Solicitate (Cod)  \\\n",
       "Fecha Creación                                                     \n",
       "2022-01-03            10011308               10       0004177452   \n",
       "2022-01-03            10011308                7       0004177452   \n",
       "2022-01-04            10011308                3       0004177452   \n",
       "2022-01-05            10011308                3       0004177452   \n",
       "2022-01-05            10011308                2       0004177452   \n",
       "...                        ...              ...              ...   \n",
       "2023-03-24            10011308                5        4177452.0   \n",
       "2023-03-24            10011308                7        4177452.0   \n",
       "2023-03-25            10011308               10        4177452.0   \n",
       "2023-03-25            10011308                2        4177452.0   \n",
       "2023-03-25            10011308                7        4177452.0   \n",
       "\n",
       "                Cant Pedido UMV  Valor Neto  Dia  Mes   Año  Semana  DiaSemana  \n",
       "Fecha Creación                                                                  \n",
       "2022-01-03                  200        3766    3    1  2022       1          0  \n",
       "2022-01-03                  150        2824    3    1  2022       1          0  \n",
       "2022-01-04                   60        1129    4    1  2022       1          1  \n",
       "2022-01-05                   60        1126    5    1  2022       1          2  \n",
       "2022-01-05                   50         939    5    1  2022       1          2  \n",
       "...                         ...         ...  ...  ...   ...     ...        ...  \n",
       "2023-03-24                  200        4402   24    3  2023      12          4  \n",
       "2023-03-24                  300        6535   24    3  2023      12          4  \n",
       "2023-03-25                  400        8821   25    3  2023      12          5  \n",
       "2023-03-25                   40         862   25    3  2023      12          5  \n",
       "2023-03-25                  150        3233   25    3  2023      12          5  \n",
       "\n",
       "[882 rows x 10 columns]"
      ]
     },
     "execution_count": 20,
     "metadata": {},
     "output_type": "execute_result"
    }
   ],
   "source": [
    "data_for_process.dataframe"
   ]
  },
  {
   "cell_type": "code",
   "execution_count": 21,
   "id": "93902411-ae9c-464e-8c81-368bea1d7638",
   "metadata": {},
   "outputs": [],
   "source": [
    "# data_filtering.dataframe\n",
    "data_for_process.group_by_time('Cant Pedido UMV',frequency_group='D')"
   ]
  },
  {
   "cell_type": "code",
   "execution_count": 22,
   "id": "66ce6a54-8370-4cc9-a637-f736c9a29c5c",
   "metadata": {
    "tags": []
   },
   "outputs": [
    {
     "data": {
      "text/html": [
       "<div>\n",
       "<style scoped>\n",
       "    .dataframe tbody tr th:only-of-type {\n",
       "        vertical-align: middle;\n",
       "    }\n",
       "\n",
       "    .dataframe tbody tr th {\n",
       "        vertical-align: top;\n",
       "    }\n",
       "\n",
       "    .dataframe thead th {\n",
       "        text-align: right;\n",
       "    }\n",
       "</style>\n",
       "<table border=\"1\" class=\"dataframe\">\n",
       "  <thead>\n",
       "    <tr style=\"text-align: right;\">\n",
       "      <th></th>\n",
       "      <th>Cant Pedido UMV</th>\n",
       "    </tr>\n",
       "    <tr>\n",
       "      <th>Fecha Creación</th>\n",
       "      <th></th>\n",
       "    </tr>\n",
       "  </thead>\n",
       "  <tbody>\n",
       "    <tr>\n",
       "      <th>2022-01-03</th>\n",
       "      <td>350</td>\n",
       "    </tr>\n",
       "    <tr>\n",
       "      <th>2022-01-04</th>\n",
       "      <td>60</td>\n",
       "    </tr>\n",
       "    <tr>\n",
       "      <th>2022-01-05</th>\n",
       "      <td>110</td>\n",
       "    </tr>\n",
       "    <tr>\n",
       "      <th>2022-01-06</th>\n",
       "      <td>400</td>\n",
       "    </tr>\n",
       "    <tr>\n",
       "      <th>2022-01-07</th>\n",
       "      <td>560</td>\n",
       "    </tr>\n",
       "    <tr>\n",
       "      <th>...</th>\n",
       "      <td>...</td>\n",
       "    </tr>\n",
       "    <tr>\n",
       "      <th>2023-03-21</th>\n",
       "      <td>460</td>\n",
       "    </tr>\n",
       "    <tr>\n",
       "      <th>2023-03-22</th>\n",
       "      <td>1010</td>\n",
       "    </tr>\n",
       "    <tr>\n",
       "      <th>2023-03-23</th>\n",
       "      <td>50</td>\n",
       "    </tr>\n",
       "    <tr>\n",
       "      <th>2023-03-24</th>\n",
       "      <td>500</td>\n",
       "    </tr>\n",
       "    <tr>\n",
       "      <th>2023-03-25</th>\n",
       "      <td>590</td>\n",
       "    </tr>\n",
       "  </tbody>\n",
       "</table>\n",
       "<p>447 rows × 1 columns</p>\n",
       "</div>"
      ],
      "text/plain": [
       "                Cant Pedido UMV\n",
       "Fecha Creación                 \n",
       "2022-01-03                  350\n",
       "2022-01-04                   60\n",
       "2022-01-05                  110\n",
       "2022-01-06                  400\n",
       "2022-01-07                  560\n",
       "...                         ...\n",
       "2023-03-21                  460\n",
       "2023-03-22                 1010\n",
       "2023-03-23                   50\n",
       "2023-03-24                  500\n",
       "2023-03-25                  590\n",
       "\n",
       "[447 rows x 1 columns]"
      ]
     },
     "execution_count": 22,
     "metadata": {},
     "output_type": "execute_result"
    }
   ],
   "source": [
    "data_for_process.dataframe"
   ]
  },
  {
   "cell_type": "code",
   "execution_count": 23,
   "id": "312ee27d-d02e-450e-a4a7-d13c6bb76d76",
   "metadata": {
    "tags": []
   },
   "outputs": [
    {
     "data": {
      "image/png": "[encoded data removed]",
      "text/plain": [
       "<Figure size 4000x1000 with 1 Axes>"
      ]
     },
     "metadata": {},
     "output_type": "display_data"
    }
   ],
   "source": [
    "fig, ax = plt.subplots(figsize=(40,10))\n",
    "ax.stem(\n",
    "    data_for_process.dataframe.index,\n",
    "    data_for_process.dataframe['Cant Pedido UMV'].values)\n",
    "\n",
    "fmt_half_year = mdates.MonthLocator(interval=2)\n",
    "ax.xaxis.set_major_locator(fmt_half_year)\n",
    "fmt_month = mdates.MonthLocator()\n",
    "ax.xaxis.set_minor_locator(fmt_month)\n",
    "ax.xaxis.set_major_formatter(mdates.DateFormatter('%Y-%m'))\n",
    "\n",
    "datemin =np.datetime64(data_for_process.dataframe.index.min(), 'Y')\n",
    "datemax =np.datetime64(data_for_process.dataframe.index.max(), 'Y')\n",
    "\n",
    "# ax.set_xlim(datemin, datemax)\n",
    "ax.format_xdata = mdates.DateFormatter('%Y-%m')\n",
    "ax.grid(True)\n",
    "fig.autofmt_xdate()\n",
    "plt.show()"
   ]
  },
  {
   "cell_type": "code",
   "execution_count": 56,
   "id": "f706ec5b-bbf4-4e7f-bd18-b60ae6719563",
   "metadata": {
    "tags": []
   },
   "outputs": [
    {
     "data": {
      "image/png": "[encoded data removed]",
      "text/plain": [
       "<Figure size 4000x1000 with 1 Axes>"
      ]
     },
     "metadata": {},
     "output_type": "display_data"
    }
   ],
   "source": [
    "data = data_for_process.dataframe.copy()\n",
    "\n",
    "Q1 = data.quantile(0.25)\n",
    "Q3 = data.quantile(0.75)\n",
    "IQR = Q3 - Q1\n",
    "mean_IQR = (Q1 + Q3) / 2\n",
    "data_out = data[~((data < (Q1 - 1.5 * IQR)) |(data > (Q3 + 1.5 * IQR)))]\n",
    "data_mode = data_out.fillna(mean_IQR)\n",
    "\n",
    "fig, ax = plt.subplots(figsize=(40,10))\n",
    "ax.stem(\n",
    "    data_mode.index,\n",
    "    data_mode['Cant Pedido UMV'].values)\n",
    "\n",
    "fmt_half_year = mdates.MonthLocator(interval=2)\n",
    "ax.xaxis.set_major_locator(fmt_half_year)\n",
    "fmt_month = mdates.MonthLocator()\n",
    "ax.xaxis.set_minor_locator(fmt_month)\n",
    "ax.xaxis.set_major_formatter(mdates.DateFormatter('%Y-%m'))\n",
    "\n",
    "datemin =np.datetime64(data_mode.index.min(), 'Y')\n",
    "datemax =np.datetime64(data_mode.index.max(), 'Y')\n",
    "\n",
    "# ax.set_xlim(datemin, datemax)\n",
    "ax.format_xdata = mdates.DateFormatter('%Y-%m')\n",
    "ax.grid(True)\n",
    "fig.autofmt_xdate()\n",
    "plt.show()"
   ]
  },
  {
   "cell_type": "code",
   "execution_count": 58,
   "id": "7bbef0e1-c912-46ce-8479-d7c27c3fac6a",
   "metadata": {
    "tags": []
   },
   "outputs": [
    {
     "name": "stdout",
     "output_type": "stream",
     "text": [
      "2026.2499999999993 -1215.7499999999995\n"
     ]
    },
    {
     "data": {
      "image/png": "[encoded data removed]",
      "text/plain": [
       "<Figure size 4000x1000 with 1 Axes>"
      ]
     },
     "metadata": {},
     "output_type": "display_data"
    }
   ],
   "source": [
    "data = data_for_process.dataframe.copy()\n",
    "\n",
    "data_max =0\n",
    "data_min = 0\n",
    "\n",
    "q75,q25 = np.percentile(data.loc[:,'Cant Pedido UMV'],[95,1])\n",
    "intr_qr = q75-q25\n",
    "\n",
    "data_max = q75+(1.5*intr_qr)\n",
    "data_min = q25-(1.5*intr_qr)\n",
    "\n",
    "print(data_max, data_min)\n",
    "\n",
    "data.loc[data['Cant Pedido UMV'] < data_min,'Cant Pedido UMV'] = np.nan\n",
    "data.loc[data['Cant Pedido UMV'] > data_max,'Cant Pedido UMV'] = np.nan\n",
    "\n",
    "data.isnull().sum()\n",
    "\n",
    "fig, ax = plt.subplots(figsize=(40,10))\n",
    "ax.stem(\n",
    "    data.index,\n",
    "    data['Cant Pedido UMV'].values)\n",
    "\n",
    "fmt_half_year = mdates.MonthLocator(interval=2)\n",
    "ax.xaxis.set_major_locator(fmt_half_year)\n",
    "fmt_month = mdates.MonthLocator()\n",
    "ax.xaxis.set_minor_locator(fmt_month)\n",
    "ax.xaxis.set_major_formatter(mdates.DateFormatter('%Y-%m'))\n",
    "\n",
    "datemin =np.datetime64(data.index.min(), 'Y')\n",
    "datemax =np.datetime64(data.index.max(), 'Y')\n",
    "\n",
    "# ax.set_xlim(datemin, datemax)\n",
    "ax.format_xdata = mdates.DateFormatter('%Y-%m')\n",
    "ax.grid(True)\n",
    "fig.autofmt_xdate()\n",
    "plt.show()"
   ]
  },
  {
   "cell_type": "code",
   "execution_count": null,
   "id": "590b84ee-92fc-4edf-a081-883d4f452229",
   "metadata": {},
   "outputs": [],
   "source": [
    "from sklearn.impute import KNNImputer"
   ]
  },
  {
   "cell_type": "code",
   "execution_count": 59,
   "id": "54204893-0c3b-4954-aec3-2a00b7ac9e2d",
   "metadata": {
    "tags": []
   },
   "outputs": [
    {
     "name": "stderr",
     "output_type": "stream",
     "text": [
      "/tmp/ipykernel_42749/1101291035.py:7: DeprecationWarning: In a future version, `df.iloc[:, i] = newvals` will attempt to set the values inplace instead of always setting a new array. To retain the old behavior, use either `df[df.columns[i]] = newvals` or, if columns are non-unique, `df.isetitem(i, newvals)`\n",
      "  data.loc[:,'Cant Pedido UMV'] = remove_outliners['Cant Pedido UMV'].values\n"
     ]
    }
   ],
   "source": [
    "data = data_for_process.dataframe.copy()\n",
    "\n",
    "imputer = KNNImputer(n_neighbors=15, weights='uniform', metric= 'nan_euclidean')\n",
    "imputer.fit(data.values)\n",
    "xtrans = imputer.transform(data.values)\n",
    "remove_outliners = pd.DataFrame({'Cant Pedido UMV':xtrans.squeeze()})\n",
    "data.loc[:,'Cant Pedido UMV'] = remove_outliners['Cant Pedido UMV'].values"
   ]
  },
  {
   "cell_type": "code",
   "execution_count": 60,
   "id": "e09e89bc-f763-4bbf-9e71-67c3da266111",
   "metadata": {
    "tags": []
   },
   "outputs": [
    {
     "data": {
      "image/png": "[encoded data removed]",
      "text/plain": [
       "<Figure size 4000x1000 with 1 Axes>"
      ]
     },
     "metadata": {},
     "output_type": "display_data"
    }
   ],
   "source": [
    "fig, ax = plt.subplots(figsize=(40,10))\n",
    "ax.stem(\n",
    "    data.index,\n",
    "    data['Cant Pedido UMV'].values)\n",
    "\n",
    "fmt_half_year = mdates.MonthLocator(interval=2)\n",
    "ax.xaxis.set_major_locator(fmt_half_year)\n",
    "fmt_month = mdates.MonthLocator()\n",
    "ax.xaxis.set_minor_locator(fmt_month)\n",
    "ax.xaxis.set_major_formatter(mdates.DateFormatter('%Y-%m'))\n",
    "\n",
    "datemin =np.datetime64(data.index.min(), 'Y')\n",
    "datemax =np.datetime64(data.index.max(), 'Y')\n",
    "\n",
    "# ax.set_xlim(datemin, datemax)\n",
    "ax.format_xdata = mdates.DateFormatter('%Y-%m')\n",
    "ax.grid(True)\n",
    "fig.autofmt_xdate()\n",
    "plt.show()"
   ]
  },
  {
   "cell_type": "code",
   "execution_count": 62,
   "id": "239c3e29-a6ee-4dff-8cca-c5a2c931be02",
   "metadata": {
    "tags": []
   },
   "outputs": [
    {
     "data": {
      "text/html": [
       "<div>\n",
       "<style scoped>\n",
       "    .dataframe tbody tr th:only-of-type {\n",
       "        vertical-align: middle;\n",
       "    }\n",
       "\n",
       "    .dataframe tbody tr th {\n",
       "        vertical-align: top;\n",
       "    }\n",
       "\n",
       "    .dataframe thead th {\n",
       "        text-align: right;\n",
       "    }\n",
       "</style>\n",
       "<table border=\"1\" class=\"dataframe\">\n",
       "  <thead>\n",
       "    <tr style=\"text-align: right;\">\n",
       "      <th></th>\n",
       "      <th>Cant Pedido UMV</th>\n",
       "    </tr>\n",
       "    <tr>\n",
       "      <th>Fecha Creación</th>\n",
       "      <th></th>\n",
       "    </tr>\n",
       "  </thead>\n",
       "  <tbody>\n",
       "    <tr>\n",
       "      <th>2022-01-03</th>\n",
       "      <td>350.0</td>\n",
       "    </tr>\n",
       "    <tr>\n",
       "      <th>2022-01-04</th>\n",
       "      <td>60.0</td>\n",
       "    </tr>\n",
       "    <tr>\n",
       "      <th>2022-01-05</th>\n",
       "      <td>110.0</td>\n",
       "    </tr>\n",
       "    <tr>\n",
       "      <th>2022-01-06</th>\n",
       "      <td>400.0</td>\n",
       "    </tr>\n",
       "    <tr>\n",
       "      <th>2022-01-07</th>\n",
       "      <td>560.0</td>\n",
       "    </tr>\n",
       "    <tr>\n",
       "      <th>...</th>\n",
       "      <td>...</td>\n",
       "    </tr>\n",
       "    <tr>\n",
       "      <th>2023-03-21</th>\n",
       "      <td>460.0</td>\n",
       "    </tr>\n",
       "    <tr>\n",
       "      <th>2023-03-22</th>\n",
       "      <td>1010.0</td>\n",
       "    </tr>\n",
       "    <tr>\n",
       "      <th>2023-03-23</th>\n",
       "      <td>50.0</td>\n",
       "    </tr>\n",
       "    <tr>\n",
       "      <th>2023-03-24</th>\n",
       "      <td>500.0</td>\n",
       "    </tr>\n",
       "    <tr>\n",
       "      <th>2023-03-25</th>\n",
       "      <td>590.0</td>\n",
       "    </tr>\n",
       "  </tbody>\n",
       "</table>\n",
       "<p>447 rows × 1 columns</p>\n",
       "</div>"
      ],
      "text/plain": [
       "                Cant Pedido UMV\n",
       "Fecha Creación                 \n",
       "2022-01-03                350.0\n",
       "2022-01-04                 60.0\n",
       "2022-01-05                110.0\n",
       "2022-01-06                400.0\n",
       "2022-01-07                560.0\n",
       "...                         ...\n",
       "2023-03-21                460.0\n",
       "2023-03-22               1010.0\n",
       "2023-03-23                 50.0\n",
       "2023-03-24                500.0\n",
       "2023-03-25                590.0\n",
       "\n",
       "[447 rows x 1 columns]"
      ]
     },
     "execution_count": 62,
     "metadata": {},
     "output_type": "execute_result"
    }
   ],
   "source": [
    "data"
   ]
  },
  {
   "cell_type": "code",
   "execution_count": 63,
   "id": "794ba729-d1c9-4576-9ebb-ac8add548c81",
   "metadata": {
    "tags": []
   },
   "outputs": [],
   "source": [
    "from darts.models import TFTModel\n",
    "from darts.metrics import mape\n",
    "from darts.utils.statistics import check_seasonality, plot_acf\n",
    "\n",
    "from darts.utils.timeseries_generation import datetime_attribute_timeseries\n",
    "from darts.utils.likelihood_models import QuantileRegression\n",
    "from darts import TimeSeries\n",
    "from darts.models import NBEATSModel\n",
    "from darts.dataprocessing.transformers import Scaler\n",
    "from darts.utils.missing_values import fill_missing_values\n",
    "from darts.dataprocessing.transformers import Scaler, MissingValuesFiller\n",
    "from darts.datasets import EnergyDataset,AirPassengersDataset\n",
    "from darts.metrics import mape, r2_score"
   ]
  },
  {
   "cell_type": "code",
   "execution_count": 65,
   "id": "3a6cbec6-1a55-4426-80f5-d36c9bf082ee",
   "metadata": {
    "tags": []
   },
   "outputs": [],
   "source": [
    "### Possible N-BEATS hyper-parameters\n",
    "\n",
    "# Slicing hyper-params:\n",
    "IN_LEN = 10\n",
    "OUT_LEN = 4\n",
    "\n",
    "# Architecture hyper-params:\n",
    "NUM_STACKS = 10\n",
    "NUM_BLOCKS = 2\n",
    "NUM_LAYERS = 3\n",
    "LAYER_WIDTH = 256\n",
    "COEFFS_DIM = 12\n",
    "\n",
    "# Training settings:\n",
    "LR = 1e-3\n",
    "BATCH_SIZE = 1024\n",
    "MAX_SAMPLES_PER_TS = 10\n",
    "NUM_EPOCHS = 300\n",
    "NUM_EPOCHS_VALIDATION = 10"
   ]
  },
  {
   "cell_type": "code",
   "execution_count": 66,
   "id": "71c807c5-565a-49b7-a5a3-8228b9f4eefa",
   "metadata": {
    "tags": []
   },
   "outputs": [],
   "source": [
    "model_nbeats = NBEATSModel(\n",
    "    input_chunk_length=IN_LEN,\n",
    "    output_chunk_length=OUT_LEN,\n",
    "    generic_architecture=True,\n",
    "    num_stacks=NUM_STACKS,\n",
    "    num_blocks=NUM_BLOCKS,\n",
    "    num_layers=NUM_LAYERS,\n",
    "    layer_widths=LAYER_WIDTH,\n",
    "    n_epochs=NUM_EPOCHS,\n",
    "    nr_epochs_val_period=NUM_EPOCHS_VALIDATION,\n",
    "    batch_size=BATCH_SIZE,\n",
    "    model_name=\"nbeats_run\",\n",
    "    pl_trainer_kwargs={\n",
    "        \"enable_progress_bar\": True,\n",
    "        \"accelerator\": \"gpu\",\n",
    "        # \"gpus\": -1,\n",
    "        # \"auto_select_gpus\": True,\n",
    "    }\n",
    ")"
   ]
  },
  {
   "cell_type": "code",
   "execution_count": 138,
   "id": "f536eb44-6d7c-4e59-a613-0a0a496c8737",
   "metadata": {
    "tags": []
   },
   "outputs": [],
   "source": [
    "data = data_for_process.dataframe.copy()"
   ]
  },
  {
   "cell_type": "code",
   "execution_count": 139,
   "id": "7df870a2-e8ec-4550-8b9a-1369799a4624",
   "metadata": {
    "tags": []
   },
   "outputs": [
    {
     "data": {
      "text/html": [
       "<div>\n",
       "<style scoped>\n",
       "    .dataframe tbody tr th:only-of-type {\n",
       "        vertical-align: middle;\n",
       "    }\n",
       "\n",
       "    .dataframe tbody tr th {\n",
       "        vertical-align: top;\n",
       "    }\n",
       "\n",
       "    .dataframe thead th {\n",
       "        text-align: right;\n",
       "    }\n",
       "</style>\n",
       "<table border=\"1\" class=\"dataframe\">\n",
       "  <thead>\n",
       "    <tr style=\"text-align: right;\">\n",
       "      <th></th>\n",
       "      <th>Cant Pedido UMV</th>\n",
       "    </tr>\n",
       "    <tr>\n",
       "      <th>Fecha Creación</th>\n",
       "      <th></th>\n",
       "    </tr>\n",
       "  </thead>\n",
       "  <tbody>\n",
       "    <tr>\n",
       "      <th>2022-01-03</th>\n",
       "      <td>350</td>\n",
       "    </tr>\n",
       "    <tr>\n",
       "      <th>2022-01-04</th>\n",
       "      <td>60</td>\n",
       "    </tr>\n",
       "    <tr>\n",
       "      <th>2022-01-05</th>\n",
       "      <td>110</td>\n",
       "    </tr>\n",
       "    <tr>\n",
       "      <th>2022-01-06</th>\n",
       "      <td>400</td>\n",
       "    </tr>\n",
       "    <tr>\n",
       "      <th>2022-01-07</th>\n",
       "      <td>560</td>\n",
       "    </tr>\n",
       "  </tbody>\n",
       "</table>\n",
       "</div>"
      ],
      "text/plain": [
       "                Cant Pedido UMV\n",
       "Fecha Creación                 \n",
       "2022-01-03                  350\n",
       "2022-01-04                   60\n",
       "2022-01-05                  110\n",
       "2022-01-06                  400\n",
       "2022-01-07                  560"
      ]
     },
     "execution_count": 139,
     "metadata": {},
     "output_type": "execute_result"
    }
   ],
   "source": [
    "data.head()"
   ]
  },
  {
   "cell_type": "code",
   "execution_count": 140,
   "id": "3f5cc413-feb4-4078-85b3-ad0a772dab03",
   "metadata": {
    "tags": []
   },
   "outputs": [],
   "source": [
    "data.reset_index(inplace=True)"
   ]
  },
  {
   "cell_type": "code",
   "execution_count": 147,
   "id": "0fbcaafe-2283-4636-8ced-e68d06833596",
   "metadata": {
    "tags": []
   },
   "outputs": [
    {
     "data": {
      "text/plain": [
       "Fecha Creación     datetime64[ns]\n",
       "Cant Pedido UMV             int64\n",
       "dtype: object"
      ]
     },
     "execution_count": 147,
     "metadata": {},
     "output_type": "execute_result"
    }
   ],
   "source": [
    "data.dtypes"
   ]
  },
  {
   "cell_type": "code",
   "execution_count": 141,
   "id": "c2bb1c1e-d5c4-43b4-b819-dd0b922a6b3d",
   "metadata": {
    "tags": []
   },
   "outputs": [
    {
     "data": {
      "text/html": [
       "<div>\n",
       "<style scoped>\n",
       "    .dataframe tbody tr th:only-of-type {\n",
       "        vertical-align: middle;\n",
       "    }\n",
       "\n",
       "    .dataframe tbody tr th {\n",
       "        vertical-align: top;\n",
       "    }\n",
       "\n",
       "    .dataframe thead th {\n",
       "        text-align: right;\n",
       "    }\n",
       "</style>\n",
       "<table border=\"1\" class=\"dataframe\">\n",
       "  <thead>\n",
       "    <tr style=\"text-align: right;\">\n",
       "      <th></th>\n",
       "      <th>Fecha Creación</th>\n",
       "      <th>Cant Pedido UMV</th>\n",
       "    </tr>\n",
       "  </thead>\n",
       "  <tbody>\n",
       "    <tr>\n",
       "      <th>0</th>\n",
       "      <td>2022-01-03</td>\n",
       "      <td>350</td>\n",
       "    </tr>\n",
       "    <tr>\n",
       "      <th>1</th>\n",
       "      <td>2022-01-04</td>\n",
       "      <td>60</td>\n",
       "    </tr>\n",
       "    <tr>\n",
       "      <th>2</th>\n",
       "      <td>2022-01-05</td>\n",
       "      <td>110</td>\n",
       "    </tr>\n",
       "    <tr>\n",
       "      <th>3</th>\n",
       "      <td>2022-01-06</td>\n",
       "      <td>400</td>\n",
       "    </tr>\n",
       "    <tr>\n",
       "      <th>4</th>\n",
       "      <td>2022-01-07</td>\n",
       "      <td>560</td>\n",
       "    </tr>\n",
       "  </tbody>\n",
       "</table>\n",
       "</div>"
      ],
      "text/plain": [
       "  Fecha Creación  Cant Pedido UMV\n",
       "0     2022-01-03              350\n",
       "1     2022-01-04               60\n",
       "2     2022-01-05              110\n",
       "3     2022-01-06              400\n",
       "4     2022-01-07              560"
      ]
     },
     "execution_count": 141,
     "metadata": {},
     "output_type": "execute_result"
    }
   ],
   "source": [
    "data.head()"
   ]
  },
  {
   "cell_type": "code",
   "execution_count": 148,
   "id": "5f92be55-0251-479b-ba5f-721435d119bd",
   "metadata": {
    "tags": []
   },
   "outputs": [
    {
     "data": {
      "text/plain": [
       "<AxesSubplot: xlabel='Fecha Creación'>"
      ]
     },
     "execution_count": 148,
     "metadata": {},
     "output_type": "execute_result"
    },
    {
     "data": {
      "image/png": "[encoded data removed]",
      "text/plain": [
       "<Figure size 640x480 with 1 Axes>"
      ]
     },
     "metadata": {},
     "output_type": "display_data"
    }
   ],
   "source": [
    "data.plot(y='Cant Pedido UMV',x='Fecha Creación')"
   ]
  },
  {
   "cell_type": "code",
   "execution_count": 149,
   "id": "e1db797b-dcf2-4a42-bc76-62c1a6e37f3e",
   "metadata": {
    "tags": []
   },
   "outputs": [],
   "source": [
    "filler = MissingValuesFiller()"
   ]
  },
  {
   "cell_type": "code",
   "execution_count": 150,
   "id": "e81dd86f-7718-4300-8752-ecb478e630f6",
   "metadata": {
    "tags": []
   },
   "outputs": [],
   "source": [
    "data = filler.transform(\n",
    "    TimeSeries.from_dataframe(\n",
    "        data, \"Fecha Creación\", [\"Cant Pedido UMV\"]\n",
    "    )\n",
    ")"
   ]
  },
  {
   "cell_type": "code",
   "execution_count": 152,
   "id": "5ffce46c-6416-4fbb-be72-2f4974f7099d",
   "metadata": {
    "tags": []
   },
   "outputs": [],
   "source": [
    "train, val = data.split_after(pd.Timestamp(\"20230107\"))"
   ]
  },
  {
   "cell_type": "code",
   "execution_count": 153,
   "id": "1c46576e-48a9-434d-8891-dfb6324b64d6",
   "metadata": {
    "tags": []
   },
   "outputs": [],
   "source": [
    "transformer = Scaler()\n",
    "train_transformed = transformer.fit_transform(train)\n",
    "val_transformed = transformer.transform(val)\n",
    "series_transformed = transformer.transform(data)"
   ]
  },
  {
   "cell_type": "code",
   "execution_count": 154,
   "id": "9492666c-be4a-4cdb-8c42-3477af1b6efa",
   "metadata": {
    "tags": []
   },
   "outputs": [
    {
     "data": {
      "application/vnd.jupyter.widget-view+json": {
       "model_id": "",
       "version_major": 2,
       "version_minor": 0
      },
      "text/plain": [
       "Sanity Checking: 0it [00:00, ?it/s]"
      ]
     },
     "metadata": {},
     "output_type": "display_data"
    },
    {
     "data": {
      "application/vnd.jupyter.widget-view+json": {
       "model_id": "5edfe7de1d034dcdad3cde6d363ad134",
       "version_major": 2,
       "version_minor": 0
      },
      "text/plain": [
       "Training: 0it [00:00, ?it/s]"
      ]
     },
     "metadata": {},
     "output_type": "display_data"
    },
    {
     "data": {
      "application/vnd.jupyter.widget-view+json": {
       "model_id": "",
       "version_major": 2,
       "version_minor": 0
      },
      "text/plain": [
       "Validation: 0it [00:00, ?it/s]"
      ]
     },
     "metadata": {},
     "output_type": "display_data"
    },
    {
     "data": {
      "application/vnd.jupyter.widget-view+json": {
       "model_id": "",
       "version_major": 2,
       "version_minor": 0
      },
      "text/plain": [
       "Validation: 0it [00:00, ?it/s]"
      ]
     },
     "metadata": {},
     "output_type": "display_data"
    },
    {
     "data": {
      "application/vnd.jupyter.widget-view+json": {
       "model_id": "",
       "version_major": 2,
       "version_minor": 0
      },
      "text/plain": [
       "Validation: 0it [00:00, ?it/s]"
      ]
     },
     "metadata": {},
     "output_type": "display_data"
    },
    {
     "data": {
      "application/vnd.jupyter.widget-view+json": {
       "model_id": "",
       "version_major": 2,
       "version_minor": 0
      },
      "text/plain": [
       "Validation: 0it [00:00, ?it/s]"
      ]
     },
     "metadata": {},
     "output_type": "display_data"
    },
    {
     "data": {
      "application/vnd.jupyter.widget-view+json": {
       "model_id": "",
       "version_major": 2,
       "version_minor": 0
      },
      "text/plain": [
       "Validation: 0it [00:00, ?it/s]"
      ]
     },
     "metadata": {},
     "output_type": "display_data"
    },
    {
     "data": {
      "application/vnd.jupyter.widget-view+json": {
       "model_id": "",
       "version_major": 2,
       "version_minor": 0
      },
      "text/plain": [
       "Validation: 0it [00:00, ?it/s]"
      ]
     },
     "metadata": {},
     "output_type": "display_data"
    },
    {
     "data": {
      "application/vnd.jupyter.widget-view+json": {
       "model_id": "",
       "version_major": 2,
       "version_minor": 0
      },
      "text/plain": [
       "Validation: 0it [00:00, ?it/s]"
      ]
     },
     "metadata": {},
     "output_type": "display_data"
    },
    {
     "data": {
      "application/vnd.jupyter.widget-view+json": {
       "model_id": "",
       "version_major": 2,
       "version_minor": 0
      },
      "text/plain": [
       "Validation: 0it [00:00, ?it/s]"
      ]
     },
     "metadata": {},
     "output_type": "display_data"
    },
    {
     "data": {
      "application/vnd.jupyter.widget-view+json": {
       "model_id": "",
       "version_major": 2,
       "version_minor": 0
      },
      "text/plain": [
       "Validation: 0it [00:00, ?it/s]"
      ]
     },
     "metadata": {},
     "output_type": "display_data"
    },
    {
     "data": {
      "application/vnd.jupyter.widget-view+json": {
       "model_id": "",
       "version_major": 2,
       "version_minor": 0
      },
      "text/plain": [
       "Validation: 0it [00:00, ?it/s]"
      ]
     },
     "metadata": {},
     "output_type": "display_data"
    },
    {
     "data": {
      "application/vnd.jupyter.widget-view+json": {
       "model_id": "",
       "version_major": 2,
       "version_minor": 0
      },
      "text/plain": [
       "Validation: 0it [00:00, ?it/s]"
      ]
     },
     "metadata": {},
     "output_type": "display_data"
    },
    {
     "data": {
      "application/vnd.jupyter.widget-view+json": {
       "model_id": "",
       "version_major": 2,
       "version_minor": 0
      },
      "text/plain": [
       "Validation: 0it [00:00, ?it/s]"
      ]
     },
     "metadata": {},
     "output_type": "display_data"
    },
    {
     "data": {
      "application/vnd.jupyter.widget-view+json": {
       "model_id": "",
       "version_major": 2,
       "version_minor": 0
      },
      "text/plain": [
       "Validation: 0it [00:00, ?it/s]"
      ]
     },
     "metadata": {},
     "output_type": "display_data"
    },
    {
     "data": {
      "application/vnd.jupyter.widget-view+json": {
       "model_id": "",
       "version_major": 2,
       "version_minor": 0
      },
      "text/plain": [
       "Validation: 0it [00:00, ?it/s]"
      ]
     },
     "metadata": {},
     "output_type": "display_data"
    },
    {
     "data": {
      "application/vnd.jupyter.widget-view+json": {
       "model_id": "",
       "version_major": 2,
       "version_minor": 0
      },
      "text/plain": [
       "Validation: 0it [00:00, ?it/s]"
      ]
     },
     "metadata": {},
     "output_type": "display_data"
    },
    {
     "data": {
      "application/vnd.jupyter.widget-view+json": {
       "model_id": "",
       "version_major": 2,
       "version_minor": 0
      },
      "text/plain": [
       "Validation: 0it [00:00, ?it/s]"
      ]
     },
     "metadata": {},
     "output_type": "display_data"
    },
    {
     "data": {
      "application/vnd.jupyter.widget-view+json": {
       "model_id": "",
       "version_major": 2,
       "version_minor": 0
      },
      "text/plain": [
       "Validation: 0it [00:00, ?it/s]"
      ]
     },
     "metadata": {},
     "output_type": "display_data"
    },
    {
     "data": {
      "application/vnd.jupyter.widget-view+json": {
       "model_id": "",
       "version_major": 2,
       "version_minor": 0
      },
      "text/plain": [
       "Validation: 0it [00:00, ?it/s]"
      ]
     },
     "metadata": {},
     "output_type": "display_data"
    },
    {
     "data": {
      "application/vnd.jupyter.widget-view+json": {
       "model_id": "",
       "version_major": 2,
       "version_minor": 0
      },
      "text/plain": [
       "Validation: 0it [00:00, ?it/s]"
      ]
     },
     "metadata": {},
     "output_type": "display_data"
    },
    {
     "data": {
      "application/vnd.jupyter.widget-view+json": {
       "model_id": "",
       "version_major": 2,
       "version_minor": 0
      },
      "text/plain": [
       "Validation: 0it [00:00, ?it/s]"
      ]
     },
     "metadata": {},
     "output_type": "display_data"
    },
    {
     "data": {
      "application/vnd.jupyter.widget-view+json": {
       "model_id": "",
       "version_major": 2,
       "version_minor": 0
      },
      "text/plain": [
       "Validation: 0it [00:00, ?it/s]"
      ]
     },
     "metadata": {},
     "output_type": "display_data"
    },
    {
     "data": {
      "application/vnd.jupyter.widget-view+json": {
       "model_id": "",
       "version_major": 2,
       "version_minor": 0
      },
      "text/plain": [
       "Validation: 0it [00:00, ?it/s]"
      ]
     },
     "metadata": {},
     "output_type": "display_data"
    },
    {
     "data": {
      "application/vnd.jupyter.widget-view+json": {
       "model_id": "",
       "version_major": 2,
       "version_minor": 0
      },
      "text/plain": [
       "Validation: 0it [00:00, ?it/s]"
      ]
     },
     "metadata": {},
     "output_type": "display_data"
    },
    {
     "data": {
      "application/vnd.jupyter.widget-view+json": {
       "model_id": "",
       "version_major": 2,
       "version_minor": 0
      },
      "text/plain": [
       "Validation: 0it [00:00, ?it/s]"
      ]
     },
     "metadata": {},
     "output_type": "display_data"
    },
    {
     "data": {
      "application/vnd.jupyter.widget-view+json": {
       "model_id": "",
       "version_major": 2,
       "version_minor": 0
      },
      "text/plain": [
       "Validation: 0it [00:00, ?it/s]"
      ]
     },
     "metadata": {},
     "output_type": "display_data"
    },
    {
     "data": {
      "application/vnd.jupyter.widget-view+json": {
       "model_id": "",
       "version_major": 2,
       "version_minor": 0
      },
      "text/plain": [
       "Validation: 0it [00:00, ?it/s]"
      ]
     },
     "metadata": {},
     "output_type": "display_data"
    },
    {
     "data": {
      "application/vnd.jupyter.widget-view+json": {
       "model_id": "",
       "version_major": 2,
       "version_minor": 0
      },
      "text/plain": [
       "Validation: 0it [00:00, ?it/s]"
      ]
     },
     "metadata": {},
     "output_type": "display_data"
    },
    {
     "data": {
      "application/vnd.jupyter.widget-view+json": {
       "model_id": "",
       "version_major": 2,
       "version_minor": 0
      },
      "text/plain": [
       "Validation: 0it [00:00, ?it/s]"
      ]
     },
     "metadata": {},
     "output_type": "display_data"
    },
    {
     "data": {
      "application/vnd.jupyter.widget-view+json": {
       "model_id": "",
       "version_major": 2,
       "version_minor": 0
      },
      "text/plain": [
       "Validation: 0it [00:00, ?it/s]"
      ]
     },
     "metadata": {},
     "output_type": "display_data"
    },
    {
     "data": {
      "application/vnd.jupyter.widget-view+json": {
       "model_id": "",
       "version_major": 2,
       "version_minor": 0
      },
      "text/plain": [
       "Validation: 0it [00:00, ?it/s]"
      ]
     },
     "metadata": {},
     "output_type": "display_data"
    },
    {
     "data": {
      "text/plain": [
       "NBEATSModel(generic_architecture=True, num_stacks=10, num_blocks=2, num_layers=3, layer_widths=256, expansion_coefficient_dim=5, trend_polynomial_degree=2, dropout=0.0, activation=ReLU, input_chunk_length=10, output_chunk_length=4, n_epochs=300, nr_epochs_val_period=10, batch_size=1024, model_name=nbeats_run, pl_trainer_kwargs={'enable_progress_bar': True, 'accelerator': 'gpu'})"
      ]
     },
     "execution_count": 154,
     "metadata": {},
     "output_type": "execute_result"
    }
   ],
   "source": [
    "model_nbeats.fit(train, val_series=val, verbose=True)"
   ]
  },
  {
   "cell_type": "code",
   "execution_count": 155,
   "id": "3944af73-4647-44f9-87b3-a3d8c32b650a",
   "metadata": {
    "tags": []
   },
   "outputs": [],
   "source": [
    "def display_forecast(pred_series, ts_transformed, forecast_type, start_date=None):\n",
    "    plt.figure(figsize=(8, 5))\n",
    "    if start_date:\n",
    "        ts_transformed = ts_transformed.drop_before(start_date)\n",
    "    ts_transformed.univariate_component(0).plot(label=\"actual\")\n",
    "    pred_series.plot(label=(\"historic \" + forecast_type + \" forecasts\"))\n",
    "    plt.title(\n",
    "        \"R2: {}\".format(r2_score(ts_transformed.univariate_component(0), pred_series))\n",
    "    )\n",
    "    plt.legend()"
   ]
  },
  {
   "cell_type": "code",
   "execution_count": 156,
   "id": "63bd9001-a103-4827-8de6-2bdb78c7721a",
   "metadata": {
    "scrolled": true,
    "tags": []
   },
   "outputs": [
    {
     "data": {
      "application/vnd.jupyter.widget-view+json": {
       "model_id": "54313f2cdbaf49f18581ba9035487c79",
       "version_major": 2,
       "version_minor": 0
      },
      "text/plain": [
       "  0%|          | 0/69 [00:00<?, ?it/s]"
      ]
     },
     "metadata": {},
     "output_type": "display_data"
    },
    {
     "data": {
      "application/vnd.jupyter.widget-view+json": {
       "model_id": "00e8c06bd0c64a3aafe55175fc0fb109",
       "version_major": 2,
       "version_minor": 0
      },
      "text/plain": [
       "Predicting: 0it [00:00, ?it/s]"
      ]
     },
     "metadata": {},
     "output_type": "display_data"
    },
    {
     "data": {
      "application/vnd.jupyter.widget-view+json": {
       "model_id": "8dab740986e5482bb3b26a7788d4a48f",
       "version_major": 2,
       "version_minor": 0
      },
      "text/plain": [
       "Predicting: 0it [00:00, ?it/s]"
      ]
     },
     "metadata": {},
     "output_type": "display_data"
    },
    {
     "data": {
      "application/vnd.jupyter.widget-view+json": {
       "model_id": "44241241770841c99f81243fb88c95aa",
       "version_major": 2,
       "version_minor": 0
      },
      "text/plain": [
       "Predicting: 0it [00:00, ?it/s]"
      ]
     },
     "metadata": {},
     "output_type": "display_data"
    },
    {
     "data": {
      "application/vnd.jupyter.widget-view+json": {
       "model_id": "532fbcbf051640d9a55d8b42f88848bc",
       "version_major": 2,
       "version_minor": 0
      },
      "text/plain": [
       "Predicting: 0it [00:00, ?it/s]"
      ]
     },
     "metadata": {},
     "output_type": "display_data"
    },
    {
     "data": {
      "application/vnd.jupyter.widget-view+json": {
       "model_id": "46f2027719fb4e10ba4ff0cd7975170a",
       "version_major": 2,
       "version_minor": 0
      },
      "text/plain": [
       "Predicting: 0it [00:00, ?it/s]"
      ]
     },
     "metadata": {},
     "output_type": "display_data"
    },
    {
     "data": {
      "application/vnd.jupyter.widget-view+json": {
       "model_id": "cad2ea08ebac4930b240afe4c721c902",
       "version_major": 2,
       "version_minor": 0
      },
      "text/plain": [
       "Predicting: 0it [00:00, ?it/s]"
      ]
     },
     "metadata": {},
     "output_type": "display_data"
    },
    {
     "data": {
      "application/vnd.jupyter.widget-view+json": {
       "model_id": "6e20aa3d2bd441078c0417f4edf435cc",
       "version_major": 2,
       "version_minor": 0
      },
      "text/plain": [
       "Predicting: 0it [00:00, ?it/s]"
      ]
     },
     "metadata": {},
     "output_type": "display_data"
    },
    {
     "data": {
      "application/vnd.jupyter.widget-view+json": {
       "model_id": "9e53111d3ad645b7a8feebaea67ad1fb",
       "version_major": 2,
       "version_minor": 0
      },
      "text/plain": [
       "Predicting: 0it [00:00, ?it/s]"
      ]
     },
     "metadata": {},
     "output_type": "display_data"
    },
    {
     "data": {
      "application/vnd.jupyter.widget-view+json": {
       "model_id": "f41b17caa08d4e4092a977cb289604f9",
       "version_major": 2,
       "version_minor": 0
      },
      "text/plain": [
       "Predicting: 0it [00:00, ?it/s]"
      ]
     },
     "metadata": {},
     "output_type": "display_data"
    },
    {
     "data": {
      "application/vnd.jupyter.widget-view+json": {
       "model_id": "5e80e9578ad04dc998a7f112436be11a",
       "version_major": 2,
       "version_minor": 0
      },
      "text/plain": [
       "Predicting: 0it [00:00, ?it/s]"
      ]
     },
     "metadata": {},
     "output_type": "display_data"
    },
    {
     "data": {
      "application/vnd.jupyter.widget-view+json": {
       "model_id": "c18a4d81d0bd4a1cb13363c1cccdd0f7",
       "version_major": 2,
       "version_minor": 0
      },
      "text/plain": [
       "Predicting: 0it [00:00, ?it/s]"
      ]
     },
     "metadata": {},
     "output_type": "display_data"
    },
    {
     "data": {
      "application/vnd.jupyter.widget-view+json": {
       "model_id": "d9aacafa133f43d39ad0b3c507e07b35",
       "version_major": 2,
       "version_minor": 0
      },
      "text/plain": [
       "Predicting: 0it [00:00, ?it/s]"
      ]
     },
     "metadata": {},
     "output_type": "display_data"
    },
    {
     "data": {
      "application/vnd.jupyter.widget-view+json": {
       "model_id": "0d8553863858482b978386bcf03de346",
       "version_major": 2,
       "version_minor": 0
      },
      "text/plain": [
       "Predicting: 0it [00:00, ?it/s]"
      ]
     },
     "metadata": {},
     "output_type": "display_data"
    },
    {
     "data": {
      "application/vnd.jupyter.widget-view+json": {
       "model_id": "7305e22fc1454247ac45237eb207118b",
       "version_major": 2,
       "version_minor": 0
      },
      "text/plain": [
       "Predicting: 0it [00:00, ?it/s]"
      ]
     },
     "metadata": {},
     "output_type": "display_data"
    },
    {
     "data": {
      "application/vnd.jupyter.widget-view+json": {
       "model_id": "d895fd12381341f2bafad7dfbdde4030",
       "version_major": 2,
       "version_minor": 0
      },
      "text/plain": [
       "Predicting: 0it [00:00, ?it/s]"
      ]
     },
     "metadata": {},
     "output_type": "display_data"
    },
    {
     "data": {
      "application/vnd.jupyter.widget-view+json": {
       "model_id": "e773b9e7fc0448e3a4add348b4457d3a",
       "version_major": 2,
       "version_minor": 0
      },
      "text/plain": [
       "Predicting: 0it [00:00, ?it/s]"
      ]
     },
     "metadata": {},
     "output_type": "display_data"
    },
    {
     "data": {
      "application/vnd.jupyter.widget-view+json": {
       "model_id": "ce5b40c7385749c7978c764c4688f479",
       "version_major": 2,
       "version_minor": 0
      },
      "text/plain": [
       "Predicting: 0it [00:00, ?it/s]"
      ]
     },
     "metadata": {},
     "output_type": "display_data"
    },
    {
     "data": {
      "application/vnd.jupyter.widget-view+json": {
       "model_id": "f53ca87969e942f5be6c6aa6bede2720",
       "version_major": 2,
       "version_minor": 0
      },
      "text/plain": [
       "Predicting: 0it [00:00, ?it/s]"
      ]
     },
     "metadata": {},
     "output_type": "display_data"
    },
    {
     "data": {
      "application/vnd.jupyter.widget-view+json": {
       "model_id": "f059a298b9b148b29ec5aefdedb5a919",
       "version_major": 2,
       "version_minor": 0
      },
      "text/plain": [
       "Predicting: 0it [00:00, ?it/s]"
      ]
     },
     "metadata": {},
     "output_type": "display_data"
    },
    {
     "data": {
      "application/vnd.jupyter.widget-view+json": {
       "model_id": "07274ab148d540a3b2df1c4ea81467e9",
       "version_major": 2,
       "version_minor": 0
      },
      "text/plain": [
       "Predicting: 0it [00:00, ?it/s]"
      ]
     },
     "metadata": {},
     "output_type": "display_data"
    },
    {
     "data": {
      "application/vnd.jupyter.widget-view+json": {
       "model_id": "1c67eac8c0a64a3a91191ce3330d1c68",
       "version_major": 2,
       "version_minor": 0
      },
      "text/plain": [
       "Predicting: 0it [00:00, ?it/s]"
      ]
     },
     "metadata": {},
     "output_type": "display_data"
    },
    {
     "data": {
      "application/vnd.jupyter.widget-view+json": {
       "model_id": "83d0a8989a114fedb01f2c60f1eaa349",
       "version_major": 2,
       "version_minor": 0
      },
      "text/plain": [
       "Predicting: 0it [00:00, ?it/s]"
      ]
     },
     "metadata": {},
     "output_type": "display_data"
    },
    {
     "data": {
      "application/vnd.jupyter.widget-view+json": {
       "model_id": "24086286a75942e782ebcdb845d9e1fc",
       "version_major": 2,
       "version_minor": 0
      },
      "text/plain": [
       "Predicting: 0it [00:00, ?it/s]"
      ]
     },
     "metadata": {},
     "output_type": "display_data"
    },
    {
     "data": {
      "application/vnd.jupyter.widget-view+json": {
       "model_id": "6d4970283b754cd599f71e6d708318b6",
       "version_major": 2,
       "version_minor": 0
      },
      "text/plain": [
       "Predicting: 0it [00:00, ?it/s]"
      ]
     },
     "metadata": {},
     "output_type": "display_data"
    },
    {
     "data": {
      "application/vnd.jupyter.widget-view+json": {
       "model_id": "b505a253c0624a92ada8e19a7d5be72c",
       "version_major": 2,
       "version_minor": 0
      },
      "text/plain": [
       "Predicting: 0it [00:00, ?it/s]"
      ]
     },
     "metadata": {},
     "output_type": "display_data"
    },
    {
     "data": {
      "application/vnd.jupyter.widget-view+json": {
       "model_id": "8396fd08fa684b379d8bead8b05b8152",
       "version_major": 2,
       "version_minor": 0
      },
      "text/plain": [
       "Predicting: 0it [00:00, ?it/s]"
      ]
     },
     "metadata": {},
     "output_type": "display_data"
    },
    {
     "data": {
      "application/vnd.jupyter.widget-view+json": {
       "model_id": "7f85d6e3cbc6425a828d903c4bc05239",
       "version_major": 2,
       "version_minor": 0
      },
      "text/plain": [
       "Predicting: 0it [00:00, ?it/s]"
      ]
     },
     "metadata": {},
     "output_type": "display_data"
    },
    {
     "data": {
      "application/vnd.jupyter.widget-view+json": {
       "model_id": "cac144ea02cb490d926e66ac33b18aea",
       "version_major": 2,
       "version_minor": 0
      },
      "text/plain": [
       "Predicting: 0it [00:00, ?it/s]"
      ]
     },
     "metadata": {},
     "output_type": "display_data"
    },
    {
     "data": {
      "application/vnd.jupyter.widget-view+json": {
       "model_id": "ac2a94e2d3a64cf786cebe9b53608bf7",
       "version_major": 2,
       "version_minor": 0
      },
      "text/plain": [
       "Predicting: 0it [00:00, ?it/s]"
      ]
     },
     "metadata": {},
     "output_type": "display_data"
    },
    {
     "data": {
      "application/vnd.jupyter.widget-view+json": {
       "model_id": "e704af418c7b4be4890af15f54c0b4b7",
       "version_major": 2,
       "version_minor": 0
      },
      "text/plain": [
       "Predicting: 0it [00:00, ?it/s]"
      ]
     },
     "metadata": {},
     "output_type": "display_data"
    },
    {
     "data": {
      "application/vnd.jupyter.widget-view+json": {
       "model_id": "900bcb12dd394ef7bacf919650383375",
       "version_major": 2,
       "version_minor": 0
      },
      "text/plain": [
       "Predicting: 0it [00:00, ?it/s]"
      ]
     },
     "metadata": {},
     "output_type": "display_data"
    },
    {
     "data": {
      "application/vnd.jupyter.widget-view+json": {
       "model_id": "b91aa251823d432e8ef77ccc340dab71",
       "version_major": 2,
       "version_minor": 0
      },
      "text/plain": [
       "Predicting: 0it [00:00, ?it/s]"
      ]
     },
     "metadata": {},
     "output_type": "display_data"
    },
    {
     "data": {
      "application/vnd.jupyter.widget-view+json": {
       "model_id": "dc4c040d7a5f4bf6a5886ff63a34c9fe",
       "version_major": 2,
       "version_minor": 0
      },
      "text/plain": [
       "Predicting: 0it [00:00, ?it/s]"
      ]
     },
     "metadata": {},
     "output_type": "display_data"
    },
    {
     "data": {
      "application/vnd.jupyter.widget-view+json": {
       "model_id": "880d147bd28c47e8ab78c4d158452335",
       "version_major": 2,
       "version_minor": 0
      },
      "text/plain": [
       "Predicting: 0it [00:00, ?it/s]"
      ]
     },
     "metadata": {},
     "output_type": "display_data"
    },
    {
     "data": {
      "application/vnd.jupyter.widget-view+json": {
       "model_id": "472eb00854074174a138bdf22899469f",
       "version_major": 2,
       "version_minor": 0
      },
      "text/plain": [
       "Predicting: 0it [00:00, ?it/s]"
      ]
     },
     "metadata": {},
     "output_type": "display_data"
    },
    {
     "data": {
      "application/vnd.jupyter.widget-view+json": {
       "model_id": "c0155921b0a347268b135e69cc432fa3",
       "version_major": 2,
       "version_minor": 0
      },
      "text/plain": [
       "Predicting: 0it [00:00, ?it/s]"
      ]
     },
     "metadata": {},
     "output_type": "display_data"
    },
    {
     "data": {
      "application/vnd.jupyter.widget-view+json": {
       "model_id": "9206c3b0473845fc85643df09ae7b177",
       "version_major": 2,
       "version_minor": 0
      },
      "text/plain": [
       "Predicting: 0it [00:00, ?it/s]"
      ]
     },
     "metadata": {},
     "output_type": "display_data"
    },
    {
     "data": {
      "application/vnd.jupyter.widget-view+json": {
       "model_id": "d177849ec64240c1956da001f2f2fb85",
       "version_major": 2,
       "version_minor": 0
      },
      "text/plain": [
       "Predicting: 0it [00:00, ?it/s]"
      ]
     },
     "metadata": {},
     "output_type": "display_data"
    },
    {
     "data": {
      "application/vnd.jupyter.widget-view+json": {
       "model_id": "b644ecb5d7a24dc5959f9f09c15e0be2",
       "version_major": 2,
       "version_minor": 0
      },
      "text/plain": [
       "Predicting: 0it [00:00, ?it/s]"
      ]
     },
     "metadata": {},
     "output_type": "display_data"
    },
    {
     "data": {
      "application/vnd.jupyter.widget-view+json": {
       "model_id": "2862fe17e9da4f6ea2b781da5dcbe195",
       "version_major": 2,
       "version_minor": 0
      },
      "text/plain": [
       "Predicting: 0it [00:00, ?it/s]"
      ]
     },
     "metadata": {},
     "output_type": "display_data"
    },
    {
     "data": {
      "application/vnd.jupyter.widget-view+json": {
       "model_id": "a16c8c51150f4bcfb1a1b815c7df4e56",
       "version_major": 2,
       "version_minor": 0
      },
      "text/plain": [
       "Predicting: 0it [00:00, ?it/s]"
      ]
     },
     "metadata": {},
     "output_type": "display_data"
    },
    {
     "data": {
      "application/vnd.jupyter.widget-view+json": {
       "model_id": "6ff8920ced504e918f71e844c0a14931",
       "version_major": 2,
       "version_minor": 0
      },
      "text/plain": [
       "Predicting: 0it [00:00, ?it/s]"
      ]
     },
     "metadata": {},
     "output_type": "display_data"
    },
    {
     "data": {
      "application/vnd.jupyter.widget-view+json": {
       "model_id": "50516f8302d44d1bbb81308e1df3ef7f",
       "version_major": 2,
       "version_minor": 0
      },
      "text/plain": [
       "Predicting: 0it [00:00, ?it/s]"
      ]
     },
     "metadata": {},
     "output_type": "display_data"
    },
    {
     "data": {
      "application/vnd.jupyter.widget-view+json": {
       "model_id": "b8bd18ca71f740f4bc55c46d32c1a93d",
       "version_major": 2,
       "version_minor": 0
      },
      "text/plain": [
       "Predicting: 0it [00:00, ?it/s]"
      ]
     },
     "metadata": {},
     "output_type": "display_data"
    },
    {
     "data": {
      "application/vnd.jupyter.widget-view+json": {
       "model_id": "2a5fc9c72ee3447f8886858265f3fb03",
       "version_major": 2,
       "version_minor": 0
      },
      "text/plain": [
       "Predicting: 0it [00:00, ?it/s]"
      ]
     },
     "metadata": {},
     "output_type": "display_data"
    },
    {
     "data": {
      "application/vnd.jupyter.widget-view+json": {
       "model_id": "c656945f7faa4a688b814f6006e5f767",
       "version_major": 2,
       "version_minor": 0
      },
      "text/plain": [
       "Predicting: 0it [00:00, ?it/s]"
      ]
     },
     "metadata": {},
     "output_type": "display_data"
    },
    {
     "data": {
      "application/vnd.jupyter.widget-view+json": {
       "model_id": "756de481ec9f45d8bfa01f2e4bfc49ee",
       "version_major": 2,
       "version_minor": 0
      },
      "text/plain": [
       "Predicting: 0it [00:00, ?it/s]"
      ]
     },
     "metadata": {},
     "output_type": "display_data"
    },
    {
     "data": {
      "application/vnd.jupyter.widget-view+json": {
       "model_id": "031f40a71c4445b4b3408cdc61590e6e",
       "version_major": 2,
       "version_minor": 0
      },
      "text/plain": [
       "Predicting: 0it [00:00, ?it/s]"
      ]
     },
     "metadata": {},
     "output_type": "display_data"
    },
    {
     "data": {
      "application/vnd.jupyter.widget-view+json": {
       "model_id": "b27bccadf72c4b82a8634bea8ccbb7b9",
       "version_major": 2,
       "version_minor": 0
      },
      "text/plain": [
       "Predicting: 0it [00:00, ?it/s]"
      ]
     },
     "metadata": {},
     "output_type": "display_data"
    },
    {
     "data": {
      "application/vnd.jupyter.widget-view+json": {
       "model_id": "8b7e6556fa014414a6f63ec151c1da73",
       "version_major": 2,
       "version_minor": 0
      },
      "text/plain": [
       "Predicting: 0it [00:00, ?it/s]"
      ]
     },
     "metadata": {},
     "output_type": "display_data"
    },
    {
     "data": {
      "application/vnd.jupyter.widget-view+json": {
       "model_id": "b2ae36aa67014acf86997b6a5d5d703d",
       "version_major": 2,
       "version_minor": 0
      },
      "text/plain": [
       "Predicting: 0it [00:00, ?it/s]"
      ]
     },
     "metadata": {},
     "output_type": "display_data"
    },
    {
     "data": {
      "application/vnd.jupyter.widget-view+json": {
       "model_id": "b3254abdd3ca4d099eed74814af516c0",
       "version_major": 2,
       "version_minor": 0
      },
      "text/plain": [
       "Predicting: 0it [00:00, ?it/s]"
      ]
     },
     "metadata": {},
     "output_type": "display_data"
    },
    {
     "data": {
      "application/vnd.jupyter.widget-view+json": {
       "model_id": "e16668ff29ea424ebbabc15d4479307f",
       "version_major": 2,
       "version_minor": 0
      },
      "text/plain": [
       "Predicting: 0it [00:00, ?it/s]"
      ]
     },
     "metadata": {},
     "output_type": "display_data"
    },
    {
     "data": {
      "application/vnd.jupyter.widget-view+json": {
       "model_id": "2d5dd46babfb439d8b354da1b39b6f21",
       "version_major": 2,
       "version_minor": 0
      },
      "text/plain": [
       "Predicting: 0it [00:00, ?it/s]"
      ]
     },
     "metadata": {},
     "output_type": "display_data"
    },
    {
     "data": {
      "application/vnd.jupyter.widget-view+json": {
       "model_id": "287bec9f88264fe9a4917277184f74c6",
       "version_major": 2,
       "version_minor": 0
      },
      "text/plain": [
       "Predicting: 0it [00:00, ?it/s]"
      ]
     },
     "metadata": {},
     "output_type": "display_data"
    },
    {
     "data": {
      "application/vnd.jupyter.widget-view+json": {
       "model_id": "e1689d98f9cf43f6a26a68044609559f",
       "version_major": 2,
       "version_minor": 0
      },
      "text/plain": [
       "Predicting: 0it [00:00, ?it/s]"
      ]
     },
     "metadata": {},
     "output_type": "display_data"
    },
    {
     "data": {
      "application/vnd.jupyter.widget-view+json": {
       "model_id": "ba0246cad302446abea5ed72253791db",
       "version_major": 2,
       "version_minor": 0
      },
      "text/plain": [
       "Predicting: 0it [00:00, ?it/s]"
      ]
     },
     "metadata": {},
     "output_type": "display_data"
    },
    {
     "data": {
      "application/vnd.jupyter.widget-view+json": {
       "model_id": "94ab8d613fcd4729a509a996779d515b",
       "version_major": 2,
       "version_minor": 0
      },
      "text/plain": [
       "Predicting: 0it [00:00, ?it/s]"
      ]
     },
     "metadata": {},
     "output_type": "display_data"
    },
    {
     "data": {
      "application/vnd.jupyter.widget-view+json": {
       "model_id": "05c5fe2bf93946d582124837bf7e0749",
       "version_major": 2,
       "version_minor": 0
      },
      "text/plain": [
       "Predicting: 0it [00:00, ?it/s]"
      ]
     },
     "metadata": {},
     "output_type": "display_data"
    },
    {
     "data": {
      "application/vnd.jupyter.widget-view+json": {
       "model_id": "891d0cae92194cc4bd146a742b7a3990",
       "version_major": 2,
       "version_minor": 0
      },
      "text/plain": [
       "Predicting: 0it [00:00, ?it/s]"
      ]
     },
     "metadata": {},
     "output_type": "display_data"
    },
    {
     "data": {
      "application/vnd.jupyter.widget-view+json": {
       "model_id": "b6bda2361e1f4414ad62b3fb3fa9cf3b",
       "version_major": 2,
       "version_minor": 0
      },
      "text/plain": [
       "Predicting: 0it [00:00, ?it/s]"
      ]
     },
     "metadata": {},
     "output_type": "display_data"
    },
    {
     "data": {
      "application/vnd.jupyter.widget-view+json": {
       "model_id": "2a582c7825284350a2dc25d49b84e1cc",
       "version_major": 2,
       "version_minor": 0
      },
      "text/plain": [
       "Predicting: 0it [00:00, ?it/s]"
      ]
     },
     "metadata": {},
     "output_type": "display_data"
    },
    {
     "data": {
      "application/vnd.jupyter.widget-view+json": {
       "model_id": "6a3bb0411f1a4ccab0eeed85cd8dc289",
       "version_major": 2,
       "version_minor": 0
      },
      "text/plain": [
       "Predicting: 0it [00:00, ?it/s]"
      ]
     },
     "metadata": {},
     "output_type": "display_data"
    },
    {
     "data": {
      "application/vnd.jupyter.widget-view+json": {
       "model_id": "7d08e9e117ad4605ae518e4d9f39afb8",
       "version_major": 2,
       "version_minor": 0
      },
      "text/plain": [
       "Predicting: 0it [00:00, ?it/s]"
      ]
     },
     "metadata": {},
     "output_type": "display_data"
    },
    {
     "data": {
      "application/vnd.jupyter.widget-view+json": {
       "model_id": "e9b86033d38a45ffb0be083c3c788de7",
       "version_major": 2,
       "version_minor": 0
      },
      "text/plain": [
       "Predicting: 0it [00:00, ?it/s]"
      ]
     },
     "metadata": {},
     "output_type": "display_data"
    },
    {
     "data": {
      "application/vnd.jupyter.widget-view+json": {
       "model_id": "f8beb36e3627457aa4f547d38b99cc67",
       "version_major": 2,
       "version_minor": 0
      },
      "text/plain": [
       "Predicting: 0it [00:00, ?it/s]"
      ]
     },
     "metadata": {},
     "output_type": "display_data"
    },
    {
     "data": {
      "application/vnd.jupyter.widget-view+json": {
       "model_id": "d3429fb23b9c48cfaad6a4a71a83d26e",
       "version_major": 2,
       "version_minor": 0
      },
      "text/plain": [
       "Predicting: 0it [00:00, ?it/s]"
      ]
     },
     "metadata": {},
     "output_type": "display_data"
    },
    {
     "data": {
      "application/vnd.jupyter.widget-view+json": {
       "model_id": "07fa4fec11bb4ac5970ce2261e6b93fc",
       "version_major": 2,
       "version_minor": 0
      },
      "text/plain": [
       "Predicting: 0it [00:00, ?it/s]"
      ]
     },
     "metadata": {},
     "output_type": "display_data"
    },
    {
     "data": {
      "application/vnd.jupyter.widget-view+json": {
       "model_id": "2070e1d3cc86430daa49fe83ca83b54b",
       "version_major": 2,
       "version_minor": 0
      },
      "text/plain": [
       "Predicting: 0it [00:00, ?it/s]"
      ]
     },
     "metadata": {},
     "output_type": "display_data"
    }
   ],
   "source": [
    "pred_series = model_nbeats.historical_forecasts(\n",
    "    data,\n",
    "    start=pd.Timestamp(\"20230107\"),\n",
    "    forecast_horizon=10,\n",
    "    stride=1,\n",
    "    retrain=False,\n",
    "    verbose=True,\n",
    ")"
   ]
  },
  {
   "cell_type": "code",
   "execution_count": 157,
   "id": "e5e5fbbd-1940-4b2b-be78-dc739014f82e",
   "metadata": {
    "tags": []
   },
   "outputs": [
    {
     "data": {
      "image/png": "[encoded data removed]",
      "text/plain": [
       "<Figure size 800x500 with 1 Axes>"
      ]
     },
     "metadata": {},
     "output_type": "display_data"
    }
   ],
   "source": [
    "display_forecast(pred_series, series, \"7 day\", start_date=pd.Timestamp(\"20230107\"))"
   ]
  },
  {
   "cell_type": "code",
   "execution_count": null,
   "id": "7f36f708-2473-4f16-9f24-c20027e32909",
   "metadata": {},
   "outputs": [],
   "source": []
  }
 ],
 "metadata": {
  "kernelspec": {
   "display_name": "Python 3 (ipykernel)",
   "language": "python",
   "name": "python3"
  },
  "language_info": {
   "codemirror_mode": {
    "name": "ipython",
    "version": 3
   },
   "file_extension": ".py",
   "mimetype": "text/x-python",
   "name": "python",
   "nbconvert_exporter": "python",
   "pygments_lexer": "ipython3",
   "version": "3.10.0"
  }
 },
 "nbformat": 4,
 "nbformat_minor": 5
}
