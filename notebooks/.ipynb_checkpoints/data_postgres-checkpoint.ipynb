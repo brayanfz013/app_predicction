{
 "cells": [
  {
   "cell_type": "code",
   "execution_count": 1,
   "id": "de55f390-f37e-4a50-9e7b-5f73408af5de",
   "metadata": {
    "tags": []
   },
   "outputs": [],
   "source": [
    "import os\n",
    "import sys \n",
    "\n",
    "path_folder = '/home/bdebian/Documents/Projects/Stoke_prediccition/app_prediction/'\n",
    "omitir = ''\n",
    "\n",
    "\n",
    "def search_subfolders(path:str):\n",
    "    '''Funcion para agregar rutas al path de ejecucion'''\n",
    "    folder = []\n",
    "    for root, dirs, _ in os.walk(path, topdown=False):\n",
    "        for name in dirs:\n",
    "            if name == omitir:\n",
    "                print(f\"[INFO] carpeta omitida: {name}\")\n",
    "            else:f\n",
    "                folder.append(os.path.join(root, name))\n",
    "    return folder\n",
    "\n",
    "\n",
    "for i in search_subfolders(path_folder):\n",
    "    sys.path.insert(0, i)"
   ]
  },
  {
   "cell_type": "code",
   "execution_count": 2,
   "id": "639c36ab-dab9-4769-956a-ded8c2a13815",
   "metadata": {
    "tags": []
   },
   "outputs": [],
   "source": [
    "import pandas as pd\n",
    "import json"
   ]
  },
  {
   "cell_type": "code",
   "execution_count": 3,
   "id": "f45e0939-5d96-4013-9cca-519dd7b42123",
   "metadata": {
    "tags": []
   },
   "outputs": [
    {
     "name": "stdout",
     "output_type": "stream",
     "text": [
      "attempted relative import with no known parent package\n",
      "Insercion de carpetas al path\n",
      "attempted relative import with no known parent package\n",
      "Insercion de carpetas al path\n"
     ]
    }
   ],
   "source": [
    "from features_postgres import HandleDBpsql\n",
    "from features_redis import HandleRedis\n",
    "from class_load import LoadFiles"
   ]
  },
  {
   "cell_type": "markdown",
   "id": "7b73dafc-e736-484b-a6fa-06ca75c5238e",
   "metadata": {},
   "source": [
    "### Prueba de conexiones y libreria HandleDBpsql"
   ]
  },
  {
   "cell_type": "code",
   "execution_count": 6,
   "id": "fb7e6766-9cab-468e-a613-cd2285207936",
   "metadata": {
    "tags": []
   },
   "outputs": [],
   "source": [
    "LOGGER_CONFIG = '/home/bdebian/Documents/Projects/Stoke_prediccition/app_prediction/src/data/config/logging.conf'\n",
    "pg_handler = HandleDBpsql(logfile=LOGGER_CONFIG)"
   ]
  },
  {
   "cell_type": "markdown",
   "id": "777b30ac-a758-4c45-9855-1aed2c322629",
   "metadata": {},
   "source": [
    "Rutas de archivos para crear tablas"
   ]
  },
  {
   "cell_type": "markdown",
   "id": "cc55a778-c6d6-4f0a-a631-b40c02f76610",
   "metadata": {},
   "source": [
    "Query para crear tabla en la base de datos"
   ]
  },
  {
   "cell_type": "code",
   "execution_count": 37,
   "id": "72f3cc02-3292-48eb-964a-28d77adea98d",
   "metadata": {},
   "outputs": [],
   "source": [
    "QUERY_DATA = '/home/bdebian/Documents/Projects/Stoke_prediccition/app_prediction/src/data/querys/create_table.sql'\n",
    "CONNECTION_PARAMETERS = '/home/bdebian/Documents/Projects/Stoke_prediccition/app_prediction/src/data/config/database_postgrest.ini'"
   ]
  },
  {
   "cell_type": "code",
   "execution_count": null,
   "id": "65929c3b-4a28-4640-af10-8f0c9a55f6eb",
   "metadata": {},
   "outputs": [],
   "source": [
    "parameter_connection = pg_handler.get_config_file(CONNECTION_PARAMETERS,section='postgresql')\n",
    "\n",
    "query_data_ready = pg_handler.prepare_query(QUERY_DATA)\n",
    "\n",
    "pg_handler.send_query(connection_parameters=CONNECTION_PARAMETERS, query=query_data_ready)"
   ]
  },
  {
   "cell_type": "markdown",
   "id": "2014412e-64f4-4920-8510-05827cc706f4",
   "metadata": {
    "tags": []
   },
   "source": [
    "Rutas para insertar datos desde un archivo csv a postgres"
   ]
  },
  {
   "cell_type": "markdown",
   "id": "ed19f88c-92c7-4e94-8c4e-985e9c9a1482",
   "metadata": {
    "tags": []
   },
   "source": [
    "Query para insertar los datos a postgres"
   ]
  },
  {
   "cell_type": "code",
   "execution_count": 17,
   "id": "418f58bb-af74-4088-a010-b1bcf2444760",
   "metadata": {
    "tags": []
   },
   "outputs": [],
   "source": [
    "QUERY_DATA = '/home/bdebian/Documents/Projects/Stoke_prediccition/app_prediction/src/data/querys/insert_data.sql'\n",
    "CONNECTION_PARAMETERS = '/home/bdebian/Documents/Projects/Stoke_prediccition/app_prediction/src/data/config/database_postgrest.ini'\n",
    "DATA_TO_INSERT = '/mnt/data extra/DATASET/PREDICTION_DATA/data_completa.csv'"
   ]
  },
  {
   "cell_type": "code",
   "execution_count": 19,
   "id": "c41479ef-ab35-4ac0-9ff9-10b7be918d29",
   "metadata": {
    "tags": []
   },
   "outputs": [
    {
     "name": "stdout",
     "output_type": "stream",
     "text": [
      "INSERT INTO position (index, \"Fecha Creación\", \"Material\", \"Material (Cod)\", \"Peso neto (TON)\", \"Solicitate\", \"Solicitate (Cod)\", \"Unidad Medida Base\", \"Unidad Medida Venta\", \"Cant Pedido UMV\", \"Valor Neto\", \"Contador Ped\")             VALUES (%s, %s, %s, %s, %s, %s, %s, %s, %s, %s, %s, %s)      \n"
     ]
    }
   ],
   "source": [
    "query_data_ready = pg_handler.prepare_query(QUERY_DATA)\n",
    "\n",
    "\n",
    "pg_handler.insert_data_from_csv(\n",
    "    connection_parameters=CONNECTION_PARAMETERS,\n",
    "    query=query_data_ready, \n",
    "    data_path=DATA_TO_INSERT)\n"
   ]
  },
  {
   "cell_type": "markdown",
   "id": "49f74c13-1b2e-4e09-b6b7-3b5b7a0db619",
   "metadata": {},
   "source": [
    "Rutas para Peticion de datos  a postgres"
   ]
  },
  {
   "cell_type": "markdown",
   "id": "2a6a27a7-38b3-4e5c-8a7e-1f114b3f794c",
   "metadata": {
    "tags": []
   },
   "source": [
    "Query para Obtener los datos a postgres"
   ]
  },
  {
   "cell_type": "code",
   "execution_count": 9,
   "id": "e9e427f9-891f-4630-b7a3-e34e43b22005",
   "metadata": {
    "tags": []
   },
   "outputs": [],
   "source": [
    "QUERY_DATA = '/home/bdebian/Documents/Projects/Stoke_prediccition/app_prediction/src/data/querys/get_table.sql'\n",
    "CONNECTION_PARAMETERS = '/home/bdebian/Documents/Projects/Stoke_prediccition/app_prediction/src/data/config/database_postgrest.ini'"
   ]
  },
  {
   "cell_type": "code",
   "execution_count": 10,
   "id": "44eacc38-e46d-4a40-b9e0-46fd5caac31d",
   "metadata": {
    "tags": []
   },
   "outputs": [],
   "source": [
    "query_data_ready = pg_handler.prepare_query(QUERY_DATA)\n",
    "\n",
    "data_postgres = pg_handler.get_table(\n",
    "    connection_parameters=CONNECTION_PARAMETERS,\n",
    "    query=query_data_ready, \n",
    "    )"
   ]
  },
  {
   "cell_type": "markdown",
   "id": "a5545836-1bc8-4d93-b2c9-7166b2d561eb",
   "metadata": {},
   "source": [
    "Rutas para Peticion de datos  a postgres"
   ]
  },
  {
   "cell_type": "markdown",
   "id": "4d9352d9-678a-47f9-a39b-1d72b17881c4",
   "metadata": {
    "tags": []
   },
   "source": [
    "Query para Obtener los datos a postgres"
   ]
  },
  {
   "cell_type": "code",
   "execution_count": 4,
   "id": "27b91fca-78ba-4e5e-8365-83f9e5a578e0",
   "metadata": {
    "tags": []
   },
   "outputs": [],
   "source": [
    "QUERY_DATA = '/home/bdebian/Documents/Projects/Stoke_prediccition/app_prediction/src/data/querys/get_table.sql'\n",
    "CONNECTION_PARAMETERS = '/home/bdebian/Documents/Projects/Stoke_prediccition/app_prediction/src/data/config/database_postgrest.ini'"
   ]
  },
  {
   "cell_type": "code",
   "execution_count": 16,
   "id": "6754e096-1ec6-4eee-807a-ff89684db379",
   "metadata": {
    "tags": []
   },
   "outputs": [],
   "source": [
    "columnas = [\"Fecha Creación\",\"Material (Cod)\",\"Peso neto (TON)\",\"Solicitate (Cod)\",\"Cant Pedido UMV\",\"Valor Neto\"]\n",
    "table = 'position'\n",
    "\n",
    "data_replace = {\n",
    "    'table':table,\n",
    "    'columns':', '.join(['\"' + columna + '\"' for columna in columnas]),\n",
    "    \"order\":\"index\",\n",
    "    \"where\": \"posicion > 1\"\n",
    "               }\n",
    "\n",
    "query_data_ready = pg_handler.prepare_query_replace_value(QUERY_DATA,data_replace)\n",
    "\n",
    "data_postgres = pg_handler.get_table(\n",
    "    connection_parameters=CONNECTION_PARAMETERS,\n",
    "    query=query_data_ready, \n",
    "    )\n",
    "\n",
    "# pd.DataFrame(data_postgres)"
   ]
  },
  {
   "cell_type": "markdown",
   "id": "399e78df-e929-411f-8dda-e5c4a6f61bed",
   "metadata": {},
   "source": [
    "### Prueba de conexiones y libreria HandleRedis"
   ]
  },
  {
   "cell_type": "code",
   "execution_count": 20,
   "id": "8d24adb0-650b-4c47-abd1-b7cf53b68d05",
   "metadata": {
    "tags": []
   },
   "outputs": [],
   "source": [
    "CONNECTION_PARAMETERS = '/home/bdebian/Documents/Projects/Stoke_prediccition/app_prediction/src/data/config/database_postgrest.ini'\n",
    "# INIT_DATA_REDIS ='/home/bdebian/Documents/Projects/Stoke_prediccition/app_prediction/src/data/querys/template_redis.json'\n",
    "LOGGER_CONFIG = '/home/bdebian/Documents/Projects/Stoke_prediccition/app_prediction/src/data/config/logging.conf'\n",
    "DATA_TO_INSERT = '/mnt/data extra/DATASET/PREDICTION_DATA/data_completa.csv'\n",
    "\n",
    "rd_handler = HandleRedis(logfile=LOGGER_CONFIG)\n",
    "loader = LoadFiles()\n",
    "\n",
    "data_to_redis = pd.read_csv(DATA_TO_INSERT,index_col=[0])\n",
    "\n",
    "# create_data = loader.json_to_dict(INIT_DATA_REDIS)[0]\n",
    "\n",
    "hasd_name = 'position'\n",
    "create_data = {hasd_name:{}}\n",
    "\n",
    "create_datahasd_name = {str(key): value for key, value in data_to_redis.to_dict('index').items()}"
   ]
  },
  {
   "cell_type": "code",
   "execution_count": null,
   "id": "1604c302-c746-4f61-b06f-3b4337a7cf95",
   "metadata": {},
   "outputs": [],
   "source": [
    "#Escritura de informacion \n",
    "rd_handler.set_dict_data(hasd_name,create_data,CONNECTION_PARAMETERS )"
   ]
  },
  {
   "cell_type": "code",
   "execution_count": 23,
   "id": "64a0f234-8b88-469f-81ba-084b9f88e9d2",
   "metadata": {
    "tags": []
   },
   "outputs": [],
   "source": [
    "#Lectura de informacion \n",
    "data = rd_handler.get_dict_data(hasd_name,CONNECTION_PARAMETERS )"
   ]
  },
  {
   "cell_type": "code",
   "execution_count": 30,
   "id": "c25411e3-86d6-4e24-aa7f-315aa40aa802",
   "metadata": {
    "tags": []
   },
   "outputs": [
    {
     "data": {
      "text/html": [
       "<div>\n",
       "<style scoped>\n",
       "    .dataframe tbody tr th:only-of-type {\n",
       "        vertical-align: middle;\n",
       "    }\n",
       "\n",
       "    .dataframe tbody tr th {\n",
       "        vertical-align: top;\n",
       "    }\n",
       "\n",
       "    .dataframe thead th {\n",
       "        text-align: right;\n",
       "    }\n",
       "</style>\n",
       "<table border=\"1\" class=\"dataframe\">\n",
       "  <thead>\n",
       "    <tr style=\"text-align: right;\">\n",
       "      <th></th>\n",
       "      <th>Fecha Creación</th>\n",
       "      <th>Material</th>\n",
       "      <th>Material (Cod)</th>\n",
       "      <th>Peso neto (TON)</th>\n",
       "      <th>Solicitate</th>\n",
       "      <th>Solicitate (Cod)</th>\n",
       "      <th>Unidad Medida Base</th>\n",
       "      <th>Unidad Medida Venta</th>\n",
       "      <th>Cant Pedido UMV</th>\n",
       "      <th>Valor Neto</th>\n",
       "      <th>Contador Ped</th>\n",
       "    </tr>\n",
       "  </thead>\n",
       "  <tbody>\n",
       "    <tr>\n",
       "      <th>0</th>\n",
       "      <td>8/26/2022</td>\n",
       "      <td>Vinilo Basico Tipo 2 Galon Tito Pabon</td>\n",
       "      <td>96049073.0</td>\n",
       "      <td>0.0696</td>\n",
       "      <td>DEPOSITO SAN CARLOS</td>\n",
       "      <td>0004174201</td>\n",
       "      <td>UN</td>\n",
       "      <td>UN</td>\n",
       "      <td>12.0</td>\n",
       "      <td>297.0</td>\n",
       "      <td>1</td>\n",
       "    </tr>\n",
       "    <tr>\n",
       "      <th>1</th>\n",
       "      <td>3/3/2023</td>\n",
       "      <td>Sellotoc Gris 25kg Toxement</td>\n",
       "      <td>96005249.0</td>\n",
       "      <td>0.0500</td>\n",
       "      <td>LA VALENCIANA MATERIALES PARA</td>\n",
       "      <td>4171362.0</td>\n",
       "      <td>UN</td>\n",
       "      <td>UN</td>\n",
       "      <td>2.0</td>\n",
       "      <td>125.7</td>\n",
       "      <td>1</td>\n",
       "    </tr>\n",
       "    <tr>\n",
       "      <th>2</th>\n",
       "      <td>3/19/2022</td>\n",
       "      <td>Cemento Fuerte Ecoplanet 50 kg</td>\n",
       "      <td>10011308.0</td>\n",
       "      <td>35.0000</td>\n",
       "      <td>COSUM CASANARE</td>\n",
       "      <td>0004126992</td>\n",
       "      <td>TO</td>\n",
       "      <td>SAC</td>\n",
       "      <td>700.0</td>\n",
       "      <td>10,059.3</td>\n",
       "      <td>1</td>\n",
       "    </tr>\n",
       "    <tr>\n",
       "      <th>3</th>\n",
       "      <td>1/4/2022</td>\n",
       "      <td>Holcim Oilwell/ Cem/Cl G/ Grado HSR/ Gra</td>\n",
       "      <td>10011318.0</td>\n",
       "      <td>34.0600</td>\n",
       "      <td>BASE BARRANCA</td>\n",
       "      <td>0004174934</td>\n",
       "      <td>TO</td>\n",
       "      <td>TO</td>\n",
       "      <td>34.1</td>\n",
       "      <td>28,899.3</td>\n",
       "      <td>1</td>\n",
       "    </tr>\n",
       "    <tr>\n",
       "      <th>4</th>\n",
       "      <td>5/10/2022</td>\n",
       "      <td>CEMENTO INDS. FUERTE TIPO ART GRANEL</td>\n",
       "      <td>10070707.0</td>\n",
       "      <td>33.6800</td>\n",
       "      <td>HORMIGON ANDINO S A</td>\n",
       "      <td>0004172917</td>\n",
       "      <td>TO</td>\n",
       "      <td>TO</td>\n",
       "      <td>33.7</td>\n",
       "      <td>11,308.1</td>\n",
       "      <td>1</td>\n",
       "    </tr>\n",
       "    <tr>\n",
       "      <th>...</th>\n",
       "      <td>...</td>\n",
       "      <td>...</td>\n",
       "      <td>...</td>\n",
       "      <td>...</td>\n",
       "      <td>...</td>\n",
       "      <td>...</td>\n",
       "      <td>...</td>\n",
       "      <td>...</td>\n",
       "      <td>...</td>\n",
       "      <td>...</td>\n",
       "      <td>...</td>\n",
       "    </tr>\n",
       "    <tr>\n",
       "      <th>105666</th>\n",
       "      <td>2/23/2022</td>\n",
       "      <td>Tanque Eternit 1.000 Lt C/Salida Negro</td>\n",
       "      <td>96003792.0</td>\n",
       "      <td>0.0285</td>\n",
       "      <td>MARTINEZ SUAREZ JOSE EIDER - CON -</td>\n",
       "      <td>0004135748</td>\n",
       "      <td>UN</td>\n",
       "      <td>UN</td>\n",
       "      <td>2.0</td>\n",
       "      <td>579.7</td>\n",
       "      <td>1</td>\n",
       "    </tr>\n",
       "    <tr>\n",
       "      <th>105667</th>\n",
       "      <td>6/16/2022</td>\n",
       "      <td>CEMENTO ESPECIAL PLUS (ESP+)</td>\n",
       "      <td>10059053.0</td>\n",
       "      <td>33.5600</td>\n",
       "      <td>HOLCIM COLOMBIA KCHK</td>\n",
       "      <td>0004102519</td>\n",
       "      <td>TO</td>\n",
       "      <td>TO</td>\n",
       "      <td>33.6</td>\n",
       "      <td>11,817.9</td>\n",
       "      <td>1</td>\n",
       "    </tr>\n",
       "    <tr>\n",
       "      <th>105668</th>\n",
       "      <td>1/29/2022</td>\n",
       "      <td>Cemento Fuerte Ecoplanet 42,5kg</td>\n",
       "      <td>10011309.0</td>\n",
       "      <td>17.8500</td>\n",
       "      <td>COSUM  SAS  -  ARAUCA - 42,5 KGS -</td>\n",
       "      <td>0004154274</td>\n",
       "      <td>TO</td>\n",
       "      <td>SAC</td>\n",
       "      <td>420.0</td>\n",
       "      <td>4,689.1</td>\n",
       "      <td>1</td>\n",
       "    </tr>\n",
       "    <tr>\n",
       "      <th>105669</th>\n",
       "      <td>4/6/2022</td>\n",
       "      <td>Cemento Fuerte Ecoplanet 25 kg</td>\n",
       "      <td>10060437.0</td>\n",
       "      <td>2.0000</td>\n",
       "      <td>DEPOSITO SAN CARLOS</td>\n",
       "      <td>0004174201</td>\n",
       "      <td>TO</td>\n",
       "      <td>SAC</td>\n",
       "      <td>160.0</td>\n",
       "      <td>1,236.7</td>\n",
       "      <td>2</td>\n",
       "    </tr>\n",
       "    <tr>\n",
       "      <th>105670</th>\n",
       "      <td>8/10/2022</td>\n",
       "      <td>Cemento Fuerte Ecoplanet 50 kg</td>\n",
       "      <td>10011308.0</td>\n",
       "      <td>5.0000</td>\n",
       "      <td>FERREBATEA</td>\n",
       "      <td>0004165627</td>\n",
       "      <td>TO</td>\n",
       "      <td>SAC</td>\n",
       "      <td>200.0</td>\n",
       "      <td>4,163.5</td>\n",
       "      <td>2</td>\n",
       "    </tr>\n",
       "  </tbody>\n",
       "</table>\n",
       "<p>105671 rows × 11 columns</p>\n",
       "</div>"
      ],
      "text/plain": [
       "       Fecha Creación                                  Material  \\\n",
       "0           8/26/2022     Vinilo Basico Tipo 2 Galon Tito Pabon   \n",
       "1            3/3/2023               Sellotoc Gris 25kg Toxement   \n",
       "2           3/19/2022            Cemento Fuerte Ecoplanet 50 kg   \n",
       "3            1/4/2022  Holcim Oilwell/ Cem/Cl G/ Grado HSR/ Gra   \n",
       "4           5/10/2022      CEMENTO INDS. FUERTE TIPO ART GRANEL   \n",
       "...               ...                                       ...   \n",
       "105666      2/23/2022    Tanque Eternit 1.000 Lt C/Salida Negro   \n",
       "105667      6/16/2022              CEMENTO ESPECIAL PLUS (ESP+)   \n",
       "105668      1/29/2022           Cemento Fuerte Ecoplanet 42,5kg   \n",
       "105669       4/6/2022            Cemento Fuerte Ecoplanet 25 kg   \n",
       "105670      8/10/2022            Cemento Fuerte Ecoplanet 50 kg   \n",
       "\n",
       "        Material (Cod)  Peso neto (TON)                          Solicitate  \\\n",
       "0           96049073.0           0.0696                 DEPOSITO SAN CARLOS   \n",
       "1           96005249.0           0.0500       LA VALENCIANA MATERIALES PARA   \n",
       "2           10011308.0          35.0000                      COSUM CASANARE   \n",
       "3           10011318.0          34.0600                       BASE BARRANCA   \n",
       "4           10070707.0          33.6800                 HORMIGON ANDINO S A   \n",
       "...                ...              ...                                 ...   \n",
       "105666      96003792.0           0.0285  MARTINEZ SUAREZ JOSE EIDER - CON -   \n",
       "105667      10059053.0          33.5600                HOLCIM COLOMBIA KCHK   \n",
       "105668      10011309.0          17.8500  COSUM  SAS  -  ARAUCA - 42,5 KGS -   \n",
       "105669      10060437.0           2.0000                 DEPOSITO SAN CARLOS   \n",
       "105670      10011308.0           5.0000                          FERREBATEA   \n",
       "\n",
       "       Solicitate (Cod) Unidad Medida Base Unidad Medida Venta  \\\n",
       "0            0004174201                 UN                  UN   \n",
       "1             4171362.0                 UN                  UN   \n",
       "2            0004126992                 TO                 SAC   \n",
       "3            0004174934                 TO                  TO   \n",
       "4            0004172917                 TO                  TO   \n",
       "...                 ...                ...                 ...   \n",
       "105666       0004135748                 UN                  UN   \n",
       "105667       0004102519                 TO                  TO   \n",
       "105668       0004154274                 TO                 SAC   \n",
       "105669       0004174201                 TO                 SAC   \n",
       "105670       0004165627                 TO                 SAC   \n",
       "\n",
       "       Cant Pedido UMV Valor Neto  Contador Ped  \n",
       "0                 12.0      297.0             1  \n",
       "1                  2.0      125.7             1  \n",
       "2                700.0   10,059.3             1  \n",
       "3                 34.1   28,899.3             1  \n",
       "4                 33.7   11,308.1             1  \n",
       "...                ...        ...           ...  \n",
       "105666             2.0      579.7             1  \n",
       "105667            33.6   11,817.9             1  \n",
       "105668           420.0    4,689.1             1  \n",
       "105669           160.0    1,236.7             2  \n",
       "105670           200.0    4,163.5             2  \n",
       "\n",
       "[105671 rows x 11 columns]"
      ]
     },
     "execution_count": 30,
     "metadata": {},
     "output_type": "execute_result"
    }
   ],
   "source": [
    "#Conversion de informacion leida\n",
    "pd.DataFrame(data['position'].values())"
   ]
  }
 ],
 "metadata": {
  "kernelspec": {
   "display_name": "Python 3 (ipykernel)",
   "language": "python",
   "name": "python3"
  },
  "language_info": {
   "codemirror_mode": {
    "name": "ipython",
    "version": 3
   },
   "file_extension": ".py",
   "mimetype": "text/x-python",
   "name": "python",
   "nbconvert_exporter": "python",
   "pygments_lexer": "ipython3",
   "version": "3.10.0"
  }
 },
 "nbformat": 4,
 "nbformat_minor": 5
}
